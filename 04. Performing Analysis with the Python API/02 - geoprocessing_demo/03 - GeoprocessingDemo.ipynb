{
 "cells": [
  {
   "cell_type": "markdown",
   "metadata": {},
   "source": [
    "# Analysis with Geoprocessing"
   ]
  },
  {
   "cell_type": "code",
   "execution_count": 1,
   "metadata": {},
   "outputs": [],
   "source": [
    "from arcgis.gis import GIS\n",
    "from arcgis.geocoding import geocode\n",
    "from IPython.display import display\n",
    "from arcgis.features import FeatureSet, Feature"
   ]
  },
  {
   "cell_type": "code",
   "execution_count": 2,
   "metadata": {},
   "outputs": [],
   "source": [
    "from arcgis.geoprocessing import import_toolbox"
   ]
  },
  {
   "cell_type": "markdown",
   "metadata": {},
   "source": [
    "### Create the GIS Object"
   ]
  },
  {
   "cell_type": "code",
   "execution_count": 3,
   "metadata": {},
   "outputs": [],
   "source": [
    "gis = GIS(profile='agol_profile')"
   ]
  },
  {
   "cell_type": "markdown",
   "metadata": {},
   "source": [
    "### Find and Create a Geoprocessing Toolbox"
   ]
  },
  {
   "cell_type": "code",
   "execution_count": 4,
   "metadata": {},
   "outputs": [
    {
     "data": {
      "text/html": [
       "<div class=\"item_container\" style=\"height: auto; overflow: hidden; border: 1px solid #cfcfcf; border-radius: 2px; background: #f6fafa; line-height: 1.21429em; padding: 10px;\">\n",
       "                    <div class=\"item_left\" style=\"width: 210px; float: left;\">\n",
       "                       <a href='https://arcgissolutions.maps.arcgis.com/home/item.html?id=1ff463dbeac14b619b9edbd7a9437037' target='_blank'>\n",
       "                        <img src='data:image/png;base64,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' width='200' height='133' class=\"itemThumbnail\">\n",
       "                       </a>\n",
       "                    </div>\n",
       "\n",
       "                    <div class=\"item_right\"     style=\"float: none; width: auto; overflow: hidden;\">\n",
       "                        <a href='https://arcgissolutions.maps.arcgis.com/home/item.html?id=1ff463dbeac14b619b9edbd7a9437037' target='_blank'><b>Viewshed</b>\n",
       "                        </a>\n",
       "                        <br/>Identifies visible areas based upon user provided observation point location(s) and ArcGIS Online hosted elevation data.<img src='https://arcgissolutions.maps.arcgis.com/home/js/jsapi/esri/css/images/item_type_icons/layers16.png' style=\"vertical-align:middle;\">Geoprocessing Toolbox by esri\n",
       "                        <br/>Last Modified: April 03, 2019\n",
       "                        <br/>1 comments, 1,818 views\n",
       "                    </div>\n",
       "                </div>\n",
       "                "
      ],
      "text/plain": [
       "<Item title:\"Viewshed\" type:Geoprocessing Toolbox owner:esri>"
      ]
     },
     "execution_count": 4,
     "metadata": {},
     "output_type": "execute_result"
    }
   ],
   "source": [
    "toolbox_item = gis.content.search(\"viewshed owner:esri\", \n",
    "                                  item_type=\"geoprocessing toolbox\", \n",
    "                                  max_items=1, outside_org=True)[0]\n",
    "toolbox_item"
   ]
  },
  {
   "cell_type": "code",
   "execution_count": 5,
   "metadata": {},
   "outputs": [],
   "source": [
    "tbx = import_toolbox(toolbox_item)"
   ]
  },
  {
   "cell_type": "markdown",
   "metadata": {},
   "source": [
    "<img src=\"./img/loadedgp.png\"  style=\"float:left\"> \n",
    "    <div style=\"position: relative; width:600px;\">\n",
    "         <ul>\n",
    "         <div id=\"spacer\" style=\"width: 30px; height: 100px; float:left; display:inline-block\"></div>\n",
    "            <li>Creates a <b>Toolbox</b> like object</li>\n",
    "        <li>Loads the help and tools into the toolbox</li>\n",
    "    <li>Each <b>Tool</b> appears as a Python Method</li>\n",
    "         </ul>  \n",
    "    \n",
    " </div>\n",
    "\n",
    "</img>"
   ]
  },
  {
   "cell_type": "markdown",
   "metadata": {},
   "source": [
    "### Examine the Tool's Help"
   ]
  },
  {
   "cell_type": "code",
   "execution_count": 6,
   "metadata": {},
   "outputs": [
    {
     "name": "stdout",
     "output_type": "stream",
     "text": [
      "Help on function viewshed:\n",
      "\n",
      "viewshed(input_points:arcgis.features.feature.FeatureSet={'displayFieldName': '', 'geometryType': 'esriGeometryPoint', 'spatialReference': {'wkid': 102100, 'latestWkid': 3857}, 'fields': [{'name': 'OID', 'type': 'esriFieldTypeOID', 'alias': 'OID'}, {'name': 'offseta', 'type': 'esriFieldTypeDouble', 'alias': 'offseta'}, {'name': 'offsetb', 'type': 'esriFieldTypeDouble', 'alias': 'offsetb'}], 'features': [], 'exceededTransferLimit': False}, maximum_distance:float=None, maximum_distance_units:str='Meters', dem_resolution:str=None, observer_height:float=None, observer_height_units:str='Meters', surface_offset:float=None, surface_offset_units:str='Meters', generalize_viewshed_polygons:bool=True, gis=None) -> arcgis.features.feature.FeatureSet\n",
      "            \n",
      "    Returns polygons of visible areas for a given set of input observation points.\n",
      "    \n",
      "    Parameters:\n",
      "    \n",
      "       input_points: Input Point Features (FeatureSet). Required parameter.  The point features to use as the observer locations.\n",
      "    \n",
      "       maximum_distance: Maximum Distance (float). Optional parameter.  The maximum distance to calculate the viewshed.\n",
      "    \n",
      "       maximum_distance_units: Maximum Distance Units (str). Optional parameter.  The units for the Maximum Distance parameter. The default is meters.Meters — The units are meters. This is the default.Kilometers — The units are kilometers.Feet — The units are feet.Yards — The units are yards.Miles — The units are miles.\n",
      "          Choice list:['Meters', 'Kilometers', 'Feet', 'Yards', 'Miles']\n",
      "    \n",
      "       dem_resolution: DEM Resolution (str). Optional parameter.  The approximate spatial resolution (cell size) of the source elevation data used for the calculation. The default is 90m.The resolution keyword is an approximation of the spatial resolution of the digital elevation model. Many elevation sources are distributed with units of arc seconds, the keyword is an approximation in meters for easier understanding.FINEST — The finest units available for the extent are used.10m — the elevation source resolution is 1/3 arc second, or approximately 10 meters.24m — the elevation source is the Airbus WorldDEM4Ortho dataset at 24 meters resolution.30m — the elevation source resolution is 1 arc second, or approximately 30 meters.90m — the elevation source resolution is 3 arc second, or approximately 90 meters.\n",
      "          Choice list:[' ', 'FINEST', '10m', '24m', '30m', '90m']\n",
      "    \n",
      "       observer_height: Observer Height (float). Optional parameter.  The height above the surface of the observer. The default value of 1.75 meters is an average height of a person. If you are looking from an elevated location such as an observation tower or a tall building, use that height instead.\n",
      "    \n",
      "       observer_height_units: Observer Height Units (str). Optional parameter.  The units for the Observer Height parameter. The default is meters.Meters — The units are meters. This is the default.Kilometers — The units are kilometers.Feet — The units are feet.Yards — The units are yards.Miles — The units are miles.\n",
      "          Choice list:['Meters', 'Kilometers', 'Feet', 'Yards', 'Miles']\n",
      "    \n",
      "       surface_offset: Surface Offset (float). Optional parameter.  The height above the surface of the object you are trying to see. The default value is 0. If you are trying to see buildings or wind turbines use their height here.\n",
      "    \n",
      "       surface_offset_units: Surface Offset Units (str). Optional parameter.  The units for the Surface Offset parameter. The default is meters.Meters — The units are meters. This is the default.Kilometers — The units are kilometers.Feet — The units are feet.Yards —The units are yards.Miles — The units are miles.\n",
      "          Choice list:['Meters', 'Kilometers', 'Feet', 'Yards', 'Miles']\n",
      "    \n",
      "       generalize_viewshed_polygons: Generalize Viewshed Polygons (bool). Optional parameter.  Determine if the viewshed polygons are to be generalized or not.The viewshed calculation is based upon a raster elevation model which creates a result with stair-stepped edges. To create a more pleasing appearance and improve performance, the default behavior is to generalize the polygons. This generalization will not change the accuracy of the result for any location more than one half of the DEM's resolution.Checked — Generalizes the results. This is the default.Unchecked — No generalization of the output polygons will occur.\n",
      "    \n",
      "            gis: Optional, the GIS on which this tool runs. If not specified, the active GIS is used.\n",
      "    \n",
      "    \n",
      "    Returns: \n",
      "       output_viewshed - Output Viewshed as a FeatureSet\n",
      "    \n",
      "    See https://ec2-54-214-124-154.us-west-2.compute.amazonaws.com:6443/arcgis/rest/directories/arcgisoutput/Tools/Elevation_GPServer/Tools_Elevation/Viewshed.htm for additional help.\n",
      "\n"
     ]
    }
   ],
   "source": [
    "help(tbx.viewshed)"
   ]
  },
  {
   "cell_type": "markdown",
   "metadata": {},
   "source": [
    "### Performing Analysis"
   ]
  },
  {
   "cell_type": "markdown",
   "metadata": {},
   "source": [
    "### Building an Interactive Map"
   ]
  },
  {
   "cell_type": "code",
   "execution_count": 11,
   "metadata": {
    "scrolled": true
   },
   "outputs": [
    {
     "data": {
      "application/vnd.jupyter.widget-view+json": {
       "model_id": "556f4677e55c4fff8524daf711717035",
       "version_major": 2,
       "version_minor": 0
      },
      "text/plain": [
       "MapView(layout=Layout(height='400px', width='100%'))"
      ]
     },
     "metadata": {},
     "output_type": "display_data"
    },
    {
     "data": {
      "text/html": [
       "<div class=\"map-static-img-preview-d5e232ee-d321-4ad7-8e8a-4da5496a7040\"><img src=\"\"></img></div>"
      ],
      "text/plain": [
       "<IPython.core.display.HTML object>"
      ]
     },
     "metadata": {},
     "output_type": "display_data"
    },
    {
     "name": "stdout",
     "output_type": "stream",
     "text": [
      "{'spatialReference': {'latestWkid': 3857, 'wkid': 102100}, 'x': -9285775.032535713, 'y': 4022564.2183839795, 'type': 'point'}\n"
     ]
    }
   ],
   "source": [
    "map1 = gis.map(\"Athens, GA\")\n",
    "map1.extent = {'spatialReference': {'latestWkid': 3857, 'wkid': 102100},\n",
    " 'xmin': -9290187.628717396,\n",
    " 'ymin': 4020613.2826698595,\n",
    " 'xmax': -9281024.739951722,\n",
    " 'ymax': 4024435.1340841134}\n",
    "map1"
   ]
  },
  {
   "cell_type": "code",
   "execution_count": 12,
   "metadata": {},
   "outputs": [],
   "source": [
    "def do_analysis(m, g):\n",
    "    map1.clear_graphics()\n",
    "    map1.remove_layers(map1.layers)\n",
    "    map1.draw(g, symbol={ \"type\": \"simple-marker\", \"style\": \"diamond\", \"color\": [230, 0, 0, 1] })\n",
    "    my_feature_set = FeatureSet([Feature(g)])\n",
    "    print(g)\n",
    "    # Pass the input location as a FeatureSet\n",
    "    #print('performing analysis')\n",
    "    #ret = tbx.viewshed(my_feature_set, 1000, dem_resolution='FINEST')\n",
    "    \n",
    "    # Render the resulting FeatureSet on the map using `draw()` method\n",
    "    #print('adding results')\n",
    "    #map1.add_layer(ret)\n",
    "    \n",
    "# Set the callback function that performs analysis. The `do_analysis` function is called whenever user clicks on the map.\n",
    "map1.on_click(do_analysis)"
   ]
  },
  {
   "cell_type": "code",
   "execution_count": 14,
   "metadata": {},
   "outputs": [
    {
     "data": {
      "text/plain": [
       "{'features': [{'geometry': {'spatialReference': {'latestWkid': 3857,\n",
       "     'wkid': 102100},\n",
       "    'x': -9285775.032535713,\n",
       "    'y': 4022564.2183839795,\n",
       "    'type': 'point'},\n",
       "   'attributes': {'OBJECTID': 1}}],\n",
       " 'objectIdFieldName': 'OBJECTID',\n",
       " 'spatialReference': {'latestWkid': 3857, 'wkid': 102100},\n",
       " 'geometryType': 'esriGeometryPoint',\n",
       " 'fields': [{'name': 'OBJECTID',\n",
       "   'type': 'esriFieldTypeOID',\n",
       "   'alias': 'OBJECTID',\n",
       "   'sqlType': 'sqlTypeOther'}]}"
      ]
     },
     "execution_count": 14,
     "metadata": {},
     "output_type": "execute_result"
    }
   ],
   "source": [
    "g = {'spatialReference': {'latestWkid': 3857, 'wkid': 102100}, 'x': -9285775.032535713, 'y': 4022564.2183839795, 'type': 'point'}\n",
    "my_feature_set = FeatureSet([Feature(g)])\n",
    "my_feature_set.to_dict()"
   ]
  },
  {
   "cell_type": "markdown",
   "metadata": {
    "heading_collapsed": true
   },
   "source": [
    "## Results\n",
    "\n"
   ]
  },
  {
   "cell_type": "markdown",
   "metadata": {
    "hidden": true
   },
   "source": [
    "<img src=\"./img/map_clip_results.png\" />"
   ]
  }
 ],
 "metadata": {
  "kernelspec": {
   "display_name": "Python 3",
   "language": "python",
   "name": "python3"
  },
  "language_info": {
   "codemirror_mode": {
    "name": "ipython",
    "version": 3
   },
   "file_extension": ".py",
   "mimetype": "text/x-python",
   "name": "python",
   "nbconvert_exporter": "python",
   "pygments_lexer": "ipython3",
   "version": "3.6.8"
  }
 },
 "nbformat": 4,
 "nbformat_minor": 2
}
