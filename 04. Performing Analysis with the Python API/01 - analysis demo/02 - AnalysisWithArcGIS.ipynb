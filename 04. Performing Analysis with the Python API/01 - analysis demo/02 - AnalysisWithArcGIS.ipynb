{
 "cells": [
  {
   "cell_type": "markdown",
   "metadata": {},
   "source": [
    "# Examining Political Donations"
   ]
  },
  {
   "cell_type": "code",
   "execution_count": 36,
   "metadata": {},
   "outputs": [],
   "source": [
    "from arcgis.gis import GIS\n",
    "from IPython.display import display\n",
    "import pandas as pd"
   ]
  },
  {
   "cell_type": "code",
   "execution_count": 37,
   "metadata": {},
   "outputs": [],
   "source": [
    "gis = GIS(profile='agol_profile')"
   ]
  },
  {
   "cell_type": "markdown",
   "metadata": {},
   "source": [
    "### Access and Geocode Address Data"
   ]
  },
  {
   "cell_type": "code",
   "execution_count": 38,
   "metadata": {},
   "outputs": [
    {
     "data": {
      "text/html": [
       "<div>\n",
       "<style scoped>\n",
       "    .dataframe tbody tr th:only-of-type {\n",
       "        vertical-align: middle;\n",
       "    }\n",
       "\n",
       "    .dataframe tbody tr th {\n",
       "        vertical-align: top;\n",
       "    }\n",
       "\n",
       "    .dataframe thead th {\n",
       "        text-align: right;\n",
       "    }\n",
       "</style>\n",
       "<table border=\"1\" class=\"dataframe\">\n",
       "  <thead>\n",
       "    <tr style=\"text-align: right;\">\n",
       "      <th></th>\n",
       "      <th>First_Name</th>\n",
       "      <th>Last_Name</th>\n",
       "      <th>Gender</th>\n",
       "      <th>Address</th>\n",
       "      <th>Address2</th>\n",
       "      <th>City</th>\n",
       "      <th>State</th>\n",
       "      <th>ZIP</th>\n",
       "      <th>Volunteer</th>\n",
       "      <th>Donate</th>\n",
       "    </tr>\n",
       "  </thead>\n",
       "  <tbody>\n",
       "    <tr>\n",
       "      <th>0</th>\n",
       "      <td>Guillermo</td>\n",
       "      <td>Abaye</td>\n",
       "      <td>M</td>\n",
       "      <td>5924 Sandy Rdg</td>\n",
       "      <td>NaN</td>\n",
       "      <td>Elkridge</td>\n",
       "      <td>MD</td>\n",
       "      <td>21075</td>\n",
       "      <td>yes</td>\n",
       "      <td>2700</td>\n",
       "    </tr>\n",
       "    <tr>\n",
       "      <th>1</th>\n",
       "      <td>Jack</td>\n",
       "      <td>Abel</td>\n",
       "      <td>F</td>\n",
       "      <td>8931 Footed Rdg</td>\n",
       "      <td>NaN</td>\n",
       "      <td>Columbia</td>\n",
       "      <td>MD</td>\n",
       "      <td>21045</td>\n",
       "      <td>no</td>\n",
       "      <td>0</td>\n",
       "    </tr>\n",
       "    <tr>\n",
       "      <th>2</th>\n",
       "      <td>Mary</td>\n",
       "      <td>Abel</td>\n",
       "      <td>M</td>\n",
       "      <td>11516 Jamestown Ct</td>\n",
       "      <td>NaN</td>\n",
       "      <td>Laurel</td>\n",
       "      <td>MD</td>\n",
       "      <td>20723</td>\n",
       "      <td>no</td>\n",
       "      <td>0</td>\n",
       "    </tr>\n",
       "    <tr>\n",
       "      <th>3</th>\n",
       "      <td>Brandon</td>\n",
       "      <td>Aboozar</td>\n",
       "      <td>M</td>\n",
       "      <td>7308 Carved Stone</td>\n",
       "      <td>NaN</td>\n",
       "      <td>Columbia</td>\n",
       "      <td>MD</td>\n",
       "      <td>21045</td>\n",
       "      <td>yes</td>\n",
       "      <td>0</td>\n",
       "    </tr>\n",
       "    <tr>\n",
       "      <th>4</th>\n",
       "      <td>Jeffrey</td>\n",
       "      <td>Abraham</td>\n",
       "      <td>F</td>\n",
       "      <td>8214 Arbor Meadows Ln</td>\n",
       "      <td>NaN</td>\n",
       "      <td>Columbia</td>\n",
       "      <td>MD</td>\n",
       "      <td>21045</td>\n",
       "      <td>no</td>\n",
       "      <td>0</td>\n",
       "    </tr>\n",
       "  </tbody>\n",
       "</table>\n",
       "</div>"
      ],
      "text/plain": [
       "  First_Name Last_Name Gender                Address Address2      City State  \\\n",
       "0  Guillermo     Abaye      M         5924 Sandy Rdg      NaN  Elkridge    MD   \n",
       "1       Jack      Abel      F        8931 Footed Rdg      NaN  Columbia    MD   \n",
       "2       Mary      Abel      M     11516 Jamestown Ct      NaN    Laurel    MD   \n",
       "3    Brandon   Aboozar      M      7308 Carved Stone      NaN  Columbia    MD   \n",
       "4    Jeffrey   Abraham      F  8214 Arbor Meadows Ln      NaN  Columbia    MD   \n",
       "\n",
       "     ZIP Volunteer  Donate  \n",
       "0  21075       yes    2700  \n",
       "1  21045        no       0  \n",
       "2  20723        no       0  \n",
       "3  21045       yes       0  \n",
       "4  21045        no       0  "
      ]
     },
     "execution_count": 38,
     "metadata": {},
     "output_type": "execute_result"
    }
   ],
   "source": [
    "voter_file = gis.content.get(\"57894e2fb17b47b08c2608887a8e4897\")\n",
    "csv_file = voter_file.download(save_path=r\"c:\\temp\", file_name=\"address.csv\" )\n",
    "df = pd.read_csv(csv_file, encoding=\"ISO-8859-1\")\n",
    "df.head()"
   ]
  },
  {
   "cell_type": "code",
   "execution_count": 39,
   "metadata": {},
   "outputs": [
    {
     "data": {
      "text/plain": [
       "<FeatureCollection>"
      ]
     },
     "execution_count": 39,
     "metadata": {},
     "output_type": "execute_result"
    }
   ],
   "source": [
    "geocoded_fc = gis.content.import_data(df=df)\n",
    "geocoded_fc"
   ]
  },
  {
   "cell_type": "code",
   "execution_count": 40,
   "metadata": {},
   "outputs": [
    {
     "data": {
      "application/vnd.jupyter.widget-view+json": {
       "model_id": "a9ca8abfa142408a9332c875848296c0",
       "version_major": 2,
       "version_minor": 0
      },
      "text/plain": [
       "MapView(layout=Layout(height='400px', width='100%'))"
      ]
     },
     "metadata": {},
     "output_type": "display_data"
    },
    {
     "data": {
      "text/html": [
       "<div class=\"map-static-img-preview-70059517-0c30-45ea-81fe-071fda253c25\"><img src=\"\"></img></div>"
      ],
      "text/plain": [
       "<IPython.core.display.HTML object>"
      ]
     },
     "metadata": {},
     "output_type": "display_data"
    }
   ],
   "source": [
    "gc_map = gis.map(\"Maryland\")\n",
    "gc_map.extent = {'spatialReference': {'latestWkid': 3857, 'wkid': 102100},\n",
    "                 'xmin': -8586268.28378512,\n",
    "                 'ymin': 4733599.9383514235,\n",
    "                 'xmax': -8511665.744178887,\n",
    "                 'ymax': 4764174.749665453}\n",
    "gc_map"
   ]
  },
  {
   "cell_type": "code",
   "execution_count": 42,
   "metadata": {},
   "outputs": [],
   "source": [
    "gc_map.add_layer(geocoded_fc)"
   ]
  },
  {
   "cell_type": "markdown",
   "metadata": {},
   "source": [
    "### Access Census Data"
   ]
  },
  {
   "cell_type": "code",
   "execution_count": 43,
   "metadata": {
    "scrolled": true
   },
   "outputs": [
    {
     "data": {
      "text/html": [
       "<div class=\"item_container\" style=\"height: auto; overflow: hidden; border: 1px solid #cfcfcf; border-radius: 2px; background: #f6fafa; line-height: 1.21429em; padding: 10px;\">\n",
       "                    <div class=\"item_left\" style=\"width: 210px; float: left;\">\n",
       "                       <a href='https://arcgissolutions.maps.arcgis.com/home/item.html?id=2cb6e7dfc87047ccaa38f59d955d907b' target='_blank'>\n",
       "                        <img src='data:image/png;base64,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' width='200' height='133' class=\"itemThumbnail\">\n",
       "                       </a>\n",
       "                    </div>\n",
       "\n",
       "                    <div class=\"item_right\"     style=\"float: none; width: auto; overflow: hidden;\">\n",
       "                        <a href='https://arcgissolutions.maps.arcgis.com/home/item.html?id=2cb6e7dfc87047ccaa38f59d955d907b' target='_blank'><b>Maryland Census Boundaries - Census Tracts 2010</b>\n",
       "                        </a>\n",
       "                        <br/>Maryland Census Boundaries - Census Tracts 2010<img src='https://arcgissolutions.maps.arcgis.com/home/js/jsapi/esri/css/images/item_type_icons/featureshosted16.png' style=\"vertical-align:middle;\">Feature Layer Collection by mdimapdatacatalog\n",
       "                        <br/>Last Modified: March 07, 2019\n",
       "                        <br/>0 comments, 724 views\n",
       "                    </div>\n",
       "                </div>\n",
       "                "
      ],
      "text/plain": [
       "<Item title:\"Maryland Census Boundaries - Census Tracts 2010\" type:Feature Layer Collection owner:mdimapdatacatalog>"
      ]
     },
     "execution_count": 43,
     "metadata": {},
     "output_type": "execute_result"
    }
   ],
   "source": [
    "item = gis.content.get(\"2cb6e7dfc87047ccaa38f59d955d907b\")\n",
    "item"
   ]
  },
  {
   "cell_type": "code",
   "execution_count": 44,
   "metadata": {},
   "outputs": [
    {
     "data": {
      "text/html": [
       "<div>\n",
       "<style scoped>\n",
       "    .dataframe tbody tr th:only-of-type {\n",
       "        vertical-align: middle;\n",
       "    }\n",
       "\n",
       "    .dataframe tbody tr th {\n",
       "        vertical-align: top;\n",
       "    }\n",
       "\n",
       "    .dataframe thead th {\n",
       "        text-align: right;\n",
       "    }\n",
       "</style>\n",
       "<table border=\"1\" class=\"dataframe\">\n",
       "  <thead>\n",
       "    <tr style=\"text-align: right;\">\n",
       "      <th></th>\n",
       "      <th>ACRES</th>\n",
       "      <th>ALAND10</th>\n",
       "      <th>AWATER10</th>\n",
       "      <th>CNTY2010</th>\n",
       "      <th>CT10</th>\n",
       "      <th>CT2010</th>\n",
       "      <th>FID_tl_201</th>\n",
       "      <th>GEODESC</th>\n",
       "      <th>OBJECTID_1</th>\n",
       "      <th>SHAPE</th>\n",
       "      <th>SQ_MILES</th>\n",
       "      <th>Shape.area</th>\n",
       "      <th>Shape.len</th>\n",
       "    </tr>\n",
       "  </thead>\n",
       "  <tbody>\n",
       "    <tr>\n",
       "      <th>0</th>\n",
       "      <td>330.91229</td>\n",
       "      <td>1339252</td>\n",
       "      <td>0</td>\n",
       "      <td>24027</td>\n",
       "      <td>601107</td>\n",
       "      <td>24027601107</td>\n",
       "      <td>1401</td>\n",
       "      <td>6011.07</td>\n",
       "      <td>1390</td>\n",
       "      <td>{\"rings\": [[[-8547060.298, 4748310.109200001],...</td>\n",
       "      <td>0.51705</td>\n",
       "      <td>2.232476e+06</td>\n",
       "      <td>6919.738067</td>\n",
       "    </tr>\n",
       "    <tr>\n",
       "      <th>1</th>\n",
       "      <td>358.84060</td>\n",
       "      <td>1424289</td>\n",
       "      <td>27995</td>\n",
       "      <td>24027</td>\n",
       "      <td>606705</td>\n",
       "      <td>24027606705</td>\n",
       "      <td>1371</td>\n",
       "      <td>6067.05</td>\n",
       "      <td>1360</td>\n",
       "      <td>{\"rings\": [[[-8554677.6681, 4747778.3015], [-8...</td>\n",
       "      <td>0.56069</td>\n",
       "      <td>2.420282e+06</td>\n",
       "      <td>6981.891419</td>\n",
       "    </tr>\n",
       "    <tr>\n",
       "      <th>2</th>\n",
       "      <td>520.80881</td>\n",
       "      <td>2076511</td>\n",
       "      <td>31277</td>\n",
       "      <td>24027</td>\n",
       "      <td>606604</td>\n",
       "      <td>24027606604</td>\n",
       "      <td>1365</td>\n",
       "      <td>6066.04</td>\n",
       "      <td>1354</td>\n",
       "      <td>{\"rings\": [[[-8552089.4899, 4751690.6087], [-8...</td>\n",
       "      <td>0.81376</td>\n",
       "      <td>3.514854e+06</td>\n",
       "      <td>9087.698410</td>\n",
       "    </tr>\n",
       "    <tr>\n",
       "      <th>3</th>\n",
       "      <td>513.14616</td>\n",
       "      <td>2061074</td>\n",
       "      <td>37271</td>\n",
       "      <td>24027</td>\n",
       "      <td>606607</td>\n",
       "      <td>24027606607</td>\n",
       "      <td>1384</td>\n",
       "      <td>6066.07</td>\n",
       "      <td>1373</td>\n",
       "      <td>{\"rings\": [[[-8550283.8878, 4753644.385499999]...</td>\n",
       "      <td>0.80179</td>\n",
       "      <td>3.464832e+06</td>\n",
       "      <td>9558.110476</td>\n",
       "    </tr>\n",
       "    <tr>\n",
       "      <th>4</th>\n",
       "      <td>735.18331</td>\n",
       "      <td>2858229</td>\n",
       "      <td>117171</td>\n",
       "      <td>24027</td>\n",
       "      <td>606704</td>\n",
       "      <td>24027606704</td>\n",
       "      <td>1376</td>\n",
       "      <td>6067.04</td>\n",
       "      <td>1365</td>\n",
       "      <td>{\"rings\": [[[-8552312.2403, 4749062.988899998]...</td>\n",
       "      <td>1.14872</td>\n",
       "      <td>4.960021e+06</td>\n",
       "      <td>9783.846005</td>\n",
       "    </tr>\n",
       "  </tbody>\n",
       "</table>\n",
       "</div>"
      ],
      "text/plain": [
       "       ACRES  ALAND10  AWATER10 CNTY2010    CT10       CT2010  FID_tl_201  \\\n",
       "0  330.91229  1339252         0    24027  601107  24027601107        1401   \n",
       "1  358.84060  1424289     27995    24027  606705  24027606705        1371   \n",
       "2  520.80881  2076511     31277    24027  606604  24027606604        1365   \n",
       "3  513.14616  2061074     37271    24027  606607  24027606607        1384   \n",
       "4  735.18331  2858229    117171    24027  606704  24027606704        1376   \n",
       "\n",
       "   GEODESC  OBJECTID_1                                              SHAPE  \\\n",
       "0  6011.07        1390  {\"rings\": [[[-8547060.298, 4748310.109200001],...   \n",
       "1  6067.05        1360  {\"rings\": [[[-8554677.6681, 4747778.3015], [-8...   \n",
       "2  6066.04        1354  {\"rings\": [[[-8552089.4899, 4751690.6087], [-8...   \n",
       "3  6066.07        1373  {\"rings\": [[[-8550283.8878, 4753644.385499999]...   \n",
       "4  6067.04        1365  {\"rings\": [[[-8552312.2403, 4749062.988899998]...   \n",
       "\n",
       "   SQ_MILES    Shape.area    Shape.len  \n",
       "0   0.51705  2.232476e+06  6919.738067  \n",
       "1   0.56069  2.420282e+06  6981.891419  \n",
       "2   0.81376  3.514854e+06  9087.698410  \n",
       "3   0.80179  3.464832e+06  9558.110476  \n",
       "4   1.14872  4.960021e+06  9783.846005  "
      ]
     },
     "execution_count": 44,
     "metadata": {},
     "output_type": "execute_result"
    }
   ],
   "source": [
    "sdf = item.layers[0].query(\"CNTY2010 = '24027'\", as_df=True)\n",
    "sdf.head()"
   ]
  },
  {
   "cell_type": "code",
   "execution_count": 45,
   "metadata": {},
   "outputs": [
    {
     "data": {
      "application/vnd.jupyter.widget-view+json": {
       "model_id": "d81498de5e7e44d09a0fee29c0461d6b",
       "version_major": 2,
       "version_minor": 0
      },
      "text/plain": [
       "MapView(layout=Layout(height='400px', width='100%'))"
      ]
     },
     "metadata": {},
     "output_type": "display_data"
    },
    {
     "data": {
      "text/html": [
       "<div class=\"map-static-img-preview-462fe7ba-c0b0-473d-86e3-fbf25e01d5a7\"><img src=\"\"></img></div>"
      ],
      "text/plain": [
       "<IPython.core.display.HTML object>"
      ]
     },
     "metadata": {},
     "output_type": "display_data"
    }
   ],
   "source": [
    "sdf.spatial.plot()"
   ]
  },
  {
   "cell_type": "markdown",
   "metadata": {},
   "source": [
    "### Summarize Locations within Polygons"
   ]
  },
  {
   "cell_type": "code",
   "execution_count": 46,
   "metadata": {},
   "outputs": [],
   "source": [
    "from arcgis.features.summarize_data import summarize_within"
   ]
  },
  {
   "cell_type": "code",
   "execution_count": 47,
   "metadata": {},
   "outputs": [],
   "source": [
    "result = summarize_within(sum_within_layer=sdf.spatial.to_feature_collection(), output_name=\"SummaryWithinOutput5\",\n",
    "                          summary_layer=geocoded_fc, sum_shape=True, summary_fields=[\"Donate SUM\"])"
   ]
  },
  {
   "cell_type": "code",
   "execution_count": 48,
   "metadata": {},
   "outputs": [
    {
     "data": {
      "text/html": [
       "<div class=\"item_container\" style=\"height: auto; overflow: hidden; border: 1px solid #cfcfcf; border-radius: 2px; background: #f6fafa; line-height: 1.21429em; padding: 10px;\">\n",
       "                    <div class=\"item_left\" style=\"width: 210px; float: left;\">\n",
       "                       <a href='https://arcgissolutions.maps.arcgis.com/home/item.html?id=0c00c5da1302411696d4c50fe9511299' target='_blank'>\n",
       "                        <img src='http://static.arcgis.com/images/desktopapp.png' class=\"itemThumbnail\">\n",
       "                       </a>\n",
       "                    </div>\n",
       "\n",
       "                    <div class=\"item_right\"     style=\"float: none; width: auto; overflow: hidden;\">\n",
       "                        <a href='https://arcgissolutions.maps.arcgis.com/home/item.html?id=0c00c5da1302411696d4c50fe9511299' target='_blank'><b>SummaryWithinOutput5</b>\n",
       "                        </a>\n",
       "                        <br/><img src='https://arcgissolutions.maps.arcgis.com/home/js/jsapi/esri/css/images/item_type_icons/featureshosted16.png' style=\"vertical-align:middle;\">Feature Layer Collection by AndrewSolutions\n",
       "                        <br/>Last Modified: July 02, 2019\n",
       "                        <br/>0 comments, 0 views\n",
       "                    </div>\n",
       "                </div>\n",
       "                "
      ],
      "text/plain": [
       "<Item title:\"SummaryWithinOutput5\" type:Feature Layer Collection owner:AndrewSolutions>"
      ]
     },
     "execution_count": 48,
     "metadata": {},
     "output_type": "execute_result"
    }
   ],
   "source": [
    "result"
   ]
  },
  {
   "cell_type": "code",
   "execution_count": 49,
   "metadata": {},
   "outputs": [
    {
     "data": {
      "application/vnd.jupyter.widget-view+json": {
       "model_id": "a233adc0840a41acb0fde5ec8a9d08f1",
       "version_major": 2,
       "version_minor": 0
      },
      "text/plain": [
       "MapView(layout=Layout(height='400px', width='100%'))"
      ]
     },
     "metadata": {},
     "output_type": "display_data"
    },
    {
     "data": {
      "text/html": [
       "<div class=\"map-static-img-preview-66bee66a-4125-4737-9082-fb988a4d934e\"><img src=\"\"></img></div>"
      ],
      "text/plain": [
       "<IPython.core.display.HTML object>"
      ]
     },
     "metadata": {},
     "output_type": "display_data"
    }
   ],
   "source": [
    "m4 = gis.map()\n",
    "m4.extent = result.extent\n",
    "m4.basemap = 'dark-gray'\n",
    "m4"
   ]
  },
  {
   "cell_type": "code",
   "execution_count": 51,
   "metadata": {},
   "outputs": [],
   "source": [
    "m4.add_layer(result)"
   ]
  },
  {
   "cell_type": "markdown",
   "metadata": {},
   "source": [
    "### Enrich Data to Locate More Information"
   ]
  },
  {
   "cell_type": "markdown",
   "metadata": {},
   "source": [
    "- use `enrich` to load the Age data"
   ]
  },
  {
   "cell_type": "code",
   "execution_count": 20,
   "metadata": {},
   "outputs": [],
   "source": [
    "from arcgis.geoenrichment import *"
   ]
  },
  {
   "cell_type": "code",
   "execution_count": 21,
   "metadata": {},
   "outputs": [
    {
     "data": {
      "text/plain": [
       "array(['Age.MALE0', 'Age.MALE5', 'Age.MALE10', 'Age.MALE15', 'Age.MALE20',\n",
       "       'Age.MALE25', 'Age.MALE30', 'Age.MALE35', 'Age.MALE40',\n",
       "       'Age.MALE45', 'Age.MALE50', 'Age.MALE55', 'Age.MALE60',\n",
       "       'Age.MALE65', 'Age.MALE70', 'Age.MALE75', 'Age.MALE80',\n",
       "       'Age.MALE85', 'Age.FEM0', 'Age.FEM5', 'Age.FEM10', 'Age.FEM15',\n",
       "       'Age.FEM20', 'Age.FEM25', 'Age.FEM30', 'Age.FEM35', 'Age.FEM40',\n",
       "       'Age.FEM45', 'Age.FEM50', 'Age.FEM55', 'Age.FEM60', 'Age.FEM65',\n",
       "       'Age.FEM70', 'Age.FEM75', 'Age.FEM80', 'Age.FEM85'], dtype=object)"
      ]
     },
     "execution_count": 21,
     "metadata": {},
     "output_type": "execute_result"
    }
   ],
   "source": [
    "usa = Country.get('United States')\n",
    "df = usa.data_collections\n",
    "df.loc['Age']['analysisVariable'].unique()"
   ]
  },
  {
   "cell_type": "code",
   "execution_count": 52,
   "metadata": {},
   "outputs": [
    {
     "data": {
      "text/html": [
       "<div>\n",
       "<style scoped>\n",
       "    .dataframe tbody tr th:only-of-type {\n",
       "        vertical-align: middle;\n",
       "    }\n",
       "\n",
       "    .dataframe tbody tr th {\n",
       "        vertical-align: top;\n",
       "    }\n",
       "\n",
       "    .dataframe thead th {\n",
       "        text-align: right;\n",
       "    }\n",
       "</style>\n",
       "<table border=\"1\" class=\"dataframe\">\n",
       "  <thead>\n",
       "    <tr style=\"text-align: right;\">\n",
       "      <th></th>\n",
       "      <th>ACRES</th>\n",
       "      <th>ALAND10</th>\n",
       "      <th>AWATER10</th>\n",
       "      <th>AnalysisArea</th>\n",
       "      <th>CNTY2010</th>\n",
       "      <th>CT10</th>\n",
       "      <th>CT2010</th>\n",
       "      <th>FID_tl_201</th>\n",
       "      <th>GEODESC</th>\n",
       "      <th>OBJECTID</th>\n",
       "      <th>OBJECTID_1</th>\n",
       "      <th>Point_Count</th>\n",
       "      <th>SHAPE</th>\n",
       "      <th>SQ_MILES</th>\n",
       "      <th>SUM_Donate</th>\n",
       "    </tr>\n",
       "  </thead>\n",
       "  <tbody>\n",
       "    <tr>\n",
       "      <th>0</th>\n",
       "      <td>330.91229</td>\n",
       "      <td>1339252</td>\n",
       "      <td>0</td>\n",
       "      <td>1.339254</td>\n",
       "      <td>24027</td>\n",
       "      <td>601107</td>\n",
       "      <td>24027601107</td>\n",
       "      <td>1401</td>\n",
       "      <td>6011.07</td>\n",
       "      <td>1</td>\n",
       "      <td>1390</td>\n",
       "      <td>0</td>\n",
       "      <td>{\"rings\": [[[-8547060.298, 4748310.1092], [-85...</td>\n",
       "      <td>0.51705</td>\n",
       "      <td>NaN</td>\n",
       "    </tr>\n",
       "    <tr>\n",
       "      <th>1</th>\n",
       "      <td>358.84060</td>\n",
       "      <td>1424289</td>\n",
       "      <td>27995</td>\n",
       "      <td>1.452285</td>\n",
       "      <td>24027</td>\n",
       "      <td>606705</td>\n",
       "      <td>24027606705</td>\n",
       "      <td>1371</td>\n",
       "      <td>6067.05</td>\n",
       "      <td>2</td>\n",
       "      <td>1360</td>\n",
       "      <td>24</td>\n",
       "      <td>{\"rings\": [[[-8554677.6681, 4747778.3015], [-8...</td>\n",
       "      <td>0.56069</td>\n",
       "      <td>9925.0</td>\n",
       "    </tr>\n",
       "    <tr>\n",
       "      <th>2</th>\n",
       "      <td>520.80881</td>\n",
       "      <td>2076511</td>\n",
       "      <td>31277</td>\n",
       "      <td>2.107790</td>\n",
       "      <td>24027</td>\n",
       "      <td>606604</td>\n",
       "      <td>24027606604</td>\n",
       "      <td>1365</td>\n",
       "      <td>6066.04</td>\n",
       "      <td>3</td>\n",
       "      <td>1354</td>\n",
       "      <td>49</td>\n",
       "      <td>{\"rings\": [[[-8552089.4899, 4751690.6087], [-8...</td>\n",
       "      <td>0.81376</td>\n",
       "      <td>15425.0</td>\n",
       "    </tr>\n",
       "    <tr>\n",
       "      <th>3</th>\n",
       "      <td>513.14616</td>\n",
       "      <td>2061074</td>\n",
       "      <td>37271</td>\n",
       "      <td>2.076770</td>\n",
       "      <td>24027</td>\n",
       "      <td>606607</td>\n",
       "      <td>24027606607</td>\n",
       "      <td>1384</td>\n",
       "      <td>6066.07</td>\n",
       "      <td>4</td>\n",
       "      <td>1373</td>\n",
       "      <td>14</td>\n",
       "      <td>{\"rings\": [[[-8550283.8878, 4753644.3855], [-8...</td>\n",
       "      <td>0.80179</td>\n",
       "      <td>75.0</td>\n",
       "    </tr>\n",
       "    <tr>\n",
       "      <th>4</th>\n",
       "      <td>735.18331</td>\n",
       "      <td>2858229</td>\n",
       "      <td>117171</td>\n",
       "      <td>2.975403</td>\n",
       "      <td>24027</td>\n",
       "      <td>606704</td>\n",
       "      <td>24027606704</td>\n",
       "      <td>1376</td>\n",
       "      <td>6067.04</td>\n",
       "      <td>5</td>\n",
       "      <td>1365</td>\n",
       "      <td>71</td>\n",
       "      <td>{\"rings\": [[[-8552312.2403, 4749062.9889], [-8...</td>\n",
       "      <td>1.14872</td>\n",
       "      <td>26680.0</td>\n",
       "    </tr>\n",
       "  </tbody>\n",
       "</table>\n",
       "</div>"
      ],
      "text/plain": [
       "       ACRES  ALAND10  AWATER10  AnalysisArea CNTY2010    CT10       CT2010  \\\n",
       "0  330.91229  1339252         0      1.339254    24027  601107  24027601107   \n",
       "1  358.84060  1424289     27995      1.452285    24027  606705  24027606705   \n",
       "2  520.80881  2076511     31277      2.107790    24027  606604  24027606604   \n",
       "3  513.14616  2061074     37271      2.076770    24027  606607  24027606607   \n",
       "4  735.18331  2858229    117171      2.975403    24027  606704  24027606704   \n",
       "\n",
       "   FID_tl_201  GEODESC  OBJECTID  OBJECTID_1  Point_Count  \\\n",
       "0        1401  6011.07         1        1390            0   \n",
       "1        1371  6067.05         2        1360           24   \n",
       "2        1365  6066.04         3        1354           49   \n",
       "3        1384  6066.07         4        1373           14   \n",
       "4        1376  6067.04         5        1365           71   \n",
       "\n",
       "                                               SHAPE  SQ_MILES  SUM_Donate  \n",
       "0  {\"rings\": [[[-8547060.298, 4748310.1092], [-85...   0.51705         NaN  \n",
       "1  {\"rings\": [[[-8554677.6681, 4747778.3015], [-8...   0.56069      9925.0  \n",
       "2  {\"rings\": [[[-8552089.4899, 4751690.6087], [-8...   0.81376     15425.0  \n",
       "3  {\"rings\": [[[-8550283.8878, 4753644.3855], [-8...   0.80179        75.0  \n",
       "4  {\"rings\": [[[-8552312.2403, 4749062.9889], [-8...   1.14872     26680.0  "
      ]
     },
     "execution_count": 52,
     "metadata": {},
     "output_type": "execute_result"
    }
   ],
   "source": [
    "count_sdf = result.layers[0].query(as_df=True)\n",
    "count_sdf.head()"
   ]
  },
  {
   "cell_type": "code",
   "execution_count": 53,
   "metadata": {},
   "outputs": [
    {
     "data": {
      "text/html": [
       "<div>\n",
       "<style scoped>\n",
       "    .dataframe tbody tr th:only-of-type {\n",
       "        vertical-align: middle;\n",
       "    }\n",
       "\n",
       "    .dataframe tbody tr th {\n",
       "        vertical-align: top;\n",
       "    }\n",
       "\n",
       "    .dataframe thead th {\n",
       "        text-align: right;\n",
       "    }\n",
       "</style>\n",
       "<table border=\"1\" class=\"dataframe\">\n",
       "  <thead>\n",
       "    <tr style=\"text-align: right;\">\n",
       "      <th></th>\n",
       "      <th>ACRES</th>\n",
       "      <th>ALAND10</th>\n",
       "      <th>AWATER10</th>\n",
       "      <th>AnalysisArea</th>\n",
       "      <th>CNTY2010</th>\n",
       "      <th>CT10</th>\n",
       "      <th>CT2010</th>\n",
       "      <th>FEM0</th>\n",
       "      <th>FEM10</th>\n",
       "      <th>FEM15</th>\n",
       "      <th>...</th>\n",
       "      <th>OBJECTID_0</th>\n",
       "      <th>OBJECTID_1</th>\n",
       "      <th>Point_Count</th>\n",
       "      <th>SHAPE</th>\n",
       "      <th>SQ_MILES</th>\n",
       "      <th>SUM_Donate</th>\n",
       "      <th>aggregationMethod</th>\n",
       "      <th>apportionmentConfidence</th>\n",
       "      <th>populationToPolygonSizeRating</th>\n",
       "      <th>sourceCountry</th>\n",
       "    </tr>\n",
       "  </thead>\n",
       "  <tbody>\n",
       "    <tr>\n",
       "      <th>0</th>\n",
       "      <td>330.91229</td>\n",
       "      <td>1339252</td>\n",
       "      <td>0</td>\n",
       "      <td>1.339254</td>\n",
       "      <td>24027</td>\n",
       "      <td>601107</td>\n",
       "      <td>24027601107</td>\n",
       "      <td>153</td>\n",
       "      <td>144</td>\n",
       "      <td>113</td>\n",
       "      <td>...</td>\n",
       "      <td>1</td>\n",
       "      <td>1390</td>\n",
       "      <td>0</td>\n",
       "      <td>{\"rings\": [[[-76.77954899984552, 39.1857249991...</td>\n",
       "      <td>0.51705</td>\n",
       "      <td>NaN</td>\n",
       "      <td>BlockApportionment:US.BlockGroups</td>\n",
       "      <td>2.576</td>\n",
       "      <td>2.191</td>\n",
       "      <td>US</td>\n",
       "    </tr>\n",
       "    <tr>\n",
       "      <th>1</th>\n",
       "      <td>358.84060</td>\n",
       "      <td>1424289</td>\n",
       "      <td>27995</td>\n",
       "      <td>1.452285</td>\n",
       "      <td>24027</td>\n",
       "      <td>606705</td>\n",
       "      <td>24027606705</td>\n",
       "      <td>57</td>\n",
       "      <td>64</td>\n",
       "      <td>56</td>\n",
       "      <td>...</td>\n",
       "      <td>2</td>\n",
       "      <td>1360</td>\n",
       "      <td>24</td>\n",
       "      <td>{\"rings\": [[[-76.84797699970176, 39.1820219994...</td>\n",
       "      <td>0.56069</td>\n",
       "      <td>9925</td>\n",
       "      <td>BlockApportionment:US.BlockGroups</td>\n",
       "      <td>2.576</td>\n",
       "      <td>2.191</td>\n",
       "      <td>US</td>\n",
       "    </tr>\n",
       "    <tr>\n",
       "      <th>2</th>\n",
       "      <td>520.80881</td>\n",
       "      <td>2076511</td>\n",
       "      <td>31277</td>\n",
       "      <td>2.107790</td>\n",
       "      <td>24027</td>\n",
       "      <td>606604</td>\n",
       "      <td>24027606604</td>\n",
       "      <td>128</td>\n",
       "      <td>146</td>\n",
       "      <td>96</td>\n",
       "      <td>...</td>\n",
       "      <td>3</td>\n",
       "      <td>1354</td>\n",
       "      <td>49</td>\n",
       "      <td>{\"rings\": [[[-76.82472699935091, 39.2092589994...</td>\n",
       "      <td>0.81376</td>\n",
       "      <td>15425</td>\n",
       "      <td>BlockApportionment:US.BlockGroups</td>\n",
       "      <td>2.576</td>\n",
       "      <td>2.191</td>\n",
       "      <td>US</td>\n",
       "    </tr>\n",
       "    <tr>\n",
       "      <th>3</th>\n",
       "      <td>513.14616</td>\n",
       "      <td>2061074</td>\n",
       "      <td>37271</td>\n",
       "      <td>2.076770</td>\n",
       "      <td>24027</td>\n",
       "      <td>606607</td>\n",
       "      <td>24027606607</td>\n",
       "      <td>128</td>\n",
       "      <td>155</td>\n",
       "      <td>140</td>\n",
       "      <td>...</td>\n",
       "      <td>4</td>\n",
       "      <td>1373</td>\n",
       "      <td>14</td>\n",
       "      <td>{\"rings\": [[[-76.80850699971623, 39.2228569992...</td>\n",
       "      <td>0.80179</td>\n",
       "      <td>75</td>\n",
       "      <td>BlockApportionment:US.BlockGroups</td>\n",
       "      <td>2.576</td>\n",
       "      <td>2.191</td>\n",
       "      <td>US</td>\n",
       "    </tr>\n",
       "    <tr>\n",
       "      <th>4</th>\n",
       "      <td>735.18331</td>\n",
       "      <td>2858229</td>\n",
       "      <td>117171</td>\n",
       "      <td>2.975403</td>\n",
       "      <td>24027</td>\n",
       "      <td>606704</td>\n",
       "      <td>24027606704</td>\n",
       "      <td>255</td>\n",
       "      <td>279</td>\n",
       "      <td>211</td>\n",
       "      <td>...</td>\n",
       "      <td>5</td>\n",
       "      <td>1365</td>\n",
       "      <td>71</td>\n",
       "      <td>{\"rings\": [[[-76.82672800023956, 39.1909669989...</td>\n",
       "      <td>1.14872</td>\n",
       "      <td>26680</td>\n",
       "      <td>BlockApportionment:US.BlockGroups</td>\n",
       "      <td>2.576</td>\n",
       "      <td>2.191</td>\n",
       "      <td>US</td>\n",
       "    </tr>\n",
       "  </tbody>\n",
       "</table>\n",
       "<p>5 rows × 58 columns</p>\n",
       "</div>"
      ],
      "text/plain": [
       "       ACRES  ALAND10  AWATER10  AnalysisArea CNTY2010    CT10       CT2010  \\\n",
       "0  330.91229  1339252         0      1.339254    24027  601107  24027601107   \n",
       "1  358.84060  1424289     27995      1.452285    24027  606705  24027606705   \n",
       "2  520.80881  2076511     31277      2.107790    24027  606604  24027606604   \n",
       "3  513.14616  2061074     37271      2.076770    24027  606607  24027606607   \n",
       "4  735.18331  2858229    117171      2.975403    24027  606704  24027606704   \n",
       "\n",
       "   FEM0  FEM10  FEM15      ...        OBJECTID_0  OBJECTID_1  Point_Count  \\\n",
       "0   153    144    113      ...                 1        1390            0   \n",
       "1    57     64     56      ...                 2        1360           24   \n",
       "2   128    146     96      ...                 3        1354           49   \n",
       "3   128    155    140      ...                 4        1373           14   \n",
       "4   255    279    211      ...                 5        1365           71   \n",
       "\n",
       "                                               SHAPE  SQ_MILES  SUM_Donate  \\\n",
       "0  {\"rings\": [[[-76.77954899984552, 39.1857249991...   0.51705         NaN   \n",
       "1  {\"rings\": [[[-76.84797699970176, 39.1820219994...   0.56069        9925   \n",
       "2  {\"rings\": [[[-76.82472699935091, 39.2092589994...   0.81376       15425   \n",
       "3  {\"rings\": [[[-76.80850699971623, 39.2228569992...   0.80179          75   \n",
       "4  {\"rings\": [[[-76.82672800023956, 39.1909669989...   1.14872       26680   \n",
       "\n",
       "                   aggregationMethod  apportionmentConfidence  \\\n",
       "0  BlockApportionment:US.BlockGroups                    2.576   \n",
       "1  BlockApportionment:US.BlockGroups                    2.576   \n",
       "2  BlockApportionment:US.BlockGroups                    2.576   \n",
       "3  BlockApportionment:US.BlockGroups                    2.576   \n",
       "4  BlockApportionment:US.BlockGroups                    2.576   \n",
       "\n",
       "   populationToPolygonSizeRating  sourceCountry  \n",
       "0                          2.191             US  \n",
       "1                          2.191             US  \n",
       "2                          2.191             US  \n",
       "3                          2.191             US  \n",
       "4                          2.191             US  \n",
       "\n",
       "[5 rows x 58 columns]"
      ]
     },
     "execution_count": 53,
     "metadata": {},
     "output_type": "execute_result"
    }
   ],
   "source": [
    "enrich_sdf = enrich(study_areas=count_sdf, data_collections=['Age'])\n",
    "enrich_sdf.head()"
   ]
  },
  {
   "cell_type": "markdown",
   "metadata": {},
   "source": [
    "### Find the Dollar Raised Per Person"
   ]
  },
  {
   "cell_type": "markdown",
   "metadata": {},
   "source": [
    "#### Summarize the Total Population"
   ]
  },
  {
   "cell_type": "code",
   "execution_count": 54,
   "metadata": {},
   "outputs": [],
   "source": [
    "cols = [col for col in enrich_sdf.columns if (col.find(\"FEM\") > -1 or col.find(\"MALE\") > -1)]\n",
    "enrich_sdf['TOTAL_POP'] = enrich_sdf[cols].sum(axis=1)"
   ]
  },
  {
   "cell_type": "markdown",
   "metadata": {},
   "source": [
    "#### Clean up the Data"
   ]
  },
  {
   "cell_type": "code",
   "execution_count": 55,
   "metadata": {},
   "outputs": [],
   "source": [
    "enrich_sdf[\"SUM_Donate\"] = (enrich_sdf[\"SUM_Donate\"]\n",
    "                            .replace('NaN', 0)\n",
    "                            .astype(int))"
   ]
  },
  {
   "cell_type": "markdown",
   "metadata": {},
   "source": [
    "#### Calculate Donation Dollars Per Person"
   ]
  },
  {
   "cell_type": "code",
   "execution_count": 56,
   "metadata": {},
   "outputs": [],
   "source": [
    "enrich_sdf[\"DOLLARPERPERSON\"] = enrich_sdf['SUM_Donate'] / enrich_sdf['TOTAL_POP']\n",
    "q = enrich_sdf[\"DOLLARPERPERSON\"] > 0\n",
    "target_tracts = enrich_sdf[q].copy().reset_index(drop=True)"
   ]
  },
  {
   "cell_type": "code",
   "execution_count": 57,
   "metadata": {},
   "outputs": [
    {
     "data": {
      "application/vnd.jupyter.widget-view+json": {
       "model_id": "7466549529324481a121812d1c353bf7",
       "version_major": 2,
       "version_minor": 0
      },
      "text/plain": [
       "MapView(layout=Layout(height='400px', width='100%'))"
      ]
     },
     "metadata": {},
     "output_type": "display_data"
    },
    {
     "data": {
      "text/html": [
       "<div class=\"map-static-img-preview-babb5320-0c50-4400-be7a-77f97a3fe512\"><img src=\"\"></img></div>"
      ],
      "text/plain": [
       "<IPython.core.display.HTML object>"
      ]
     },
     "metadata": {},
     "output_type": "display_data"
    }
   ],
   "source": [
    "m3 = gis.map(\"Maryland\")\n",
    "m3.basemap = 'dark-gray'\n",
    "m3"
   ]
  },
  {
   "cell_type": "code",
   "execution_count": 58,
   "metadata": {},
   "outputs": [
    {
     "data": {
      "text/plain": [
       "True"
      ]
     },
     "execution_count": 58,
     "metadata": {},
     "output_type": "execute_result"
    }
   ],
   "source": [
    "m3.extent = target_tracts.spatial.full_extent\n",
    "target_tracts.spatial.plot(map_widget=m3,\n",
    "                           renderer_type='c',  # for class breaks renderer\n",
    "                           method='esriClassifyNaturalBreaks',  # classification algorithm\n",
    "                           class_count=10,  # choose the number of classes\n",
    "                           col='DOLLARPERPERSON',  # numeric column to classify\n",
    "                           cmap='prism_r',  # color map to pick colors from for each class\n",
    "                           alpha=0.4)"
   ]
  },
  {
   "cell_type": "markdown",
   "metadata": {},
   "source": [
    "### Generate Age Profile from Donations"
   ]
  },
  {
   "cell_type": "markdown",
   "metadata": {},
   "source": [
    "- Use matplotlib to display data in a visual way"
   ]
  },
  {
   "cell_type": "markdown",
   "metadata": {
    "heading_collapsed": true
   },
   "source": [
    "#### Define the Pyramid"
   ]
  },
  {
   "cell_type": "code",
   "execution_count": 41,
   "metadata": {
    "hidden": true
   },
   "outputs": [],
   "source": [
    "def age_pyramid(df):\n",
    "    import warnings\n",
    "    import seaborn as sns\n",
    "    import matplotlib.pyplot as plt\n",
    "\n",
    "    %matplotlib inline\n",
    "    warnings.simplefilter(action='ignore', category=FutureWarning)\n",
    "    pd.options.mode.chained_assignment = None \n",
    "    plt.style.use('ggplot')\n",
    "\n",
    "    df = df[[x for x in df.columns if 'MALE' in x or 'FEM' in x]]\n",
    "    sf = pd.DataFrame(df.sum())\n",
    "    age = sf.index.str.extract('(\\d+)').astype('int64')\n",
    "    f = sf[sf.index.str.startswith('FEM')]\n",
    "    m = sf[sf.index.str.startswith('MALE')]\n",
    "    sf = sf.reset_index(drop = True)\n",
    "    f = f.reset_index(drop = True)\n",
    "    m = m.reset_index(drop = True)\n",
    "    sf['age'] = age\n",
    "    f[\"age\"] = age\n",
    "    m[\"age\"] = age\n",
    "    f = f.sort_values(by='age', ascending=False).set_index('age')\n",
    "    m = m.sort_values(by='age', ascending=False).set_index('age')\n",
    "    \n",
    "\n",
    "    popdf = pd.concat([f, m], axis=1)\n",
    "    popdf.columns = ['F', 'M']\n",
    "    popdf['agelabel'] = popdf.index.map(str) + ' - ' + (popdf.index+4).map(str)\n",
    "    popdf.M = -popdf.M\n",
    "    \n",
    "    sns.barplot(x=\"F\", y=\"agelabel\", color=\"#CC6699\", label=\"Female\", data=popdf, edgecolor='none')\n",
    "    sns.barplot(x=\"M\",  y=\"agelabel\", color=\"#008AB8\", label=\"Male\",   data=popdf,  edgecolor='none')\n",
    "    plt.ylabel('Age group')\n",
    "    plt.xlabel('Number of people');\n",
    "    return plt;"
   ]
  },
  {
   "cell_type": "markdown",
   "metadata": {},
   "source": [
    "#### Generate the Age Pyramid for All Donations"
   ]
  },
  {
   "cell_type": "code",
   "execution_count": 43,
   "metadata": {},
   "outputs": [
    {
     "data": {
      "text/plain": [
       "<module 'matplotlib.pyplot' from 'C:\\\\Program Files\\\\ArcGIS\\\\Pro\\\\bin\\\\Python\\\\envs\\\\arcgispro-dev\\\\lib\\\\site-packages\\\\matplotlib\\\\pyplot.py'>"
      ]
     },
     "execution_count": 43,
     "metadata": {},
     "output_type": "execute_result"
    },
    {
     "data": {
      "image/png": "[encoded data removed]",
      "text/plain": [
       "<Figure size 432x288 with 1 Axes>"
      ]
     },
     "metadata": {},
     "output_type": "display_data"
    }
   ],
   "source": [
    "age_pyramid(target_tracts)"
   ]
  },
  {
   "cell_type": "markdown",
   "metadata": {},
   "source": [
    "#### Generate the Age Pyramid for Top Grossing Areas"
   ]
  },
  {
   "cell_type": "markdown",
   "metadata": {},
   "source": [
    "- The age population skews younger than the donation as a whole"
   ]
  },
  {
   "cell_type": "code",
   "execution_count": 44,
   "metadata": {},
   "outputs": [
    {
     "data": {
      "text/plain": [
       "<module 'matplotlib.pyplot' from 'C:\\\\Program Files\\\\ArcGIS\\\\Pro\\\\bin\\\\Python\\\\envs\\\\arcgispro-dev\\\\lib\\\\site-packages\\\\matplotlib\\\\pyplot.py'>"
      ]
     },
     "execution_count": 44,
     "metadata": {},
     "output_type": "execute_result"
    },
    {
     "data": {
      "image/png": "[encoded data removed]",
      "text/plain": [
       "<Figure size 432x288 with 1 Axes>"
      ]
     },
     "metadata": {},
     "output_type": "display_data"
    }
   ],
   "source": [
    "age_pyramid(target_tracts[target_tracts.DOLLARPERPERSON > 4].copy())"
   ]
  }
 ],
 "metadata": {
  "kernelspec": {
   "display_name": "Python 3",
   "language": "python",
   "name": "python3"
  },
  "language_info": {
   "codemirror_mode": {
    "name": "ipython",
    "version": 3
   },
   "file_extension": ".py",
   "mimetype": "text/x-python",
   "name": "python",
   "nbconvert_exporter": "python",
   "pygments_lexer": "ipython3",
   "version": "3.6.6"
  }
 },
 "nbformat": 4,
 "nbformat_minor": 2
}
