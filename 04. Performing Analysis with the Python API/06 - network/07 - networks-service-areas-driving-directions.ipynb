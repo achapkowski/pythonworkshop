{
 "cells": [
  {
   "cell_type": "markdown",
   "metadata": {},
   "source": [
    "# Geocoding and Network Analysis Demo"
   ]
  },
  {
   "cell_type": "markdown",
   "metadata": {},
   "source": [
    "## What is the Network Analysis?\n",
    "\n",
    "The ArcGIS Network Analyst allows you to solve common `network` problems\n",
    "\n",
    "\n",
    "\n",
    "### Examples:\n",
    "\n",
    "- finding the best route across a city\n",
    "- finding the closest emergency vehicle or facility, \n",
    "- identifying a service area around a location\n",
    "- servicing a set of orders with a fleet of vehicles \n",
    "- choosing the best facilities to open or close."
   ]
  },
  {
   "cell_type": "markdown",
   "metadata": {},
   "source": [
    "# Constructing drive time based service areas\n",
    "This sample shows how the `network` module of the ArcGIS API for Python can be used to construct service areas. In this sample, we generate service areas for two of the fire stations in central Tokyo, Japan. We later observe how the service area varies by time of day for a fire station in the city of Los Angeles."
   ]
  },
  {
   "cell_type": "markdown",
   "metadata": {
    "heading_collapsed": true
   },
   "source": [
    "##### Connect to the GIS"
   ]
  },
  {
   "cell_type": "code",
   "execution_count": 3,
   "metadata": {
    "hidden": true
   },
   "outputs": [],
   "source": [
    "from datetime import datetime\n",
    "from IPython.display import HTML\n",
    "import pandas as pd\n",
    "from arcgis.gis import GIS\n",
    "\n",
    "my_gis = GIS(profile='agol_profile')"
   ]
  },
  {
   "cell_type": "markdown",
   "metadata": {},
   "source": [
    "### Create a Network Layer"
   ]
  },
  {
   "cell_type": "code",
   "execution_count": 4,
   "metadata": {},
   "outputs": [],
   "source": [
    "from arcgis.network import ServiceAreaLayer"
   ]
  },
  {
   "cell_type": "code",
   "execution_count": 5,
   "metadata": {},
   "outputs": [
    {
     "data": {
      "text/plain": [
       "'https://routedev.arcgis.com/arcgis/rest/services/World/ServiceAreas/NAServer/ServiceArea_World'"
      ]
     },
     "execution_count": 5,
     "metadata": {},
     "output_type": "execute_result"
    }
   ],
   "source": [
    "service_area_url = my_gis.properties.helperServices.serviceArea.url\n",
    "service_area_url"
   ]
  },
  {
   "cell_type": "code",
   "execution_count": 6,
   "metadata": {},
   "outputs": [],
   "source": [
    "sa_layer = ServiceAreaLayer(service_area_url, gis=my_gis)"
   ]
  },
  {
   "cell_type": "markdown",
   "metadata": {},
   "source": [
    "## Calculate service area from the Resort"
   ]
  },
  {
   "cell_type": "code",
   "execution_count": 7,
   "metadata": {},
   "outputs": [
    {
     "data": {
      "text/html": [
       "<div>\n",
       "<style scoped>\n",
       "    .dataframe tbody tr th:only-of-type {\n",
       "        vertical-align: middle;\n",
       "    }\n",
       "\n",
       "    .dataframe tbody tr th {\n",
       "        vertical-align: top;\n",
       "    }\n",
       "\n",
       "    .dataframe thead th {\n",
       "        text-align: right;\n",
       "    }\n",
       "</style>\n",
       "<table border=\"1\" class=\"dataframe\">\n",
       "  <thead>\n",
       "    <tr style=\"text-align: right;\">\n",
       "      <th></th>\n",
       "      <th>AddBldg</th>\n",
       "      <th>AddNum</th>\n",
       "      <th>AddNumFrom</th>\n",
       "      <th>AddNumTo</th>\n",
       "      <th>AddRange</th>\n",
       "      <th>Addr_type</th>\n",
       "      <th>BldgName</th>\n",
       "      <th>BldgType</th>\n",
       "      <th>Block</th>\n",
       "      <th>City</th>\n",
       "      <th>...</th>\n",
       "      <th>URL</th>\n",
       "      <th>UnitName</th>\n",
       "      <th>UnitType</th>\n",
       "      <th>X</th>\n",
       "      <th>Xmax</th>\n",
       "      <th>Xmin</th>\n",
       "      <th>Y</th>\n",
       "      <th>Ymax</th>\n",
       "      <th>Ymin</th>\n",
       "      <th>Zone</th>\n",
       "    </tr>\n",
       "  </thead>\n",
       "  <tbody>\n",
       "    <tr>\n",
       "      <th>0</th>\n",
       "      <td></td>\n",
       "      <td>30</td>\n",
       "      <td></td>\n",
       "      <td></td>\n",
       "      <td></td>\n",
       "      <td>POI</td>\n",
       "      <td></td>\n",
       "      <td></td>\n",
       "      <td></td>\n",
       "      <td>Berlin</td>\n",
       "      <td>...</td>\n",
       "      <td>http://www3.hilton.com/en/hotels/berlin/hilton...</td>\n",
       "      <td></td>\n",
       "      <td></td>\n",
       "      <td>13.39297</td>\n",
       "      <td>13.39782</td>\n",
       "      <td>13.38782</td>\n",
       "      <td>52.51228</td>\n",
       "      <td>52.51717</td>\n",
       "      <td>52.50717</td>\n",
       "      <td></td>\n",
       "    </tr>\n",
       "    <tr>\n",
       "      <th>1</th>\n",
       "      <td></td>\n",
       "      <td>69</td>\n",
       "      <td></td>\n",
       "      <td></td>\n",
       "      <td></td>\n",
       "      <td>POI</td>\n",
       "      <td></td>\n",
       "      <td></td>\n",
       "      <td></td>\n",
       "      <td>Berlin</td>\n",
       "      <td>...</td>\n",
       "      <td>http://hamptoninn3.hilton.com/en/hotels/berlin...</td>\n",
       "      <td></td>\n",
       "      <td></td>\n",
       "      <td>13.41880</td>\n",
       "      <td>13.42363</td>\n",
       "      <td>13.41363</td>\n",
       "      <td>52.52443</td>\n",
       "      <td>52.52949</td>\n",
       "      <td>52.51949</td>\n",
       "      <td></td>\n",
       "    </tr>\n",
       "  </tbody>\n",
       "</table>\n",
       "<p>2 rows × 59 columns</p>\n",
       "</div>"
      ],
      "text/plain": [
       "  AddBldg AddNum AddNumFrom AddNumTo AddRange Addr_type BldgName BldgType  \\\n",
       "0             30                                    POI                     \n",
       "1             69                                    POI                     \n",
       "\n",
       "  Block    City  ...                                                URL  \\\n",
       "0        Berlin  ...  http://www3.hilton.com/en/hotels/berlin/hilton...   \n",
       "1        Berlin  ...  http://hamptoninn3.hilton.com/en/hotels/berlin...   \n",
       "\n",
       "   UnitName  UnitType         X      Xmax      Xmin         Y      Ymax  \\\n",
       "0                      13.39297  13.39782  13.38782  52.51228  52.51717   \n",
       "1                      13.41880  13.42363  13.41363  52.52443  52.52949   \n",
       "\n",
       "       Ymin Zone  \n",
       "0  52.50717       \n",
       "1  52.51949       \n",
       "\n",
       "[2 rows x 59 columns]"
      ]
     },
     "execution_count": 7,
     "metadata": {},
     "output_type": "execute_result"
    }
   ],
   "source": [
    "from arcgis.geocoding import geocode\n",
    "ps_geocode = geocode('Hilton, Berlin, DE', as_featureset=True)\n",
    "sdf = ps_geocode.sdf\n",
    "sdf.head()"
   ]
  },
  {
   "cell_type": "markdown",
   "metadata": {},
   "source": [
    "# Display the Hilton Hotels in Berlin"
   ]
  },
  {
   "cell_type": "code",
   "execution_count": 8,
   "metadata": {},
   "outputs": [
    {
     "data": {
      "application/vnd.jupyter.widget-view+json": {
       "model_id": "f5f5472da1ac4b2bbaeeb1f635c701a5",
       "version_major": 2,
       "version_minor": 0
      },
      "text/plain": [
       "MapView(layout=Layout(height='400px', width='100%'))"
      ]
     },
     "metadata": {},
     "output_type": "display_data"
    },
    {
     "data": {
      "text/html": [
       "<div class=\"map-static-img-preview-90c87c98-218a-4df0-af64-124c7c6f84fa\"><img src=\"\"></img></div>"
      ],
      "text/plain": [
       "<IPython.core.display.HTML object>"
      ]
     },
     "metadata": {},
     "output_type": "display_data"
    }
   ],
   "source": [
    "map1 = my_gis.map()\n",
    "map1.zoomLevel = 10\n",
    "map1.extent = sdf.spatial.full_extent\n",
    "map1"
   ]
  },
  {
   "cell_type": "code",
   "execution_count": 24,
   "metadata": {},
   "outputs": [
    {
     "data": {
      "text/plain": [
       "True"
      ]
     },
     "execution_count": 24,
     "metadata": {},
     "output_type": "execute_result"
    }
   ],
   "source": [
    "ps_geocode.sdf.spatial.plot(map_widget=map1)"
   ]
  },
  {
   "cell_type": "markdown",
   "metadata": {},
   "source": [
    "## Compute the service area\n"
   ]
  },
  {
   "cell_type": "code",
   "execution_count": 10,
   "metadata": {
    "scrolled": true
   },
   "outputs": [
    {
     "name": "stdout",
     "output_type": "stream",
     "text": [
      "Driving Time\n",
      "Driving Distance\n",
      "Trucking Time\n",
      "Trucking Distance\n",
      "Walking Time\n",
      "Walking Distance\n",
      "Rural Driving Time\n",
      "Rural Driving Distance\n"
     ]
    }
   ],
   "source": [
    "travel_modes = sa_layer.retrieve_travel_modes()\n",
    "\n",
    "for t in travel_modes['supportedTravelModes']:\n",
    "    print(t['name'])"
   ]
  },
  {
   "cell_type": "code",
   "execution_count": 11,
   "metadata": {},
   "outputs": [],
   "source": [
    "truck_mode = [t for t in travel_modes['supportedTravelModes'] if t['name'] == 'Driving Time'][0]"
   ]
  },
  {
   "cell_type": "code",
   "execution_count": 12,
   "metadata": {},
   "outputs": [],
   "source": [
    "sdf = ps_geocode.sdf\n",
    "s = sdf.spatial"
   ]
  },
  {
   "cell_type": "code",
   "execution_count": 13,
   "metadata": {},
   "outputs": [
    {
     "data": {
      "text/plain": [
       "<FeatureCollection>"
      ]
     },
     "execution_count": 13,
     "metadata": {},
     "output_type": "execute_result"
    }
   ],
   "source": [
    "s.to_feature_collection()"
   ]
  },
  {
   "cell_type": "code",
   "execution_count": null,
   "metadata": {},
   "outputs": [],
   "source": [
    "from arcgis.features import analysis\n",
    "drive_time_job = analysis.create_drive_time_areas(s.to_feature_collection(), \n",
    "                                       break_values=[5, 10, 15],\n",
    "                                       travel_mode=truck_mode,\n",
    "                                       future=True)\n",
    "drive_time_job"
   ]
  },
  {
   "cell_type": "markdown",
   "metadata": {},
   "source": [
    "## Checking Job Status"
   ]
  },
  {
   "cell_type": "code",
   "execution_count": 20,
   "metadata": {},
   "outputs": [
    {
     "data": {
      "text/plain": [
       "'esriJobSucceeded'"
      ]
     },
     "execution_count": 20,
     "metadata": {},
     "output_type": "execute_result"
    }
   ],
   "source": [
    "drive_time_job.status"
   ]
  },
  {
   "cell_type": "markdown",
   "metadata": {},
   "source": [
    "## Get the Job Result"
   ]
  },
  {
   "cell_type": "code",
   "execution_count": 22,
   "metadata": {},
   "outputs": [
    {
     "data": {
      "text/plain": [
       "<FeatureCollection>"
      ]
     },
     "execution_count": 22,
     "metadata": {},
     "output_type": "execute_result"
    }
   ],
   "source": [
    "fc = drive_time_job.result()\n",
    "fc"
   ]
  },
  {
   "cell_type": "markdown",
   "metadata": {},
   "source": [
    "### Visualize the service area on the map\n",
    "\n",
    "Visualize the results on the map widget.  \n"
   ]
  },
  {
   "cell_type": "code",
   "execution_count": 23,
   "metadata": {},
   "outputs": [],
   "source": [
    "map1.add_layer(fc)"
   ]
  },
  {
   "cell_type": "markdown",
   "metadata": {},
   "source": [
    "Click the drive time areas to explore their attributes. Because the content of the pop-ups may include HTML source code, it is also possible to have the pop-up windows include other resources such as tables and images."
   ]
  },
  {
   "cell_type": "markdown",
   "metadata": {},
   "source": [
    "### Driving directions"
   ]
  },
  {
   "cell_type": "code",
   "execution_count": 28,
   "metadata": {},
   "outputs": [],
   "source": [
    "from arcgis.network import RouteLayer"
   ]
  },
  {
   "cell_type": "code",
   "execution_count": 29,
   "metadata": {},
   "outputs": [
    {
     "data": {
      "text/plain": [
       "'https://routedev.arcgis.com/arcgis/rest/services/World/Route/NAServer/Route_World'"
      ]
     },
     "execution_count": 29,
     "metadata": {},
     "output_type": "execute_result"
    }
   ],
   "source": [
    "route_service_url = my_gis.properties.helperServices.route.url\n",
    "route_service_url"
   ]
  },
  {
   "cell_type": "code",
   "execution_count": 30,
   "metadata": {},
   "outputs": [
    {
     "data": {
      "text/plain": [
       "<RouteLayer url:\"https://routedev.arcgis.com/arcgis/rest/services/World/Route/NAServer/Route_World\">"
      ]
     },
     "execution_count": 30,
     "metadata": {},
     "output_type": "execute_result"
    }
   ],
   "source": [
    "route_service = RouteLayer(route_service_url, gis=my_gis)\n",
    "route_service"
   ]
  },
  {
   "cell_type": "code",
   "execution_count": 55,
   "metadata": {},
   "outputs": [],
   "source": [
    "stops = [ 'Zufahrt zum Flughafen Tegel, 13405 Berlin, Germany', 'Mohrenstraße 30, 10117 Berlin, Germany']\n",
    "from arcgis.geocoding import geocode, batch_geocode\n",
    "stops_geocoded = batch_geocode(stops)"
   ]
  },
  {
   "cell_type": "markdown",
   "metadata": {},
   "source": [
    "#### data wrangling"
   ]
  },
  {
   "cell_type": "code",
   "execution_count": 56,
   "metadata": {},
   "outputs": [
    {
     "data": {
      "text/plain": [
       "[{'x': 13.309110351000072, 'y': 52.55763923600006},\n",
       " {'x': 13.392801147000057, 'y': 52.51226653600003}]"
      ]
     },
     "execution_count": 56,
     "metadata": {},
     "output_type": "execute_result"
    }
   ],
   "source": [
    "stops_geocoded = [item['location'] for item in stops_geocoded]\n",
    "stops_geocoded"
   ]
  },
  {
   "cell_type": "code",
   "execution_count": 57,
   "metadata": {},
   "outputs": [
    {
     "data": {
      "text/plain": [
       "'13.309110351000072,52.55763923600006;13.392801147000057,52.51226653600003'"
      ]
     },
     "execution_count": 57,
     "metadata": {},
     "output_type": "execute_result"
    }
   ],
   "source": [
    "stops_geocoded2 = '{},{};{},{}'.format(stops_geocoded[0]['x'],stops_geocoded[0]['y'],\n",
    "                                       stops_geocoded[1]['x'],stops_geocoded[1]['y'])\n",
    "stops_geocoded2"
   ]
  },
  {
   "cell_type": "markdown",
   "metadata": {},
   "source": [
    "### Driving directions"
   ]
  },
  {
   "cell_type": "code",
   "execution_count": 58,
   "metadata": {},
   "outputs": [],
   "source": [
    "result = route_service.solve(stops_geocoded2, \n",
    "                             return_routes=True,\n",
    "                             return_stops=True, \n",
    "                             return_directions=True,\n",
    "                             return_barriers=False, \n",
    "                             return_polygon_barriers=False,\n",
    "                             return_polyline_barriers=False)"
   ]
  },
  {
   "cell_type": "code",
   "execution_count": 65,
   "metadata": {},
   "outputs": [],
   "source": [
    "ext = {'spatialReference': {'latestWkid': 4326},\n",
    "       'xmin': 13.309110351000072,\n",
    "       'ymin': 52.55763923600006,\n",
    "       'xmax': 13.392801147000057,\n",
    "       'ymax': 52.51226653600003}"
   ]
  },
  {
   "cell_type": "code",
   "execution_count": 69,
   "metadata": {},
   "outputs": [
    {
     "data": {
      "application/vnd.jupyter.widget-view+json": {
       "model_id": "69f35626f9d54656a50fe32564f2a2d3",
       "version_major": 2,
       "version_minor": 0
      },
      "text/plain": [
       "MapView(layout=Layout(height='400px', width='100%'), zoom=12.0)"
      ]
     },
     "metadata": {},
     "output_type": "display_data"
    },
    {
     "data": {
      "text/html": [
       "<div class=\"map-static-img-preview-bede5b0b-6ece-411b-ab28-224a5ac106c1\"><img src=\"\"></img></div>"
      ],
      "text/plain": [
       "<IPython.core.display.HTML object>"
      ]
     },
     "metadata": {},
     "output_type": "display_data"
    }
   ],
   "source": [
    "map2 = my_gis.map('Berlin, Germany', zoomlevel=12)\n",
    "\n",
    "map2"
   ]
  },
  {
   "cell_type": "code",
   "execution_count": 61,
   "metadata": {},
   "outputs": [],
   "source": [
    "from arcgis.features import Feature, FeatureSet\n",
    "features = result['routes']['features']\n",
    "routes = FeatureSet(features)\n",
    "stop_features = result['stops']['features']\n",
    "stop_fset = FeatureSet(stop_features)"
   ]
  },
  {
   "cell_type": "code",
   "execution_count": 62,
   "metadata": {},
   "outputs": [
    {
     "data": {
      "text/plain": [
       "4"
      ]
     },
     "execution_count": 62,
     "metadata": {},
     "output_type": "execute_result"
    }
   ],
   "source": [
    "len(result['stops'])"
   ]
  },
  {
   "cell_type": "code",
   "execution_count": 63,
   "metadata": {},
   "outputs": [],
   "source": [
    "stop_features = result['stops']['features']\n",
    "stop_fset = FeatureSet(stop_features)"
   ]
  },
  {
   "cell_type": "code",
   "execution_count": 70,
   "metadata": {},
   "outputs": [],
   "source": [
    "ln_symbol = { \"type\": \"simple-line\", \"width\": 2, \"color\": [255, 0, 0, 1] }\n",
    "symbol = {\n",
    "    \"type\" : \"simple-marker\",\n",
    "    \"style\" : \"square\",\n",
    "    \"outline\" : {\n",
    "        \"style\": \"dash-dot\"\n",
    "    },\n",
    "    \"color\": [255, 211, 127, 1]\n",
    "}\n",
    "map2.draw(routes, symbol=ln_symbol)\n",
    "map2.draw(stop_fset, symbol=symbol)"
   ]
  },
  {
   "cell_type": "markdown",
   "metadata": {
    "collapsed": true
   },
   "source": [
    "# Visualizing the Instructions"
   ]
  },
  {
   "cell_type": "code",
   "execution_count": 71,
   "metadata": {},
   "outputs": [
    {
     "data": {
      "text/html": [
       "<div>\n",
       "<style scoped>\n",
       "    .dataframe tbody tr th:only-of-type {\n",
       "        vertical-align: middle;\n",
       "    }\n",
       "\n",
       "    .dataframe tbody tr th {\n",
       "        vertical-align: top;\n",
       "    }\n",
       "\n",
       "    .dataframe thead th {\n",
       "        text-align: right;\n",
       "    }\n",
       "</style>\n",
       "<table border=\"1\" class=\"dataframe\">\n",
       "  <thead>\n",
       "    <tr style=\"text-align: right;\">\n",
       "      <th></th>\n",
       "      <th>text</th>\n",
       "      <th>length</th>\n",
       "      <th>time</th>\n",
       "    </tr>\n",
       "  </thead>\n",
       "  <tbody>\n",
       "    <tr>\n",
       "      <th>0</th>\n",
       "      <td>Start at Location 1</td>\n",
       "      <td>0.000000</td>\n",
       "      <td>0.000000</td>\n",
       "    </tr>\n",
       "    <tr>\n",
       "      <th>1</th>\n",
       "      <td>Go southwest on A111 (Tunnel Flughafen Tegel) ...</td>\n",
       "      <td>1.196488</td>\n",
       "      <td>1.769828</td>\n",
       "    </tr>\n",
       "    <tr>\n",
       "      <th>2</th>\n",
       "      <td>Take the ramp on the right at exit 12 to Hecke...</td>\n",
       "      <td>0.188789</td>\n",
       "      <td>0.455830</td>\n",
       "    </tr>\n",
       "    <tr>\n",
       "      <th>3</th>\n",
       "      <td>Continue forward on Kurt-Schumacher-Damm</td>\n",
       "      <td>0.358532</td>\n",
       "      <td>0.940048</td>\n",
       "    </tr>\n",
       "    <tr>\n",
       "      <th>4</th>\n",
       "      <td>At the roundabout, take the second exit onto T...</td>\n",
       "      <td>0.599046</td>\n",
       "      <td>1.425649</td>\n",
       "    </tr>\n",
       "    <tr>\n",
       "      <th>5</th>\n",
       "      <td>Turn left on Osnabrücker Straße</td>\n",
       "      <td>0.388085</td>\n",
       "      <td>1.072980</td>\n",
       "    </tr>\n",
       "    <tr>\n",
       "      <th>6</th>\n",
       "      <td>Continue forward on Kaiserin-Augusta-Allee</td>\n",
       "      <td>0.917693</td>\n",
       "      <td>2.281182</td>\n",
       "    </tr>\n",
       "    <tr>\n",
       "      <th>7</th>\n",
       "      <td>Continue forward on Alt-Moabit</td>\n",
       "      <td>0.102219</td>\n",
       "      <td>0.483672</td>\n",
       "    </tr>\n",
       "    <tr>\n",
       "      <th>8</th>\n",
       "      <td>Turn right on Gotzkowskystraße</td>\n",
       "      <td>0.062420</td>\n",
       "      <td>0.303635</td>\n",
       "    </tr>\n",
       "    <tr>\n",
       "      <th>9</th>\n",
       "      <td>Bear left on Levetzowstraße</td>\n",
       "      <td>0.408630</td>\n",
       "      <td>1.129607</td>\n",
       "    </tr>\n",
       "    <tr>\n",
       "      <th>10</th>\n",
       "      <td>Continue forward on Hansabrücke</td>\n",
       "      <td>0.074642</td>\n",
       "      <td>0.168296</td>\n",
       "    </tr>\n",
       "    <tr>\n",
       "      <th>11</th>\n",
       "      <td>Continue forward on Altonaer Straße</td>\n",
       "      <td>0.512292</td>\n",
       "      <td>1.107308</td>\n",
       "    </tr>\n",
       "    <tr>\n",
       "      <th>12</th>\n",
       "      <td>At the roundabout, take the third exit onto B5...</td>\n",
       "      <td>1.240837</td>\n",
       "      <td>2.899675</td>\n",
       "    </tr>\n",
       "    <tr>\n",
       "      <th>13</th>\n",
       "      <td>Turn right at Platz vor dem Brandenburger Tor ...</td>\n",
       "      <td>0.121040</td>\n",
       "      <td>0.442723</td>\n",
       "    </tr>\n",
       "    <tr>\n",
       "      <th>14</th>\n",
       "      <td>Turn left at Ebertstraße to stay on B5 (Behren...</td>\n",
       "      <td>0.373118</td>\n",
       "      <td>1.238818</td>\n",
       "    </tr>\n",
       "    <tr>\n",
       "      <th>15</th>\n",
       "      <td>Turn right on Glinkastraße</td>\n",
       "      <td>0.244074</td>\n",
       "      <td>0.909073</td>\n",
       "    </tr>\n",
       "    <tr>\n",
       "      <th>16</th>\n",
       "      <td>Turn left on Mohrenstraße</td>\n",
       "      <td>0.260134</td>\n",
       "      <td>1.359905</td>\n",
       "    </tr>\n",
       "    <tr>\n",
       "      <th>17</th>\n",
       "      <td>Finish at Location 2</td>\n",
       "      <td>0.000000</td>\n",
       "      <td>0.000000</td>\n",
       "    </tr>\n",
       "  </tbody>\n",
       "</table>\n",
       "</div>"
      ],
      "text/plain": [
       "                                                 text    length      time\n",
       "0                                 Start at Location 1  0.000000  0.000000\n",
       "1   Go southwest on A111 (Tunnel Flughafen Tegel) ...  1.196488  1.769828\n",
       "2   Take the ramp on the right at exit 12 to Hecke...  0.188789  0.455830\n",
       "3            Continue forward on Kurt-Schumacher-Damm  0.358532  0.940048\n",
       "4   At the roundabout, take the second exit onto T...  0.599046  1.425649\n",
       "5                     Turn left on Osnabrücker Straße  0.388085  1.072980\n",
       "6          Continue forward on Kaiserin-Augusta-Allee  0.917693  2.281182\n",
       "7                      Continue forward on Alt-Moabit  0.102219  0.483672\n",
       "8                      Turn right on Gotzkowskystraße  0.062420  0.303635\n",
       "9                         Bear left on Levetzowstraße  0.408630  1.129607\n",
       "10                    Continue forward on Hansabrücke  0.074642  0.168296\n",
       "11                Continue forward on Altonaer Straße  0.512292  1.107308\n",
       "12  At the roundabout, take the third exit onto B5...  1.240837  2.899675\n",
       "13  Turn right at Platz vor dem Brandenburger Tor ...  0.121040  0.442723\n",
       "14  Turn left at Ebertstraße to stay on B5 (Behren...  0.373118  1.238818\n",
       "15                         Turn right on Glinkastraße  0.244074  0.909073\n",
       "16                          Turn left on Mohrenstraße  0.260134  1.359905\n",
       "17                               Finish at Location 2  0.000000  0.000000"
      ]
     },
     "execution_count": 71,
     "metadata": {},
     "output_type": "execute_result"
    }
   ],
   "source": [
    "import pandas as pd\n",
    "text = [att['attributes'] for att in result['directions'][0]['features']]\n",
    "df = pd.DataFrame(text)[['text', 'length','time']]\n",
    "df"
   ]
  }
 ],
 "metadata": {
  "kernelspec": {
   "display_name": "Python 3",
   "language": "python",
   "name": "python3"
  }
 },
 "nbformat": 4,
 "nbformat_minor": 2
}
