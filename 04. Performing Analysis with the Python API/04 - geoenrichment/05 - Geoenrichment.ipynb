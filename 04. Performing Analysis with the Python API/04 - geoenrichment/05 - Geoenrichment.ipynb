{
 "cells": [
  {
   "cell_type": "markdown",
   "metadata": {
    "slideshow": {
     "slide_type": "slide"
    }
   },
   "source": [
    "# GeoEnrichment"
   ]
  },
  {
   "cell_type": "markdown",
   "metadata": {
    "slideshow": {
     "slide_type": "-"
    }
   },
   "source": [
    "GeoEnrichment provides the ability to \n",
    "* get facts about a location or area. \n",
    "* information about the people, places, and businesses \n",
    " * in a specific area or \n",
    " * within a certain distance or drive time from a location.\n",
    "* large collection of data sets including population, income, housing, consumer behavior, and the natural environment.\n",
    "* Site analysis is a popular application"
   ]
  },
  {
   "cell_type": "markdown",
   "metadata": {
    "slideshow": {
     "slide_type": "-"
    }
   },
   "source": [
    "### Login"
   ]
  },
  {
   "cell_type": "code",
   "execution_count": null,
   "metadata": {
    "slideshow": {
     "slide_type": "skip"
    }
   },
   "outputs": [],
   "source": [
    "from arcgis.gis import GIS\n",
    "from arcgis.geoenrichment import *\n",
    "\n",
    "gis = GIS(profile='agol_profile', verify_cert=False)"
   ]
  },
  {
   "cell_type": "markdown",
   "metadata": {
    "slideshow": {
     "slide_type": "subslide"
    }
   },
   "source": [
    "## GeoEnrichment coverage"
   ]
  },
  {
   "cell_type": "code",
   "execution_count": null,
   "metadata": {
    "slideshow": {
     "slide_type": "fragment"
    }
   },
   "outputs": [],
   "source": [
    "countries = get_countries()\n",
    "print(\"Number of countries for which GeoEnrichment data is available: \" + str(len(countries)))\n",
    "\n",
    "#print a few countries for a sample\n",
    "countries[0:10]"
   ]
  },
  {
   "cell_type": "markdown",
   "metadata": {
    "slideshow": {
     "slide_type": "subslide"
    }
   },
   "source": [
    "### Filtering countries by properties"
   ]
  },
  {
   "cell_type": "code",
   "execution_count": null,
   "metadata": {
    "slideshow": {
     "slide_type": "fragment"
    }
   },
   "outputs": [],
   "source": [
    "[c.properties.name for c in countries if c.properties.continent == 'Oceania']"
   ]
  },
  {
   "cell_type": "markdown",
   "metadata": {
    "slideshow": {
     "slide_type": "subslide"
    }
   },
   "source": [
    "## Discovering information for a country\n",
    "* Data collections, \n",
    "* Sub-geographies and \n",
    "* Available reports for a country"
   ]
  },
  {
   "cell_type": "code",
   "execution_count": null,
   "metadata": {
    "slideshow": {
     "slide_type": "fragment"
    }
   },
   "outputs": [],
   "source": [
    "aus = Country.get('Australia')"
   ]
  },
  {
   "cell_type": "markdown",
   "metadata": {
    "slideshow": {
     "slide_type": "skip"
    }
   },
   "source": [
    "Commonly used properties for the country are accessible using `Country.properties`."
   ]
  },
  {
   "cell_type": "code",
   "execution_count": null,
   "metadata": {
    "slideshow": {
     "slide_type": "fragment"
    }
   },
   "outputs": [],
   "source": [
    "aus.properties.name"
   ]
  },
  {
   "cell_type": "markdown",
   "metadata": {
    "slideshow": {
     "slide_type": "subslide"
    }
   },
   "source": [
    "### Data collections and analysis variables"
   ]
  },
  {
   "cell_type": "code",
   "execution_count": null,
   "metadata": {
    "scrolled": true,
    "slideshow": {
     "slide_type": "fragment"
    }
   },
   "outputs": [],
   "source": [
    "df = aus.data_collections\n",
    "df.head()"
   ]
  },
  {
   "cell_type": "code",
   "execution_count": null,
   "metadata": {
    "slideshow": {
     "slide_type": "-"
    }
   },
   "outputs": [],
   "source": [
    "# call the shape property to get the total number of rows and columns\n",
    "df.shape"
   ]
  },
  {
   "cell_type": "markdown",
   "metadata": {
    "slideshow": {
     "slide_type": "fragment"
    }
   },
   "source": [
    "Query the `EducationalAttainment` data collection and get all the unique `analysisVariable`s under that collection"
   ]
  },
  {
   "cell_type": "code",
   "execution_count": null,
   "metadata": {
    "scrolled": true,
    "slideshow": {
     "slide_type": "-"
    }
   },
   "outputs": [],
   "source": [
    "df.loc['EducationalAttainment']['analysisVariable'].unique()"
   ]
  },
  {
   "cell_type": "code",
   "execution_count": null,
   "metadata": {
    "slideshow": {
     "slide_type": "fragment"
    }
   },
   "outputs": [],
   "source": [
    "# view a sample of the `Age` data collection\n",
    "df.loc['EducationalAttainment'].head()"
   ]
  },
  {
   "cell_type": "markdown",
   "metadata": {
    "slideshow": {
     "slide_type": "subslide"
    }
   },
   "source": [
    "### Enriching an address"
   ]
  },
  {
   "cell_type": "code",
   "execution_count": null,
   "metadata": {
    "slideshow": {
     "slide_type": "-"
    }
   },
   "outputs": [],
   "source": [
    "sdf = enrich(study_areas=[\"Parliament Dr, Canberra ACT 2600, Australia\"],  \n",
    "             data_collections=['EducationalAttainment'])\n"
   ]
  },
  {
   "cell_type": "code",
   "execution_count": null,
   "metadata": {},
   "outputs": [],
   "source": [
    "sdf.spatial.plot()"
   ]
  },
  {
   "cell_type": "markdown",
   "metadata": {
    "slideshow": {
     "slide_type": "subslide"
    }
   },
   "source": [
    "# Reports"
   ]
  },
  {
   "cell_type": "code",
   "execution_count": null,
   "metadata": {
    "scrolled": true,
    "slideshow": {
     "slide_type": "fragment"
    }
   },
   "outputs": [],
   "source": [
    "aus.reports.head(6)"
   ]
  },
  {
   "cell_type": "code",
   "execution_count": null,
   "metadata": {
    "slideshow": {
     "slide_type": "-"
    }
   },
   "outputs": [],
   "source": [
    "# total number of reports available\n",
    "aus.reports.shape"
   ]
  },
  {
   "cell_type": "markdown",
   "metadata": {
    "slideshow": {
     "slide_type": "subslide"
    }
   },
   "source": [
    "### Creating Reports"
   ]
  },
  {
   "cell_type": "code",
   "execution_count": null,
   "metadata": {
    "slideshow": {
     "slide_type": "-"
    }
   },
   "outputs": [],
   "source": [
    "import tempfile\n",
    "report = create_report(study_areas=[\"Parliament Dr, Canberra ACT 2600, Australia\"],\n",
    "                     report=\"AustraliaFoodAndBeverageSpendingMDS\",\n",
    "                     export_format=\"PDF\", \n",
    "                     out_folder=tempfile.gettempdir(), out_name=\"FoodAndBeverageSpending.pdf\")\n",
    "print(report)"
   ]
  },
  {
   "cell_type": "markdown",
   "metadata": {
    "slideshow": {
     "slide_type": "subslide"
    }
   },
   "source": [
    "## Finding named statistical areas\n",
    "\n",
    "Each country has several named statistical areas in a hierarchy of geography levels (such as states, counties, zip codes, etc)."
   ]
  },
  {
   "cell_type": "code",
   "execution_count": null,
   "metadata": {
    "slideshow": {
     "slide_type": "skip"
    }
   },
   "outputs": [],
   "source": [
    "%config IPCompleter.greedy=True"
   ]
  },
  {
   "cell_type": "code",
   "execution_count": null,
   "metadata": {
    "slideshow": {
     "slide_type": "fragment"
    }
   },
   "outputs": [],
   "source": [
    "de = Country.get(\"Germany\")\n",
    "de.subgeographies.states['Hamburg']"
   ]
  },
  {
   "cell_type": "code",
   "execution_count": null,
   "metadata": {
    "slideshow": {
     "slide_type": "fragment"
    }
   },
   "outputs": [],
   "source": [
    "de.subgeographies.states[\"Hamburg\"].districts['Hamburg,_Freie_und_Hansestadt']"
   ]
  },
  {
   "cell_type": "code",
   "execution_count": null,
   "metadata": {},
   "outputs": [],
   "source": [
    "de.subgeographies.postcodes2['Berlin']"
   ]
  },
  {
   "cell_type": "markdown",
   "metadata": {
    "slideshow": {
     "slide_type": "skip"
    }
   },
   "source": [
    "The named areas can also be drawn on a map, as they include a `geometry` property."
   ]
  },
  {
   "cell_type": "code",
   "execution_count": null,
   "metadata": {
    "slideshow": {
     "slide_type": "subslide"
    }
   },
   "outputs": [],
   "source": [
    "m1 = gis.map('Hamburg, Germany', zoomlevel=9)\n",
    "m1"
   ]
  },
  {
   "cell_type": "code",
   "execution_count": null,
   "metadata": {
    "slideshow": {
     "slide_type": "-"
    }
   },
   "outputs": [],
   "source": [
    "m1.draw(de.subgeographies.states[\"Hamburg\"].districts['Hamburg,_Freie_und_Hansestadt'].geometry)"
   ]
  },
  {
   "cell_type": "markdown",
   "metadata": {
    "slideshow": {
     "slide_type": "subslide"
    }
   },
   "source": [
    "# Different geography levels for different country"
   ]
  },
  {
   "cell_type": "code",
   "execution_count": null,
   "metadata": {
    "slideshow": {
     "slide_type": "-"
    }
   },
   "outputs": [],
   "source": [
    "india = Country.get('India')"
   ]
  },
  {
   "cell_type": "code",
   "execution_count": null,
   "metadata": {
    "slideshow": {
     "slide_type": "fragment"
    }
   },
   "outputs": [],
   "source": [
    "india.subgeographies.states['Uttar_Pradesh'].districts['Baghpat'].subdistricts['Baraut']"
   ]
  },
  {
   "cell_type": "markdown",
   "metadata": {
    "slideshow": {
     "slide_type": "subslide"
    }
   },
   "source": [
    "### Searching for named areas within a country"
   ]
  },
  {
   "cell_type": "code",
   "execution_count": null,
   "metadata": {
    "scrolled": true,
    "slideshow": {
     "slide_type": "fragment"
    }
   },
   "outputs": [],
   "source": [
    "riversides_in_usa = usa.search('Riverside')\n",
    "print(\"number of riversides in the US: \" + str(len(riversides_in_usa)))\n",
    "\n",
    "# list a few of them\n",
    "riversides_in_usa[:10]"
   ]
  },
  {
   "cell_type": "markdown",
   "metadata": {},
   "source": [
    "For instance, you can make a map of all the riversides in the US"
   ]
  },
  {
   "cell_type": "code",
   "execution_count": null,
   "metadata": {
    "slideshow": {
     "slide_type": "subslide"
    }
   },
   "outputs": [],
   "source": [
    "usamap = gis.map('United States', zoomlevel=4)\n",
    "usamap"
   ]
  },
  {
   "cell_type": "code",
   "execution_count": null,
   "metadata": {
    "slideshow": {
     "slide_type": "-"
    }
   },
   "outputs": [],
   "source": [
    "for riverside in riversides_in_usa:\n",
    "    usamap.draw(riverside.geometry)"
   ]
  },
  {
   "cell_type": "markdown",
   "metadata": {
    "slideshow": {
     "slide_type": "subslide"
    }
   },
   "source": [
    "#### Filtering named areas by geography level"
   ]
  },
  {
   "cell_type": "code",
   "execution_count": null,
   "metadata": {
    "slideshow": {
     "slide_type": "fragment"
    }
   },
   "outputs": [],
   "source": [
    "[level['id'] for level in usa.levels]"
   ]
  },
  {
   "cell_type": "code",
   "execution_count": null,
   "metadata": {
    "slideshow": {
     "slide_type": "fragment"
    }
   },
   "outputs": [],
   "source": [
    "usa.search(query='Riverside', layers=['US.Counties'])"
   ]
  },
  {
   "cell_type": "markdown",
   "metadata": {
    "slideshow": {
     "slide_type": "subslide"
    }
   },
   "source": [
    "## Study Areas"
   ]
  },
  {
   "cell_type": "markdown",
   "metadata": {
    "slideshow": {
     "slide_type": "fragment"
    }
   },
   "source": [
    "### Accepted forms of study areas\n",
    "\n",
    "- **Street address locations** - Locations can be passed as strings of input street addresses, points of interest or place names.\n",
    "    + **Example:** `\"380 New York St, Redlands, CA\"`\n",
    "\n",
    "- **Multiple field input addresses** - Locations described as multiple field input addresses, using dictionaries.\n",
    "    + **Example:** \n",
    "        {\"Address\" : \"380 New York Street\",\n",
    "        \"City\" : \"Redlands\",\n",
    "        \"Region\" : \"CA\",\n",
    "        \"Postal\" : 92373}    \n",
    " \n",
    "- **Point and line geometries** - Point and line locations, using `arcgis.geometry` instances.\n",
    "    + **Example Point Location: ** \n",
    "    \n",
    "    `arcgis.geometry.Geometry({\"x\":-122.435,\"y\":37.785})`\n",
    "    \n",
    "    + ** Example Point location obtained using find_businesses() above: **\n",
    "     \n",
    "     `arcgis.geometry.Geometry(businesses.iloc[0]['SHAPE'])`\n",
    "\n",
    "- **Buffered study areas** - `BufferStudyArea` instances to change the ring buffer size or create drive-time service areas around points specified using one of the above methods. BufferStudyArea allows you to buffer point and street address study areas. They can be created using the following parameters:\n",
    "        * area: the point geometry or street address (string) study area to be buffered\n",
    "        * radii: list of distances by which to buffer the study area, eg. [1, 2, 3]\n",
    "        * units: distance unit, eg. Miles, Kilometers, Minutes (when using drive times/travel_mode)\n",
    "        * overlap: boolean, uses overlapping rings/network service areas when True, or non-overlapping disks when False\n",
    "        * travel_mode: None or string, one of the supported travel modes when using network service areas\n",
    "    + **Example Buffered Location: ** \n",
    "    \n",
    "    `pt = arcgis.geometry.Geometry({\"x\":-122.435,\"y\":37.785})\n",
    "    buffered_area = BufferStudyArea(area=pt, radii=[1,2,3], units=\"Miles\", overlap=False)` \n",
    "\n",
    "- **Network service areas** - `BufferStudyArea` also allows you to define drive time service areas around points as well as other advanced service areas such as walking and trucking.\n",
    "    + **Example: **\n",
    "    \n",
    "    `pt = arcgis.geometry.Geometry({\"x\":-122.435,\"y\":37.785})\n",
    "    buffered_area = BufferStudyArea(area=pt, radii=[1,2,3], units=\"Minutes\", travel_mode=\"Driving\")` \n",
    "\n",
    "- **Named statistical areas** - \n",
    "    + **Example:** \n",
    "    \n",
    "    `usa.subgeographies.states['California'].zip5['92373']`\n",
    "   \n",
    "- **Polygon geometries** - Locations can given as polygon geometries.\n",
    "    + **Example Polygon geometry: ** \n",
    "    \n",
    "    `arcgis.geometry.Geometry({\"rings\":[[[-117.185412,34.063170],[-122.81,37.81],[-117.200570,34.057196],[-117.185412,34.063170]]],\"spatialReference\":{\"wkid\":4326}})`\n"
   ]
  },
  {
   "cell_type": "markdown",
   "metadata": {
    "slideshow": {
     "slide_type": "subslide"
    }
   },
   "source": [
    "### Example: Enriching a named statistical area\n",
    "Enriching zip code 92373 in California using the 'Age' data collection:"
   ]
  },
  {
   "cell_type": "code",
   "execution_count": null,
   "metadata": {
    "slideshow": {
     "slide_type": "-"
    }
   },
   "outputs": [],
   "source": [
    "redlands = usa.subgeographies.states['California'].zip5['92373']"
   ]
  },
  {
   "cell_type": "code",
   "execution_count": null,
   "metadata": {
    "slideshow": {
     "slide_type": "fragment"
    }
   },
   "outputs": [],
   "source": [
    "enrich(study_areas=[redlands], data_collections=['Age'] )"
   ]
  },
  {
   "cell_type": "markdown",
   "metadata": {
    "slideshow": {
     "slide_type": "subslide"
    }
   },
   "source": [
    "### Example: Enrich all counties in a state"
   ]
  },
  {
   "cell_type": "code",
   "execution_count": null,
   "metadata": {
    "slideshow": {
     "slide_type": "-"
    }
   },
   "outputs": [],
   "source": [
    "ca_counties = usa.subgeographies.states['California'].counties"
   ]
  },
  {
   "cell_type": "code",
   "execution_count": null,
   "metadata": {
    "slideshow": {
     "slide_type": "fragment"
    }
   },
   "outputs": [],
   "source": [
    "counties_df = enrich(study_areas=ca_counties, data_collections=['Age'])\n",
    "counties_df.head(10)"
   ]
  },
  {
   "cell_type": "code",
   "execution_count": null,
   "metadata": {
    "slideshow": {
     "slide_type": "subslide"
    }
   },
   "outputs": [],
   "source": [
    "m2 = gis.map('California')\n",
    "m2"
   ]
  },
  {
   "cell_type": "code",
   "execution_count": null,
   "metadata": {
    "slideshow": {
     "slide_type": "-"
    }
   },
   "outputs": [],
   "source": [
    "item = gis.content.import_data(df=counties_df, title=\"CA county population\")"
   ]
  },
  {
   "cell_type": "code",
   "execution_count": null,
   "metadata": {
    "slideshow": {
     "slide_type": "-"
    }
   },
   "outputs": [],
   "source": [
    "item"
   ]
  },
  {
   "cell_type": "code",
   "execution_count": null,
   "metadata": {
    "slideshow": {
     "slide_type": "-"
    }
   },
   "outputs": [],
   "source": [
    "m2.add_layer(item.layers[0], {'renderer': 'ClassedColorRenderer', \n",
    "                            'field_name':'FEM0'})"
   ]
  },
  {
   "cell_type": "code",
   "execution_count": null,
   "metadata": {
    "slideshow": {
     "slide_type": "-"
    }
   },
   "outputs": [],
   "source": [
    "item.delete()"
   ]
  },
  {
   "cell_type": "markdown",
   "metadata": {
    "slideshow": {
     "slide_type": "subslide"
    }
   },
   "source": [
    "### Example: Using comparison levels"
   ]
  },
  {
   "cell_type": "code",
   "execution_count": null,
   "metadata": {
    "slideshow": {
     "slide_type": "-"
    }
   },
   "outputs": [],
   "source": [
    "enrich(study_areas=[redlands], data_collections=['Age'], \n",
    "       comparison_levels=['US.Counties', 'US.States'])"
   ]
  },
  {
   "cell_type": "markdown",
   "metadata": {
    "slideshow": {
     "slide_type": "subslide"
    }
   },
   "source": [
    "### Example: Buffering locations using non overlapping disks \n",
    "\n",
    "The example below creates non-overlapping disks of radii 1, 3 and 5 Miles respectively from a street address and enriches these using the 'Age' data collection."
   ]
  },
  {
   "cell_type": "code",
   "execution_count": null,
   "metadata": {
    "slideshow": {
     "slide_type": "-"
    }
   },
   "outputs": [],
   "source": [
    "buffered = BufferStudyArea(area='380 New York St Redlands CA 92373',\n",
    "                           radii=[1,3,5], units='Miles', overlap=False)\n",
    "enrich(study_areas=[buffered], data_collections=['Age'])"
   ]
  },
  {
   "cell_type": "markdown",
   "metadata": {
    "slideshow": {
     "slide_type": "subslide"
    }
   },
   "source": [
    "### Example: Using drive times as study areas\n",
    "    \n",
    "The example below creates 5 and 10 minute drive times from a street address and enriches these using the 'Age' data collection."
   ]
  },
  {
   "cell_type": "code",
   "execution_count": null,
   "metadata": {
    "slideshow": {
     "slide_type": "-"
    }
   },
   "outputs": [],
   "source": [
    "buffered = BufferStudyArea(area='380 New York St Redlands CA 92373', \n",
    "                           radii=[5, 10], units='Minutes', \n",
    "                           travel_mode='Driving')\n",
    "drive_time_df = enrich(study_areas=[buffered], data_collections=['Age'])"
   ]
  },
  {
   "cell_type": "code",
   "execution_count": null,
   "metadata": {
    "slideshow": {
     "slide_type": "-"
    }
   },
   "outputs": [],
   "source": [
    "drive_time_df"
   ]
  },
  {
   "cell_type": "markdown",
   "metadata": {
    "slideshow": {
     "slide_type": "subslide"
    }
   },
   "source": [
    "### Visualize results on a map"
   ]
  },
  {
   "cell_type": "markdown",
   "metadata": {
    "slideshow": {
     "slide_type": "skip"
    }
   },
   "source": [
    "The returned spatial dataframe can be visualized on a map as shown below:"
   ]
  },
  {
   "cell_type": "code",
   "execution_count": null,
   "metadata": {
    "slideshow": {
     "slide_type": "-"
    }
   },
   "outputs": [],
   "source": [
    "redlands_map = gis.map('Redlands, CA')\n",
    "redlands_map.basemap = 'dark-gray-vector'\n",
    "redlands_map"
   ]
  },
  {
   "cell_type": "code",
   "execution_count": null,
   "metadata": {
    "slideshow": {
     "slide_type": "-"
    }
   },
   "outputs": [],
   "source": [
    "drive_time_df.spatial.plot(redlands_map,\n",
    "                          renderer_type='c',  # for class breaks renderer\n",
    "                          method='esriClassifyNaturalBreaks',  # classification algorithm\n",
    "                          class_count=3,  # choose the number of classes\n",
    "                          col='bufferRadii',  # numeric column to classify\n",
    "                          cmap='prism',  # color map to pick colors from for each class\n",
    "                          alpha=0.7)  # specify opacity"
   ]
  },
  {
   "cell_type": "markdown",
   "metadata": {
    "slideshow": {
     "slide_type": "subslide"
    }
   },
   "source": [
    "## Saving GeoEnrichment Results"
   ]
  },
  {
   "cell_type": "raw",
   "metadata": {
    "slideshow": {
     "slide_type": "-"
    }
   },
   "source": [
    "gis.content.import_data(df=drive_time_df, title=\"Age statistics within 5,10 minutes of drive time from Esri\")"
   ]
  }
 ],
 "metadata": {
  "anaconda-cloud": {},
  "kernelspec": {
   "display_name": "Python 3",
   "language": "python",
   "name": "python3"
  },
  "language_info": {
   "codemirror_mode": {
    "name": "ipython",
    "version": 3
   },
   "file_extension": ".py",
   "mimetype": "text/x-python",
   "name": "python",
   "nbconvert_exporter": "python",
   "pygments_lexer": "ipython3",
   "version": "3.6.8"
  },
  "livereveal": {
   "scroll": true
  }
 },
 "nbformat": 4,
 "nbformat_minor": 2
}
