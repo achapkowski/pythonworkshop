{
 "cells": [
  {
   "cell_type": "markdown",
   "metadata": {},
   "source": [
    "# Spatially Enabled Data Frames"
   ]
  },
  {
   "cell_type": "markdown",
   "metadata": {},
   "source": [
    "<img src=\"./img/title_image.jpg\"/>"
   ]
  },
  {
   "cell_type": "markdown",
   "metadata": {},
   "source": [
    "## Overview "
   ]
  },
  {
   "cell_type": "markdown",
   "metadata": {},
   "source": [
    "- Pandas data frames \n",
    "- Custom namespace on Series and DataFrame objects\n",
    "    + `geom` on Series\n",
    "    \n",
    "    ```python\n",
    "    >>> df['SHAPE'].geom.area\n",
    "    ```\n",
    "    \n",
    "    + `spatial` on the the DataFrame\n",
    "    \n",
    "    ```python\n",
    "    >>> df.spatial.project(4326)\n",
    "    ```"
   ]
  },
  {
   "cell_type": "markdown",
   "metadata": {},
   "source": [
    "- Cross platform spatial analysis\n",
    "    + Mac, Linux, and Windows\n",
    "\n",
    "- Multi-geometry engine support\n",
    "\n",
    "    + Esri Arcpy's Engine\n",
    "    + Shapely/Geos\n",
    "    \n",
    "- Read/write data\n",
    "\n",
    "    + Fiona, shapefile, and arcpy"
   ]
  },
  {
   "cell_type": "markdown",
   "metadata": {},
   "source": [
    "## Getting Started"
   ]
  },
  {
   "cell_type": "markdown",
   "metadata": {},
   "source": [
    "It starts with two imports"
   ]
  },
  {
   "cell_type": "code",
   "execution_count": 1,
   "metadata": {},
   "outputs": [],
   "source": [
    "import pandas as pd\n",
    "from arcgis.features import GeoAccessor, GeoSeriesAccessor"
   ]
  },
  {
   "cell_type": "markdown",
   "metadata": {},
   "source": [
    "- Loads Pandas\n",
    "- The `GeoAccessor` and `GeoSeriesAccessor` load the namespaces into Pandas"
   ]
  },
  {
   "cell_type": "markdown",
   "metadata": {},
   "source": [
    "### Data I/O"
   ]
  },
  {
   "cell_type": "markdown",
   "metadata": {},
   "source": [
    "#### Consumption\n",
    "\n",
    "- Feature Layers\n",
    "- Data Frames\n",
    "- Feature classes"
   ]
  },
  {
   "cell_type": "markdown",
   "metadata": {},
   "source": [
    "```python\n",
    "\n",
    "    from arcgis.features import FeatureLayer\n",
    "    fl = FeatureLayer((\"https://services2.arcgis.com/zPFLSOZ5HzUzzTQb/arcgis\"\n",
    "                       \"/rest/services/CensusBlockGroup/FeatureServer/0\"))\n",
    "    sdf1 = pd.DataFrame.spatial.from_layer(fl)\n",
    "    sdf2 = pd.DataFrame.spatial.from_featureclass(\"./data/historic_traffic.shp\")\n",
    "    df_earthquakes = pd.read_csv(\"https://earthquake.usgs.gov/earthquakes/feed/v1.0/summary/all_hour.csv\")\n",
    "    sdf3 = pd.DataFrame.spatial.from_xy(df=df_earthquakes, \n",
    "                                        x_column=\"longitude\", \n",
    "                                        y_column=\"latitude\", \n",
    "                                        sr=4326)\n",
    "```"
   ]
  },
  {
   "cell_type": "markdown",
   "metadata": {},
   "source": [
    "#### Persistence of Data\n",
    "\n",
    "- Tables\n",
    "- Feature Classes\n",
    "- Services"
   ]
  },
  {
   "cell_type": "markdown",
   "metadata": {},
   "source": [
    "```python\n",
    "    item = gis.content.import_data(df=sdf1, title=\"CensusBlockGroup\")\n",
    "    sdf1.spatial.to_featureclass(location=\"./data/stage.gdb/census\")\n",
    "```"
   ]
  },
  {
   "cell_type": "markdown",
   "metadata": {},
   "source": [
    "## Mapping"
   ]
  },
  {
   "cell_type": "markdown",
   "metadata": {},
   "source": [
    "- Provides a rich visualization of data\n",
    "- Data does not have to exist on an Enterprise\n",
    "- Map both local and service data"
   ]
  },
  {
   "cell_type": "markdown",
   "metadata": {},
   "source": [
    "### Simple Rendering of Data"
   ]
  },
  {
   "cell_type": "markdown",
   "metadata": {},
   "source": [
    "- Simple renders can be circles, squares, solid colors, etc...\n",
    "- Single color only"
   ]
  },
  {
   "cell_type": "code",
   "execution_count": 2,
   "metadata": {},
   "outputs": [],
   "source": [
    "from arcgis.gis import GIS\n",
    "gis = GIS(profile='your_online_profile', verify_cert=False)"
   ]
  },
  {
   "cell_type": "code",
   "execution_count": 3,
   "metadata": {},
   "outputs": [
    {
     "data": {
      "application/vnd.jupyter.widget-view+json": {
       "model_id": "a31df11b027441c39e9f7e84db297b71",
       "version_major": 2,
       "version_minor": 0
      },
      "text/plain": [
       "MapView(layout=Layout(height='400px', width='100%'))"
      ]
     },
     "metadata": {},
     "output_type": "display_data"
    },
    {
     "data": {
      "text/html": [
       "<div class=\"map-static-img-preview-a2b2c63f-2ccb-47d7-80c5-54dc7a2dda6a\"><img src=\"\"></img></div>"
      ],
      "text/plain": [
       "<IPython.core.display.HTML object>"
      ]
     },
     "metadata": {},
     "output_type": "display_data"
    }
   ],
   "source": [
    "first_map = gis.map('New York, NY')\n",
    "first_map.basemap = 'streets'\n",
    "first_map"
   ]
  },
  {
   "cell_type": "code",
   "execution_count": 4,
   "metadata": {
    "scrolled": true
   },
   "outputs": [],
   "source": [
    "item = gis.content.get(\"85d0ca4ea1ca4b9abf0c51b9bd34de2e\")\n",
    "flayer = item.layers[0]\n",
    "df = flayer.query(where=\"AGE_45_54 < 1500\", as_df=True)"
   ]
  },
  {
   "cell_type": "code",
   "execution_count": 5,
   "metadata": {},
   "outputs": [
    {
     "data": {
      "text/plain": [
       "True"
      ]
     },
     "execution_count": 5,
     "metadata": {},
     "output_type": "execute_result"
    }
   ],
   "source": [
    "df.spatial.plot(map_widget=first_map)"
   ]
  },
  {
   "cell_type": "markdown",
   "metadata": {},
   "source": [
    "### Advanced Simple Rendering\n"
   ]
  },
  {
   "cell_type": "code",
   "execution_count": 6,
   "metadata": {
    "scrolled": true
   },
   "outputs": [
    {
     "data": {
      "application/vnd.jupyter.widget-view+json": {
       "model_id": "ea33b4444cfe44afb87d7509114bca28",
       "version_major": 2,
       "version_minor": 0
      },
      "text/plain": [
       "MapView(layout=Layout(height='400px', width='100%'), zoom=3.0)"
      ]
     },
     "metadata": {},
     "output_type": "display_data"
    },
    {
     "data": {
      "text/html": [
       "<div class=\"map-static-img-preview-c62a547b-fc0f-47f7-b904-3118f414ce09\"><img src=\"\"></img></div>"
      ],
      "text/plain": [
       "<IPython.core.display.HTML object>"
      ]
     },
     "metadata": {},
     "output_type": "display_data"
    }
   ],
   "source": [
    "m2 = gis.map('United States')\n",
    "m2.zoom = 3\n",
    "m2"
   ]
  },
  {
   "cell_type": "code",
   "execution_count": 7,
   "metadata": {},
   "outputs": [
    {
     "data": {
      "text/plain": [
       "True"
      ]
     },
     "execution_count": 7,
     "metadata": {},
     "output_type": "execute_result"
    }
   ],
   "source": [
    "m2.center = [39,-98]\n",
    "df.spatial.plot(map_widget=m2,\n",
    "            symbol_type='simple',\n",
    "            symbol_style='d', # d - for diamonds\n",
    "            colors='Reds_r',\n",
    "            cstep=10,\n",
    "            outline_color='Blues',\n",
    "            marker_size=10)"
   ]
  },
  {
   "cell_type": "markdown",
   "metadata": {},
   "source": [
    "### Class Break Renderer"
   ]
  },
  {
   "cell_type": "code",
   "execution_count": 8,
   "metadata": {},
   "outputs": [
    {
     "data": {
      "application/vnd.jupyter.widget-view+json": {
       "model_id": "05a47ae7eb65488495a2ee55f8403de4",
       "version_major": 2,
       "version_minor": 0
      },
      "text/plain": [
       "MapView(layout=Layout(height='400px', width='100%'), zoom=4.0)"
      ]
     },
     "metadata": {},
     "output_type": "display_data"
    },
    {
     "data": {
      "text/html": [
       "<div class=\"map-static-img-preview-97f1cc42-f832-49e9-8c19-462d67abefc6\"><img src=\"\"></img></div>"
      ],
      "text/plain": [
       "<IPython.core.display.HTML object>"
      ]
     },
     "metadata": {},
     "output_type": "display_data"
    }
   ],
   "source": [
    "m3 = gis.map('Reno, NV', zoomlevel=4)\n",
    "m3.center = [39,-98]\n",
    "m3"
   ]
  },
  {
   "cell_type": "code",
   "execution_count": 9,
   "metadata": {},
   "outputs": [
    {
     "data": {
      "text/plain": [
       "True"
      ]
     },
     "execution_count": 9,
     "metadata": {},
     "output_type": "execute_result"
    }
   ],
   "source": [
    "df.spatial.plot(map_widget = m3,\n",
    "                renderer_type='u', # specify the unique value renderer using its notation 'u'\n",
    "                col='ST'  # column to get unique values from\n",
    "               )"
   ]
  },
  {
   "cell_type": "markdown",
   "metadata": {},
   "source": [
    "### Class Break Renderer\n"
   ]
  },
  {
   "cell_type": "code",
   "execution_count": 10,
   "metadata": {},
   "outputs": [
    {
     "data": {
      "application/vnd.jupyter.widget-view+json": {
       "model_id": "15bf98b4fd7245a2863925c86604be9b",
       "version_major": 2,
       "version_minor": 0
      },
      "text/plain": [
       "MapView(layout=Layout(height='400px', width='100%'), zoom=4.0)"
      ]
     },
     "metadata": {},
     "output_type": "display_data"
    },
    {
     "data": {
      "text/html": [
       "<div class=\"map-static-img-preview-99f3c70c-f0df-4aa9-8394-e8964782b18d\"><img src=\"\"></img></div>"
      ],
      "text/plain": [
       "<IPython.core.display.HTML object>"
      ]
     },
     "metadata": {},
     "output_type": "display_data"
    }
   ],
   "source": [
    "m4 = gis.map('Reno, NV', zoomlevel=4)\n",
    "m4.center = [39,-98]\n",
    "m4"
   ]
  },
  {
   "cell_type": "code",
   "execution_count": 11,
   "metadata": {},
   "outputs": [
    {
     "data": {
      "text/plain": [
       "True"
      ]
     },
     "execution_count": 11,
     "metadata": {},
     "output_type": "execute_result"
    }
   ],
   "source": [
    "df.spatial.plot(map_widget=m4,\n",
    "               renderer_type='c',  # for class breaks renderer\n",
    "               method='esriClassifyNaturalBreaks',  # classification algorithm\n",
    "               class_count=20,  # choose the number of classes\n",
    "               col='POPULATION',  # numeric column to classify\n",
    "               cmap='gnuplot2_r',  # color map to pick colors from for each class\n",
    "               alpha=1  # specify opacity\n",
    "               )"
   ]
  },
  {
   "cell_type": "code",
   "execution_count": 12,
   "metadata": {},
   "outputs": [],
   "source": [
    "m4.legend = True"
   ]
  },
  {
   "cell_type": "markdown",
   "metadata": {},
   "source": [
    "### Rendering Polygon Example\n"
   ]
  },
  {
   "cell_type": "code",
   "execution_count": 13,
   "metadata": {},
   "outputs": [
    {
     "data": {
      "text/html": [
       "<div>\n",
       "<style scoped>\n",
       "    .dataframe tbody tr th:only-of-type {\n",
       "        vertical-align: middle;\n",
       "    }\n",
       "\n",
       "    .dataframe tbody tr th {\n",
       "        vertical-align: top;\n",
       "    }\n",
       "\n",
       "    .dataframe thead th {\n",
       "        text-align: right;\n",
       "    }\n",
       "</style>\n",
       "<table border=\"1\" class=\"dataframe\">\n",
       "  <thead>\n",
       "    <tr style=\"text-align: right;\">\n",
       "      <th></th>\n",
       "      <th>AGE_10_14</th>\n",
       "      <th>AGE_15_19</th>\n",
       "      <th>AGE_20_24</th>\n",
       "      <th>AGE_25_34</th>\n",
       "      <th>AGE_35_44</th>\n",
       "      <th>AGE_45_54</th>\n",
       "      <th>AGE_55_64</th>\n",
       "      <th>AGE_5_9</th>\n",
       "      <th>AGE_65_74</th>\n",
       "      <th>AGE_75_84</th>\n",
       "      <th>...</th>\n",
       "      <th>SHAPE</th>\n",
       "      <th>SQMI</th>\n",
       "      <th>STATE_FIPS</th>\n",
       "      <th>STATE_NAME</th>\n",
       "      <th>Shape_Area</th>\n",
       "      <th>Shape_Leng</th>\n",
       "      <th>Shape__Area</th>\n",
       "      <th>Shape__Length</th>\n",
       "      <th>VACANT</th>\n",
       "      <th>WHITE</th>\n",
       "    </tr>\n",
       "  </thead>\n",
       "  <tbody>\n",
       "    <tr>\n",
       "      <th>0</th>\n",
       "      <td>1647</td>\n",
       "      <td>1649</td>\n",
       "      <td>1261</td>\n",
       "      <td>2498</td>\n",
       "      <td>2199</td>\n",
       "      <td>2040</td>\n",
       "      <td>1693</td>\n",
       "      <td>1811</td>\n",
       "      <td>1048</td>\n",
       "      <td>603</td>\n",
       "      <td>...</td>\n",
       "      <td>{'rings': [[[-119.371226112965, 46.73393058681...</td>\n",
       "      <td>1930.08</td>\n",
       "      <td>53</td>\n",
       "      <td>Washington</td>\n",
       "      <td>0.591166</td>\n",
       "      <td>3.803975</td>\n",
       "      <td>1.073791e+10</td>\n",
       "      <td>475545.422075</td>\n",
       "      <td>522</td>\n",
       "      <td>11703</td>\n",
       "    </tr>\n",
       "    <tr>\n",
       "      <th>1</th>\n",
       "      <td>1273</td>\n",
       "      <td>1395</td>\n",
       "      <td>1188</td>\n",
       "      <td>2413</td>\n",
       "      <td>2310</td>\n",
       "      <td>3186</td>\n",
       "      <td>3090</td>\n",
       "      <td>1335</td>\n",
       "      <td>2310</td>\n",
       "      <td>1346</td>\n",
       "      <td>...</td>\n",
       "      <td>{'rings': [[[-116.919132413661, 45.99517550749...</td>\n",
       "      <td>640.61</td>\n",
       "      <td>53</td>\n",
       "      <td>Washington</td>\n",
       "      <td>0.191814</td>\n",
       "      <td>2.032057</td>\n",
       "      <td>3.433711e+09</td>\n",
       "      <td>269259.106078</td>\n",
       "      <td>636</td>\n",
       "      <td>20392</td>\n",
       "    </tr>\n",
       "    <tr>\n",
       "      <th>2</th>\n",
       "      <td>13350</td>\n",
       "      <td>12914</td>\n",
       "      <td>10955</td>\n",
       "      <td>23038</td>\n",
       "      <td>21734</td>\n",
       "      <td>25067</td>\n",
       "      <td>21381</td>\n",
       "      <td>13081</td>\n",
       "      <td>11515</td>\n",
       "      <td>6293</td>\n",
       "      <td>...</td>\n",
       "      <td>{'rings': [[[-118.98213281065, 45.999058375669...</td>\n",
       "      <td>1759.64</td>\n",
       "      <td>53</td>\n",
       "      <td>Washington</td>\n",
       "      <td>0.534315</td>\n",
       "      <td>3.217555</td>\n",
       "      <td>9.572816e+09</td>\n",
       "      <td>434419.310124</td>\n",
       "      <td>3314</td>\n",
       "      <td>144418</td>\n",
       "    </tr>\n",
       "    <tr>\n",
       "      <th>3</th>\n",
       "      <td>247</td>\n",
       "      <td>230</td>\n",
       "      <td>158</td>\n",
       "      <td>348</td>\n",
       "      <td>422</td>\n",
       "      <td>630</td>\n",
       "      <td>693</td>\n",
       "      <td>197</td>\n",
       "      <td>527</td>\n",
       "      <td>265</td>\n",
       "      <td>...</td>\n",
       "      <td>{'rings': [[[-117.602826222726, 46.00026820720...</td>\n",
       "      <td>873.57</td>\n",
       "      <td>53</td>\n",
       "      <td>Washington</td>\n",
       "      <td>0.261828</td>\n",
       "      <td>2.489179</td>\n",
       "      <td>4.695958e+09</td>\n",
       "      <td>339652.267019</td>\n",
       "      <td>374</td>\n",
       "      <td>3791</td>\n",
       "    </tr>\n",
       "    <tr>\n",
       "      <th>4</th>\n",
       "      <td>2956</td>\n",
       "      <td>2895</td>\n",
       "      <td>2192</td>\n",
       "      <td>4704</td>\n",
       "      <td>4660</td>\n",
       "      <td>5276</td>\n",
       "      <td>4670</td>\n",
       "      <td>2832</td>\n",
       "      <td>3038</td>\n",
       "      <td>1709</td>\n",
       "      <td>...</td>\n",
       "      <td>{'rings': [[[-120.004889911894, 47.22117809059...</td>\n",
       "      <td>1848.70</td>\n",
       "      <td>53</td>\n",
       "      <td>Washington</td>\n",
       "      <td>0.570914</td>\n",
       "      <td>4.342304</td>\n",
       "      <td>1.051979e+10</td>\n",
       "      <td>580469.298956</td>\n",
       "      <td>2110</td>\n",
       "      <td>30573</td>\n",
       "    </tr>\n",
       "  </tbody>\n",
       "</table>\n",
       "<p>5 rows × 60 columns</p>\n",
       "</div>"
      ],
      "text/plain": [
       "   AGE_10_14  AGE_15_19  AGE_20_24  AGE_25_34  AGE_35_44  AGE_45_54  \\\n",
       "0       1647       1649       1261       2498       2199       2040   \n",
       "1       1273       1395       1188       2413       2310       3186   \n",
       "2      13350      12914      10955      23038      21734      25067   \n",
       "3        247        230        158        348        422        630   \n",
       "4       2956       2895       2192       4704       4660       5276   \n",
       "\n",
       "   AGE_55_64  AGE_5_9  AGE_65_74  AGE_75_84  ...  \\\n",
       "0       1693     1811       1048        603  ...   \n",
       "1       3090     1335       2310       1346  ...   \n",
       "2      21381    13081      11515       6293  ...   \n",
       "3        693      197        527        265  ...   \n",
       "4       4670     2832       3038       1709  ...   \n",
       "\n",
       "                                               SHAPE     SQMI  STATE_FIPS  \\\n",
       "0  {'rings': [[[-119.371226112965, 46.73393058681...  1930.08          53   \n",
       "1  {'rings': [[[-116.919132413661, 45.99517550749...   640.61          53   \n",
       "2  {'rings': [[[-118.98213281065, 45.999058375669...  1759.64          53   \n",
       "3  {'rings': [[[-117.602826222726, 46.00026820720...   873.57          53   \n",
       "4  {'rings': [[[-120.004889911894, 47.22117809059...  1848.70          53   \n",
       "\n",
       "   STATE_NAME  Shape_Area  Shape_Leng   Shape__Area  Shape__Length  VACANT  \\\n",
       "0  Washington    0.591166    3.803975  1.073791e+10  475545.422075     522   \n",
       "1  Washington    0.191814    2.032057  3.433711e+09  269259.106078     636   \n",
       "2  Washington    0.534315    3.217555  9.572816e+09  434419.310124    3314   \n",
       "3  Washington    0.261828    2.489179  4.695958e+09  339652.267019     374   \n",
       "4  Washington    0.570914    4.342304  1.051979e+10  580469.298956    2110   \n",
       "\n",
       "    WHITE  \n",
       "0   11703  \n",
       "1   20392  \n",
       "2  144418  \n",
       "3    3791  \n",
       "4   30573  \n",
       "\n",
       "[5 rows x 60 columns]"
      ]
     },
     "execution_count": 13,
     "metadata": {},
     "output_type": "execute_result"
    }
   ],
   "source": [
    "from arcgis.features import FeatureLayer\n",
    "fl = FeatureLayer(\"https://services.arcgis.com/P3ePLMYs2RVChkJx/arcgis/rest/services/USA_Counties_Generalized/FeatureServer/0\")\n",
    "#(\"https://sampleserver6.arcgisonline.com/arcgis/rest/services/Census/MapServer/2\")\n",
    "county_sdf = fl.query(\"STATE_NAME='Washington'\", out_sr=4326, as_df=True)\n",
    "county_sdf.head()"
   ]
  },
  {
   "cell_type": "code",
   "execution_count": 14,
   "metadata": {},
   "outputs": [
    {
     "data": {
      "application/vnd.jupyter.widget-view+json": {
       "model_id": "9f0f4d9f423a4852a1aa7dd0500f5c23",
       "version_major": 2,
       "version_minor": 0
      },
      "text/plain": [
       "MapView(layout=Layout(height='400px', width='100%'), zoom=6.0)"
      ]
     },
     "metadata": {},
     "output_type": "display_data"
    },
    {
     "data": {
      "text/html": [
       "<div class=\"map-static-img-preview-86b12bb6-e529-4501-89f9-d3daea55586d\"><img src=\"\"></img></div>"
      ],
      "text/plain": [
       "<IPython.core.display.HTML object>"
      ]
     },
     "metadata": {},
     "output_type": "display_data"
    }
   ],
   "source": [
    "m5 = gis.map('Seattle, WA', zoomlevel=6)\n",
    "m5.basemap = 'dark-gray-vector'\n",
    "m5"
   ]
  },
  {
   "cell_type": "code",
   "execution_count": 15,
   "metadata": {},
   "outputs": [
    {
     "data": {
      "text/plain": [
       "True"
      ]
     },
     "execution_count": 15,
     "metadata": {},
     "output_type": "execute_result"
    }
   ],
   "source": [
    "county_sdf.spatial.plot(map_widget=m5,\n",
    "                        renderer_type='c',  \n",
    "                        method='esriClassifyNaturalBreaks',  \n",
    "                        class_count=7,  \n",
    "                        col='AGE_20_24', \n",
    "                        cmap='RdPu',  \n",
    "                        alpha=0.8,\n",
    "                        line_width=.25)"
   ]
  },
  {
   "cell_type": "markdown",
   "metadata": {
    "heading_collapsed": true
   },
   "source": [
    "#### Help Functions\n",
    "\n",
    "- How do we know what colormaps to use?"
   ]
  },
  {
   "cell_type": "code",
   "execution_count": 16,
   "metadata": {
    "hidden": true
   },
   "outputs": [
    {
     "data": {
      "image/png": "[encoded data removed]",
      "text/plain": [
       "<Figure size 432x2160 with 150 Axes>"
      ]
     },
     "metadata": {
      "needs_background": "light"
     },
     "output_type": "display_data"
    }
   ],
   "source": [
    "from arcgis.mapping import display_colormaps\n",
    "display_colormaps()"
   ]
  },
  {
   "cell_type": "markdown",
   "metadata": {
    "heading_collapsed": true
   },
   "source": [
    "## Spatial Index"
   ]
  },
  {
   "cell_type": "markdown",
   "metadata": {
    "hidden": true
   },
   "source": [
    "- Quickly find spatial locations \n",
    "    + generalized locations\n",
    "- Based on Minimum bounding rectangles"
   ]
  },
  {
   "cell_type": "markdown",
   "metadata": {
    "hidden": true
   },
   "source": [
    "### Index Visualized"
   ]
  },
  {
   "cell_type": "markdown",
   "metadata": {
    "hidden": true
   },
   "source": [
    "<img src=\"./img/spatial_index_viz.png\" />"
   ]
  },
  {
   "cell_type": "markdown",
   "metadata": {
    "hidden": true
   },
   "source": [
    "### Spatial Index Example"
   ]
  },
  {
   "cell_type": "code",
   "execution_count": 17,
   "metadata": {
    "hidden": true,
    "scrolled": true
   },
   "outputs": [
    {
     "data": {
      "text/html": [
       "<div class=\"item_container\" style=\"height: auto; overflow: hidden; border: 1px solid #cfcfcf; border-radius: 2px; background: #f6fafa; line-height: 1.21429em; padding: 10px;\">\n",
       "                    <div class=\"item_left\" style=\"width: 210px; float: left;\">\n",
       "                       <a href='https://arcgissolutions.maps.arcgis.com/home/item.html?id=85d0ca4ea1ca4b9abf0c51b9bd34de2e' target='_blank'>\n",
       "                        <img src='data:image/png;base64,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' width='200' height='133' class=\"itemThumbnail\">\n",
       "                       </a>\n",
       "                    </div>\n",
       "\n",
       "                    <div class=\"item_right\"     style=\"float: none; width: auto; overflow: hidden;\">\n",
       "                        <a href='https://arcgissolutions.maps.arcgis.com/home/item.html?id=85d0ca4ea1ca4b9abf0c51b9bd34de2e' target='_blank'><b>USA Major Cities</b>\n",
       "                        </a>\n",
       "                        <br/>This layer presents the locations of cities within the United States with populations of approximately 10,000 or greater, all state capitals, and the national capital.<img src='https://arcgissolutions.maps.arcgis.com/home/js/jsapi/esri/css/images/item_type_icons/featureshosted16.png' style=\"vertical-align:middle;\">Feature Layer Collection by esri_dm\n",
       "                        <br/>Last Modified: August 22, 2019\n",
       "                        <br/>0 comments, 1,882,927 views\n",
       "                    </div>\n",
       "                </div>\n",
       "                "
      ],
      "text/plain": [
       "<Item title:\"USA Major Cities\" type:Feature Layer Collection owner:esri_dm>"
      ]
     },
     "execution_count": 17,
     "metadata": {},
     "output_type": "execute_result"
    }
   ],
   "source": [
    "item = gis.content.get(\"85d0ca4ea1ca4b9abf0c51b9bd34de2e\")\n",
    "item"
   ]
  },
  {
   "cell_type": "code",
   "execution_count": 18,
   "metadata": {
    "hidden": true
   },
   "outputs": [],
   "source": [
    "sdf = item.layers[0].query(as_df=True, out_sr=4326) # Major US Cities"
   ]
  },
  {
   "cell_type": "code",
   "execution_count": 19,
   "metadata": {
    "hidden": true
   },
   "outputs": [],
   "source": [
    "index = sdf.spatial.sindex(stype='quadtree')"
   ]
  },
  {
   "cell_type": "code",
   "execution_count": 20,
   "metadata": {
    "hidden": true
   },
   "outputs": [],
   "source": [
    "nj_cities = index.intersect((-75.55956796790353, 38.928522146813044, \n",
    "                             -73.9024505439044, 41.35763612214295))"
   ]
  },
  {
   "cell_type": "code",
   "execution_count": 21,
   "metadata": {
    "hidden": true
   },
   "outputs": [
    {
     "data": {
      "application/vnd.jupyter.widget-view+json": {
       "model_id": "695878a830a4483f805465273c76dbad",
       "version_major": 2,
       "version_minor": 0
      },
      "text/plain": [
       "MapView(layout=Layout(height='400px', width='100%'))"
      ]
     },
     "metadata": {},
     "output_type": "display_data"
    },
    {
     "data": {
      "text/html": [
       "<div class=\"map-static-img-preview-01931ecf-4804-4098-b149-8b3aa6de1195\"><img src=\"\"></img></div>"
      ],
      "text/plain": [
       "<IPython.core.display.HTML object>"
      ]
     },
     "metadata": {},
     "output_type": "display_data"
    }
   ],
   "source": [
    "m6 = gis.map(\"New Jersey\")\n",
    "m6"
   ]
  },
  {
   "cell_type": "code",
   "execution_count": 22,
   "metadata": {
    "hidden": true
   },
   "outputs": [
    {
     "data": {
      "text/plain": [
       "True"
      ]
     },
     "execution_count": 22,
     "metadata": {},
     "output_type": "execute_result"
    }
   ],
   "source": [
    "sdf.iloc[nj_cities].spatial.plot(m6)"
   ]
  },
  {
   "cell_type": "markdown",
   "metadata": {
    "hidden": true
   },
   "source": [
    "#### Notice the Following"
   ]
  },
  {
   "cell_type": "markdown",
   "metadata": {
    "hidden": true
   },
   "source": [
    "- The bounding box returns locations outside of New Jersey\n",
    "    + This means the the selction by location is **generalized**\n",
    "    "
   ]
  },
  {
   "cell_type": "markdown",
   "metadata": {},
   "source": [
    "## Spatial Analysis"
   ]
  },
  {
   "cell_type": "markdown",
   "metadata": {},
   "source": [
    "<img src=\"./img/analysis_china.jpg\"/>"
   ]
  },
  {
   "cell_type": "markdown",
   "metadata": {},
   "source": [
    "- We have data, but how to we gain insights into the data?\n",
    "- Python API provides a wealth of vector based analytics"
   ]
  },
  {
   "cell_type": "markdown",
   "metadata": {},
   "source": [
    "### Using Geoprocessing Tools"
   ]
  },
  {
   "cell_type": "markdown",
   "metadata": {},
   "source": [
    "- The work horse of analysis\n",
    "- Service provide tools not available in the standard libary"
   ]
  },
  {
   "cell_type": "code",
   "execution_count": 23,
   "metadata": {},
   "outputs": [],
   "source": [
    "from arcgis import create_viewshed\n",
    "sub_sdf = sdf.iloc[[2981, 2982, 2983, 2984]]"
   ]
  },
  {
   "cell_type": "code",
   "execution_count": 24,
   "metadata": {},
   "outputs": [],
   "source": [
    "vs = create_viewshed(input_layer=sub_sdf.spatial.to_feature_collection(), \n",
    "                     maximum_distance=20, \n",
    "                     max_distance_units=\"Miles\")"
   ]
  },
  {
   "cell_type": "code",
   "execution_count": 25,
   "metadata": {},
   "outputs": [
    {
     "data": {
      "application/vnd.jupyter.widget-view+json": {
       "model_id": "c9f01e02531248628ae8f0fe4125aabf",
       "version_major": 2,
       "version_minor": 0
      },
      "text/plain": [
       "MapView(layout=Layout(height='400px', width='100%'), zoom=11.0)"
      ]
     },
     "metadata": {},
     "output_type": "display_data"
    },
    {
     "data": {
      "text/html": [
       "<div class=\"map-static-img-preview-e061e749-3541-4ae0-b852-e3b5563f9a01\"><img src=\"\"></img></div>"
      ],
      "text/plain": [
       "<IPython.core.display.HTML object>"
      ]
     },
     "metadata": {},
     "output_type": "display_data"
    }
   ],
   "source": [
    "m7 = gis.map('South Charleston, West Virginia', zoomlevel=11)\n",
    "m7.basemap = 'dark-gray-vector'\n",
    "m7"
   ]
  },
  {
   "cell_type": "code",
   "execution_count": 26,
   "metadata": {},
   "outputs": [
    {
     "data": {
      "text/plain": [
       "True"
      ]
     },
     "execution_count": 26,
     "metadata": {},
     "output_type": "execute_result"
    }
   ],
   "source": [
    "m7.add_layer(vs)\n",
    "sub_sdf.spatial.plot(m7,\n",
    "                    symbol_type='simple',\n",
    "                    symbol_style='d', # d - for diamonds\n",
    "                    colors='Reds_r',\n",
    "                    cstep=20,\n",
    "                    outline_color='Blues',\n",
    "                    marker_size=20)"
   ]
  },
  {
   "cell_type": "markdown",
   "metadata": {},
   "source": [
    "### Using GeoEnrichment "
   ]
  },
  {
   "cell_type": "markdown",
   "metadata": {},
   "source": [
    "<img src=\"./img/enrichment_talk.jpeg\"/>\n",
    "\n",
    "- Provides insights into a location or area\n",
    "- Uses credits\n",
    "- Driven heavily on SeDF"
   ]
  },
  {
   "cell_type": "code",
   "execution_count": 27,
   "metadata": {},
   "outputs": [
    {
     "data": {
      "text/html": [
       "<div>\n",
       "<style scoped>\n",
       "    .dataframe tbody tr th:only-of-type {\n",
       "        vertical-align: middle;\n",
       "    }\n",
       "\n",
       "    .dataframe tbody tr th {\n",
       "        vertical-align: top;\n",
       "    }\n",
       "\n",
       "    .dataframe thead th {\n",
       "        text-align: right;\n",
       "    }\n",
       "</style>\n",
       "<table border=\"1\" class=\"dataframe\">\n",
       "  <thead>\n",
       "    <tr style=\"text-align: right;\">\n",
       "      <th></th>\n",
       "      <th>AGE_10_14</th>\n",
       "      <th>AGE_15_19</th>\n",
       "      <th>AGE_20_24</th>\n",
       "      <th>AGE_25_34</th>\n",
       "      <th>AGE_35_44</th>\n",
       "      <th>AGE_45_54</th>\n",
       "      <th>AGE_55_64</th>\n",
       "      <th>AGE_5_9</th>\n",
       "      <th>AGE_65_74</th>\n",
       "      <th>AGE_75_84</th>\n",
       "      <th>...</th>\n",
       "      <th>VACANT</th>\n",
       "      <th>WHITE</th>\n",
       "      <th>aggregationMethod</th>\n",
       "      <th>apportionmentConfidence</th>\n",
       "      <th>areaType</th>\n",
       "      <th>bufferRadii</th>\n",
       "      <th>bufferUnits</th>\n",
       "      <th>bufferUnitsAlias</th>\n",
       "      <th>populationToPolygonSizeRating</th>\n",
       "      <th>sourceCountry</th>\n",
       "    </tr>\n",
       "  </thead>\n",
       "  <tbody>\n",
       "    <tr>\n",
       "      <th>0</th>\n",
       "      <td>544</td>\n",
       "      <td>626</td>\n",
       "      <td>702</td>\n",
       "      <td>1245</td>\n",
       "      <td>1357</td>\n",
       "      <td>1406</td>\n",
       "      <td>1359</td>\n",
       "      <td>575</td>\n",
       "      <td>1006</td>\n",
       "      <td>797</td>\n",
       "      <td>...</td>\n",
       "      <td>666</td>\n",
       "      <td>10040</td>\n",
       "      <td>BlockApportionment:US.BlockGroups</td>\n",
       "      <td>2.576</td>\n",
       "      <td>RingBuffer</td>\n",
       "      <td>1</td>\n",
       "      <td>esriMiles</td>\n",
       "      <td>Miles</td>\n",
       "      <td>2.191</td>\n",
       "      <td>US</td>\n",
       "    </tr>\n",
       "    <tr>\n",
       "      <th>1</th>\n",
       "      <td>1350</td>\n",
       "      <td>1490</td>\n",
       "      <td>1368</td>\n",
       "      <td>2893</td>\n",
       "      <td>2691</td>\n",
       "      <td>3263</td>\n",
       "      <td>2957</td>\n",
       "      <td>1401</td>\n",
       "      <td>1855</td>\n",
       "      <td>1518</td>\n",
       "      <td>...</td>\n",
       "      <td>1539</td>\n",
       "      <td>19365</td>\n",
       "      <td>BlockApportionment:US.BlockGroups</td>\n",
       "      <td>2.576</td>\n",
       "      <td>RingBuffer</td>\n",
       "      <td>1</td>\n",
       "      <td>esriMiles</td>\n",
       "      <td>Miles</td>\n",
       "      <td>2.191</td>\n",
       "      <td>US</td>\n",
       "    </tr>\n",
       "    <tr>\n",
       "      <th>2</th>\n",
       "      <td>689</td>\n",
       "      <td>774</td>\n",
       "      <td>697</td>\n",
       "      <td>1436</td>\n",
       "      <td>1422</td>\n",
       "      <td>2106</td>\n",
       "      <td>1967</td>\n",
       "      <td>666</td>\n",
       "      <td>1189</td>\n",
       "      <td>923</td>\n",
       "      <td>...</td>\n",
       "      <td>930</td>\n",
       "      <td>11030</td>\n",
       "      <td>BlockApportionment:US.BlockGroups</td>\n",
       "      <td>2.576</td>\n",
       "      <td>RingBuffer</td>\n",
       "      <td>1</td>\n",
       "      <td>esriMiles</td>\n",
       "      <td>Miles</td>\n",
       "      <td>2.191</td>\n",
       "      <td>US</td>\n",
       "    </tr>\n",
       "    <tr>\n",
       "      <th>3</th>\n",
       "      <td>2154</td>\n",
       "      <td>2295</td>\n",
       "      <td>2934</td>\n",
       "      <td>6396</td>\n",
       "      <td>4644</td>\n",
       "      <td>4213</td>\n",
       "      <td>3068</td>\n",
       "      <td>2423</td>\n",
       "      <td>1663</td>\n",
       "      <td>1017</td>\n",
       "      <td>...</td>\n",
       "      <td>1457</td>\n",
       "      <td>14048</td>\n",
       "      <td>BlockApportionment:US.BlockGroups</td>\n",
       "      <td>2.576</td>\n",
       "      <td>RingBuffer</td>\n",
       "      <td>1</td>\n",
       "      <td>esriMiles</td>\n",
       "      <td>Miles</td>\n",
       "      <td>2.191</td>\n",
       "      <td>US</td>\n",
       "    </tr>\n",
       "  </tbody>\n",
       "</table>\n",
       "<p>4 rows × 97 columns</p>\n",
       "</div>"
      ],
      "text/plain": [
       "   AGE_10_14  AGE_15_19  AGE_20_24  AGE_25_34  AGE_35_44  AGE_45_54  \\\n",
       "0        544        626        702       1245       1357       1406   \n",
       "1       1350       1490       1368       2893       2691       3263   \n",
       "2        689        774        697       1436       1422       2106   \n",
       "3       2154       2295       2934       6396       4644       4213   \n",
       "\n",
       "   AGE_55_64  AGE_5_9  AGE_65_74  AGE_75_84  ...  VACANT  WHITE  \\\n",
       "0       1359      575       1006        797  ...     666  10040   \n",
       "1       2957     1401       1855       1518  ...    1539  19365   \n",
       "2       1967      666       1189        923  ...     930  11030   \n",
       "3       3068     2423       1663       1017  ...    1457  14048   \n",
       "\n",
       "                   aggregationMethod  apportionmentConfidence    areaType  \\\n",
       "0  BlockApportionment:US.BlockGroups                    2.576  RingBuffer   \n",
       "1  BlockApportionment:US.BlockGroups                    2.576  RingBuffer   \n",
       "2  BlockApportionment:US.BlockGroups                    2.576  RingBuffer   \n",
       "3  BlockApportionment:US.BlockGroups                    2.576  RingBuffer   \n",
       "\n",
       "   bufferRadii  bufferUnits bufferUnitsAlias populationToPolygonSizeRating  \\\n",
       "0            1    esriMiles            Miles                         2.191   \n",
       "1            1    esriMiles            Miles                         2.191   \n",
       "2            1    esriMiles            Miles                         2.191   \n",
       "3            1    esriMiles            Miles                         2.191   \n",
       "\n",
       "   sourceCountry  \n",
       "0             US  \n",
       "1             US  \n",
       "2             US  \n",
       "3             US  \n",
       "\n",
       "[4 rows x 97 columns]"
      ]
     },
     "execution_count": 27,
     "metadata": {},
     "output_type": "execute_result"
    }
   ],
   "source": [
    "from arcgis.geoenrichment import enrich\n",
    "enrich_df = enrich(study_areas=sub_sdf, data_collections=['Age'] )\n",
    "enrich_df.head()"
   ]
  },
  {
   "cell_type": "code",
   "execution_count": 28,
   "metadata": {},
   "outputs": [
    {
     "data": {
      "application/vnd.jupyter.widget-view+json": {
       "model_id": "139e674f6e8d49b096ef1252e8ea303a",
       "version_major": 2,
       "version_minor": 0
      },
      "text/plain": [
       "MapView(layout=Layout(height='400px', width='100%'), zoom=11.0)"
      ]
     },
     "metadata": {},
     "output_type": "display_data"
    },
    {
     "data": {
      "text/html": [
       "<div class=\"map-static-img-preview-622fac09-42ac-4f3d-af2f-7b833042730a\"><img src=\"\"></img></div>"
      ],
      "text/plain": [
       "<IPython.core.display.HTML object>"
      ]
     },
     "metadata": {},
     "output_type": "display_data"
    }
   ],
   "source": [
    "m8 = gis.map('South Charleston, West Virginia', zoomlevel=11)\n",
    "m8.basemap = 'dark-gray'\n",
    "m8"
   ]
  },
  {
   "cell_type": "code",
   "execution_count": 29,
   "metadata": {},
   "outputs": [
    {
     "data": {
      "text/plain": [
       "True"
      ]
     },
     "execution_count": 29,
     "metadata": {},
     "output_type": "execute_result"
    }
   ],
   "source": [
    "enrich_df.spatial.plot(m8)"
   ]
  },
  {
   "cell_type": "markdown",
   "metadata": {
    "heading_collapsed": true
   },
   "source": [
    "### On to Custom Analysis"
   ]
  },
  {
   "cell_type": "markdown",
   "metadata": {
    "hidden": true
   },
   "source": [
    "- Besides the built in tool SeDF allows for complete customize of analysis process\n"
   ]
  },
  {
   "cell_type": "code",
   "execution_count": 30,
   "metadata": {
    "hidden": true
   },
   "outputs": [
    {
     "name": "stderr",
     "output_type": "stream",
     "text": [
      "C:\\Program Files\\ArcGIS\\Pro\\bin\\Python\\envs\\arcgispro-dev\\lib\\site-packages\\IPython\\core\\interactiveshell.py:3049: DtypeWarning: Columns (87) have mixed types. Specify dtype option on import or set low_memory=False.\n",
      "  interactivity=interactivity, compiler=compiler, result=result)\n"
     ]
    },
    {
     "data": {
      "text/html": [
       "<div>\n",
       "<style scoped>\n",
       "    .dataframe tbody tr th:only-of-type {\n",
       "        vertical-align: middle;\n",
       "    }\n",
       "\n",
       "    .dataframe tbody tr th {\n",
       "        vertical-align: top;\n",
       "    }\n",
       "\n",
       "    .dataframe thead th {\n",
       "        text-align: right;\n",
       "    }\n",
       "</style>\n",
       "<table border=\"1\" class=\"dataframe\">\n",
       "  <thead>\n",
       "    <tr style=\"text-align: right;\">\n",
       "      <th></th>\n",
       "      <th>id</th>\n",
       "      <th>listing_url</th>\n",
       "      <th>scrape_id</th>\n",
       "      <th>last_scraped</th>\n",
       "      <th>name</th>\n",
       "      <th>summary</th>\n",
       "      <th>space</th>\n",
       "      <th>description</th>\n",
       "      <th>experiences_offered</th>\n",
       "      <th>neighborhood_overview</th>\n",
       "      <th>...</th>\n",
       "      <th>requires_license</th>\n",
       "      <th>license</th>\n",
       "      <th>jurisdiction_names</th>\n",
       "      <th>instant_bookable</th>\n",
       "      <th>is_business_travel_ready</th>\n",
       "      <th>cancellation_policy</th>\n",
       "      <th>require_guest_profile_picture</th>\n",
       "      <th>require_guest_phone_verification</th>\n",
       "      <th>calculated_host_listings_count</th>\n",
       "      <th>reviews_per_month</th>\n",
       "    </tr>\n",
       "  </thead>\n",
       "  <tbody>\n",
       "    <tr>\n",
       "      <th>0</th>\n",
       "      <td>2818</td>\n",
       "      <td>https://www.airbnb.com/rooms/2818</td>\n",
       "      <td>20181206172549</td>\n",
       "      <td>2018-12-06</td>\n",
       "      <td>Quiet Garden View Room &amp; Super Fast WiFi</td>\n",
       "      <td>Quiet Garden View Room &amp; Super Fast WiFi</td>\n",
       "      <td>I'm renting a bedroom (room overlooking the ga...</td>\n",
       "      <td>Quiet Garden View Room &amp; Super Fast WiFi I'm r...</td>\n",
       "      <td>none</td>\n",
       "      <td>Indische Buurt (\"Indies Neighborhood\") is a ne...</td>\n",
       "      <td>...</td>\n",
       "      <td>f</td>\n",
       "      <td>NaN</td>\n",
       "      <td>{Amsterdam}</td>\n",
       "      <td>t</td>\n",
       "      <td>f</td>\n",
       "      <td>strict_14_with_grace_period</td>\n",
       "      <td>f</td>\n",
       "      <td>f</td>\n",
       "      <td>1</td>\n",
       "      <td>2.10</td>\n",
       "    </tr>\n",
       "    <tr>\n",
       "      <th>1</th>\n",
       "      <td>3209</td>\n",
       "      <td>https://www.airbnb.com/rooms/3209</td>\n",
       "      <td>20181206172549</td>\n",
       "      <td>2018-12-06</td>\n",
       "      <td>Quiet apt near center, great view</td>\n",
       "      <td>You will love our spacious (90 m2) bright apar...</td>\n",
       "      <td>Our apartment has lots of light, a balcony and...</td>\n",
       "      <td>You will love our spacious (90 m2) bright apar...</td>\n",
       "      <td>none</td>\n",
       "      <td>Welcome to the Spaarndammerbuurt! From the beg...</td>\n",
       "      <td>...</td>\n",
       "      <td>f</td>\n",
       "      <td>NaN</td>\n",
       "      <td>{Amsterdam}</td>\n",
       "      <td>f</td>\n",
       "      <td>f</td>\n",
       "      <td>moderate</td>\n",
       "      <td>f</td>\n",
       "      <td>f</td>\n",
       "      <td>1</td>\n",
       "      <td>1.03</td>\n",
       "    </tr>\n",
       "    <tr>\n",
       "      <th>2</th>\n",
       "      <td>20168</td>\n",
       "      <td>https://www.airbnb.com/rooms/20168</td>\n",
       "      <td>20181206172549</td>\n",
       "      <td>2018-12-06</td>\n",
       "      <td>100%Centre-Studio 1 Private Floor/Bathroom</td>\n",
       "      <td>Cozy studio on your own private floor, 100% in...</td>\n",
       "      <td>For those who like all facets of city life. In...</td>\n",
       "      <td>Cozy studio on your own private floor, 100% in...</td>\n",
       "      <td>none</td>\n",
       "      <td>Located just in between famous central canals....</td>\n",
       "      <td>...</td>\n",
       "      <td>f</td>\n",
       "      <td>NaN</td>\n",
       "      <td>{Amsterdam}</td>\n",
       "      <td>f</td>\n",
       "      <td>f</td>\n",
       "      <td>strict_14_with_grace_period</td>\n",
       "      <td>f</td>\n",
       "      <td>f</td>\n",
       "      <td>2</td>\n",
       "      <td>2.18</td>\n",
       "    </tr>\n",
       "    <tr>\n",
       "      <th>3</th>\n",
       "      <td>25428</td>\n",
       "      <td>https://www.airbnb.com/rooms/25428</td>\n",
       "      <td>20181206172549</td>\n",
       "      <td>2018-12-06</td>\n",
       "      <td>Lovely apt in City Centre (Jordaan)</td>\n",
       "      <td>NaN</td>\n",
       "      <td>This nicely furnished, newly renovated apt  is...</td>\n",
       "      <td>This nicely furnished, newly renovated apt  is...</td>\n",
       "      <td>none</td>\n",
       "      <td>NaN</td>\n",
       "      <td>...</td>\n",
       "      <td>f</td>\n",
       "      <td>NaN</td>\n",
       "      <td>{Amsterdam}</td>\n",
       "      <td>f</td>\n",
       "      <td>f</td>\n",
       "      <td>strict_14_with_grace_period</td>\n",
       "      <td>f</td>\n",
       "      <td>f</td>\n",
       "      <td>2</td>\n",
       "      <td>0.09</td>\n",
       "    </tr>\n",
       "    <tr>\n",
       "      <th>4</th>\n",
       "      <td>27886</td>\n",
       "      <td>https://www.airbnb.com/rooms/27886</td>\n",
       "      <td>20181206172549</td>\n",
       "      <td>2018-12-06</td>\n",
       "      <td>Romantic, stylish B&amp;B houseboat in canal district</td>\n",
       "      <td>Stylish and romantic houseboat on fantastic hi...</td>\n",
       "      <td>For a romantic couple: A beautifully restored ...</td>\n",
       "      <td>Stylish and romantic houseboat on fantastic hi...</td>\n",
       "      <td>none</td>\n",
       "      <td>Central, quiet, safe, clean and beautiful.</td>\n",
       "      <td>...</td>\n",
       "      <td>f</td>\n",
       "      <td>NaN</td>\n",
       "      <td>{Amsterdam}</td>\n",
       "      <td>t</td>\n",
       "      <td>f</td>\n",
       "      <td>strict_14_with_grace_period</td>\n",
       "      <td>f</td>\n",
       "      <td>f</td>\n",
       "      <td>1</td>\n",
       "      <td>2.03</td>\n",
       "    </tr>\n",
       "  </tbody>\n",
       "</table>\n",
       "<p>5 rows × 96 columns</p>\n",
       "</div>"
      ],
      "text/plain": [
       "      id                         listing_url       scrape_id last_scraped  \\\n",
       "0   2818   https://www.airbnb.com/rooms/2818  20181206172549   2018-12-06   \n",
       "1   3209   https://www.airbnb.com/rooms/3209  20181206172549   2018-12-06   \n",
       "2  20168  https://www.airbnb.com/rooms/20168  20181206172549   2018-12-06   \n",
       "3  25428  https://www.airbnb.com/rooms/25428  20181206172549   2018-12-06   \n",
       "4  27886  https://www.airbnb.com/rooms/27886  20181206172549   2018-12-06   \n",
       "\n",
       "                                                name  \\\n",
       "0           Quiet Garden View Room & Super Fast WiFi   \n",
       "1                  Quiet apt near center, great view   \n",
       "2         100%Centre-Studio 1 Private Floor/Bathroom   \n",
       "3                Lovely apt in City Centre (Jordaan)   \n",
       "4  Romantic, stylish B&B houseboat in canal district   \n",
       "\n",
       "                                             summary  \\\n",
       "0           Quiet Garden View Room & Super Fast WiFi   \n",
       "1  You will love our spacious (90 m2) bright apar...   \n",
       "2  Cozy studio on your own private floor, 100% in...   \n",
       "3                                                NaN   \n",
       "4  Stylish and romantic houseboat on fantastic hi...   \n",
       "\n",
       "                                               space  \\\n",
       "0  I'm renting a bedroom (room overlooking the ga...   \n",
       "1  Our apartment has lots of light, a balcony and...   \n",
       "2  For those who like all facets of city life. In...   \n",
       "3  This nicely furnished, newly renovated apt  is...   \n",
       "4  For a romantic couple: A beautifully restored ...   \n",
       "\n",
       "                                         description experiences_offered  \\\n",
       "0  Quiet Garden View Room & Super Fast WiFi I'm r...                none   \n",
       "1  You will love our spacious (90 m2) bright apar...                none   \n",
       "2  Cozy studio on your own private floor, 100% in...                none   \n",
       "3  This nicely furnished, newly renovated apt  is...                none   \n",
       "4  Stylish and romantic houseboat on fantastic hi...                none   \n",
       "\n",
       "                               neighborhood_overview  ... requires_license  \\\n",
       "0  Indische Buurt (\"Indies Neighborhood\") is a ne...  ...                f   \n",
       "1  Welcome to the Spaarndammerbuurt! From the beg...  ...                f   \n",
       "2  Located just in between famous central canals....  ...                f   \n",
       "3                                                NaN  ...                f   \n",
       "4         Central, quiet, safe, clean and beautiful.  ...                f   \n",
       "\n",
       "  license jurisdiction_names instant_bookable is_business_travel_ready  \\\n",
       "0     NaN        {Amsterdam}                t                        f   \n",
       "1     NaN        {Amsterdam}                f                        f   \n",
       "2     NaN        {Amsterdam}                f                        f   \n",
       "3     NaN        {Amsterdam}                f                        f   \n",
       "4     NaN        {Amsterdam}                t                        f   \n",
       "\n",
       "           cancellation_policy  require_guest_profile_picture  \\\n",
       "0  strict_14_with_grace_period                              f   \n",
       "1                     moderate                              f   \n",
       "2  strict_14_with_grace_period                              f   \n",
       "3  strict_14_with_grace_period                              f   \n",
       "4  strict_14_with_grace_period                              f   \n",
       "\n",
       "  require_guest_phone_verification  calculated_host_listings_count  \\\n",
       "0                                f                               1   \n",
       "1                                f                               1   \n",
       "2                                f                               2   \n",
       "3                                f                               2   \n",
       "4                                f                               1   \n",
       "\n",
       "   reviews_per_month  \n",
       "0               2.10  \n",
       "1               1.03  \n",
       "2               2.18  \n",
       "3               0.09  \n",
       "4               2.03  \n",
       "\n",
       "[5 rows x 96 columns]"
      ]
     },
     "execution_count": 30,
     "metadata": {},
     "output_type": "execute_result"
    }
   ],
   "source": [
    "df = pd.read_csv(\"./data/listings.csv\")\n",
    "df.head()"
   ]
  },
  {
   "cell_type": "markdown",
   "metadata": {
    "hidden": true
   },
   "source": [
    "#### Examining the Review Scores"
   ]
  },
  {
   "cell_type": "code",
   "execution_count": 31,
   "metadata": {
    "hidden": true
   },
   "outputs": [
    {
     "data": {
      "text/html": [
       "<div>\n",
       "<style scoped>\n",
       "    .dataframe tbody tr th:only-of-type {\n",
       "        vertical-align: middle;\n",
       "    }\n",
       "\n",
       "    .dataframe tbody tr th {\n",
       "        vertical-align: top;\n",
       "    }\n",
       "\n",
       "    .dataframe thead th {\n",
       "        text-align: right;\n",
       "    }\n",
       "</style>\n",
       "<table border=\"1\" class=\"dataframe\">\n",
       "  <thead>\n",
       "    <tr style=\"text-align: right;\">\n",
       "      <th></th>\n",
       "      <th>review_scores_rating</th>\n",
       "      <th>review_scores_accuracy</th>\n",
       "      <th>review_scores_cleanliness</th>\n",
       "      <th>review_scores_checkin</th>\n",
       "      <th>review_scores_communication</th>\n",
       "      <th>review_scores_location</th>\n",
       "      <th>review_scores_value</th>\n",
       "      <th>latitude</th>\n",
       "      <th>longitude</th>\n",
       "    </tr>\n",
       "  </thead>\n",
       "  <tbody>\n",
       "    <tr>\n",
       "      <th>count</th>\n",
       "      <td>17391.000000</td>\n",
       "      <td>17381.000000</td>\n",
       "      <td>17383.000000</td>\n",
       "      <td>17369.000000</td>\n",
       "      <td>17378.000000</td>\n",
       "      <td>17370.000000</td>\n",
       "      <td>17371.000000</td>\n",
       "      <td>20030.000000</td>\n",
       "      <td>20030.000000</td>\n",
       "    </tr>\n",
       "    <tr>\n",
       "      <th>mean</th>\n",
       "      <td>94.849520</td>\n",
       "      <td>9.679765</td>\n",
       "      <td>9.465627</td>\n",
       "      <td>9.735563</td>\n",
       "      <td>9.785361</td>\n",
       "      <td>9.421531</td>\n",
       "      <td>9.175004</td>\n",
       "      <td>52.365212</td>\n",
       "      <td>4.888977</td>\n",
       "    </tr>\n",
       "    <tr>\n",
       "      <th>std</th>\n",
       "      <td>6.648685</td>\n",
       "      <td>0.685271</td>\n",
       "      <td>0.867973</td>\n",
       "      <td>0.646557</td>\n",
       "      <td>0.599409</td>\n",
       "      <td>0.727931</td>\n",
       "      <td>0.805422</td>\n",
       "      <td>0.015996</td>\n",
       "      <td>0.035573</td>\n",
       "    </tr>\n",
       "    <tr>\n",
       "      <th>min</th>\n",
       "      <td>20.000000</td>\n",
       "      <td>2.000000</td>\n",
       "      <td>2.000000</td>\n",
       "      <td>2.000000</td>\n",
       "      <td>2.000000</td>\n",
       "      <td>2.000000</td>\n",
       "      <td>2.000000</td>\n",
       "      <td>52.288378</td>\n",
       "      <td>4.753247</td>\n",
       "    </tr>\n",
       "    <tr>\n",
       "      <th>25%</th>\n",
       "      <td>93.000000</td>\n",
       "      <td>9.000000</td>\n",
       "      <td>9.000000</td>\n",
       "      <td>10.000000</td>\n",
       "      <td>10.000000</td>\n",
       "      <td>9.000000</td>\n",
       "      <td>9.000000</td>\n",
       "      <td>52.355126</td>\n",
       "      <td>4.863595</td>\n",
       "    </tr>\n",
       "    <tr>\n",
       "      <th>50%</th>\n",
       "      <td>97.000000</td>\n",
       "      <td>10.000000</td>\n",
       "      <td>10.000000</td>\n",
       "      <td>10.000000</td>\n",
       "      <td>10.000000</td>\n",
       "      <td>10.000000</td>\n",
       "      <td>9.000000</td>\n",
       "      <td>52.364590</td>\n",
       "      <td>4.886387</td>\n",
       "    </tr>\n",
       "    <tr>\n",
       "      <th>75%</th>\n",
       "      <td>100.000000</td>\n",
       "      <td>10.000000</td>\n",
       "      <td>10.000000</td>\n",
       "      <td>10.000000</td>\n",
       "      <td>10.000000</td>\n",
       "      <td>10.000000</td>\n",
       "      <td>10.000000</td>\n",
       "      <td>52.375074</td>\n",
       "      <td>4.908288</td>\n",
       "    </tr>\n",
       "    <tr>\n",
       "      <th>max</th>\n",
       "      <td>100.000000</td>\n",
       "      <td>10.000000</td>\n",
       "      <td>10.000000</td>\n",
       "      <td>10.000000</td>\n",
       "      <td>10.000000</td>\n",
       "      <td>10.000000</td>\n",
       "      <td>10.000000</td>\n",
       "      <td>52.424713</td>\n",
       "      <td>5.027689</td>\n",
       "    </tr>\n",
       "  </tbody>\n",
       "</table>\n",
       "</div>"
      ],
      "text/plain": [
       "       review_scores_rating  review_scores_accuracy  \\\n",
       "count          17391.000000            17381.000000   \n",
       "mean              94.849520                9.679765   \n",
       "std                6.648685                0.685271   \n",
       "min               20.000000                2.000000   \n",
       "25%               93.000000                9.000000   \n",
       "50%               97.000000               10.000000   \n",
       "75%              100.000000               10.000000   \n",
       "max              100.000000               10.000000   \n",
       "\n",
       "       review_scores_cleanliness  review_scores_checkin  \\\n",
       "count               17383.000000           17369.000000   \n",
       "mean                    9.465627               9.735563   \n",
       "std                     0.867973               0.646557   \n",
       "min                     2.000000               2.000000   \n",
       "25%                     9.000000              10.000000   \n",
       "50%                    10.000000              10.000000   \n",
       "75%                    10.000000              10.000000   \n",
       "max                    10.000000              10.000000   \n",
       "\n",
       "       review_scores_communication  review_scores_location  \\\n",
       "count                 17378.000000            17370.000000   \n",
       "mean                      9.785361                9.421531   \n",
       "std                       0.599409                0.727931   \n",
       "min                       2.000000                2.000000   \n",
       "25%                      10.000000                9.000000   \n",
       "50%                      10.000000               10.000000   \n",
       "75%                      10.000000               10.000000   \n",
       "max                      10.000000               10.000000   \n",
       "\n",
       "       review_scores_value      latitude     longitude  \n",
       "count         17371.000000  20030.000000  20030.000000  \n",
       "mean              9.175004     52.365212      4.888977  \n",
       "std               0.805422      0.015996      0.035573  \n",
       "min               2.000000     52.288378      4.753247  \n",
       "25%               9.000000     52.355126      4.863595  \n",
       "50%               9.000000     52.364590      4.886387  \n",
       "75%              10.000000     52.375074      4.908288  \n",
       "max              10.000000     52.424713      5.027689  "
      ]
     },
     "execution_count": 31,
     "metadata": {},
     "output_type": "execute_result"
    }
   ],
   "source": [
    "ratings = ['review_scores_rating', 'review_scores_accuracy', 'review_scores_cleanliness', \n",
    "          'review_scores_checkin', 'review_scores_communication', 'review_scores_location', \n",
    "          'review_scores_value', 'latitude', 'longitude']\n",
    "df[ratings].describe()"
   ]
  },
  {
   "cell_type": "code",
   "execution_count": 32,
   "metadata": {
    "hidden": true
   },
   "outputs": [],
   "source": [
    "data = df[~df['review_scores_value'].isna()].copy().reset_index(drop=True)\n",
    "sdf_airbnb = pd.DataFrame.spatial.from_xy(df=data, y_column='latitude', x_column='longitude', sr=4326)"
   ]
  },
  {
   "cell_type": "code",
   "execution_count": 33,
   "metadata": {
    "hidden": true
   },
   "outputs": [
    {
     "data": {
      "text/plain": [
       "(4.763264201049322, 52.2892744181358, 5.027688954448574, 52.42471256156165)"
      ]
     },
     "execution_count": 33,
     "metadata": {},
     "output_type": "execute_result"
    }
   ],
   "source": [
    "sdf_airbnb.spatial.full_extent"
   ]
  },
  {
   "cell_type": "code",
   "execution_count": 34,
   "metadata": {
    "hidden": true
   },
   "outputs": [
    {
     "data": {
      "application/vnd.jupyter.widget-view+json": {
       "model_id": "9dafb47f10c1418390bedea2a0978eec",
       "version_major": 2,
       "version_minor": 0
      },
      "text/plain": [
       "MapView(layout=Layout(height='400px', width='100%'))"
      ]
     },
     "metadata": {},
     "output_type": "display_data"
    },
    {
     "data": {
      "text/html": [
       "<div class=\"map-static-img-preview-ef77ba3c-3c3b-4688-bced-cfa201aa2284\"><img src=\"\"></img></div>"
      ],
      "text/plain": [
       "<IPython.core.display.HTML object>"
      ]
     },
     "metadata": {},
     "output_type": "display_data"
    }
   ],
   "source": [
    "m10 = gis.map()\n",
    "m10.extent = sdf_airbnb.spatial.full_extent\n",
    "m10"
   ]
  },
  {
   "cell_type": "markdown",
   "metadata": {
    "hidden": true
   },
   "source": [
    "#### K-Means Clustering\n",
    "\n",
    "- Unsupervised learning  technique\n",
    "    + finds hidden structures in data when we don't know the answer upfront\n"
   ]
  },
  {
   "cell_type": "code",
   "execution_count": 35,
   "metadata": {
    "hidden": true
   },
   "outputs": [],
   "source": [
    "from sklearn import cluster"
   ]
  },
  {
   "cell_type": "markdown",
   "metadata": {
    "hidden": true
   },
   "source": [
    "- Remove and NaN or NULL value from the columns of interest\n",
    "- Convert price from string to numeric\n",
    "- Select only 'Entire home/apt' "
   ]
  },
  {
   "cell_type": "code",
   "execution_count": 36,
   "metadata": {
    "hidden": true
   },
   "outputs": [],
   "source": [
    "q = (sdf_airbnb['room_type'] == 'Entire home/apt') & (sdf_airbnb['beds'] >=4)\n",
    "\n",
    "sdf_airbnb = (sdf_airbnb\n",
    "              .loc[q]\n",
    "              .dropna(axis=0, subset=ratings)\n",
    "              .copy()\n",
    "              .reset_index(drop=True))\n",
    "\n",
    "sdf_airbnb['RENTALPRICE'] = (sdf_airbnb\n",
    "                                    .price\n",
    "                                    .str\n",
    "                                    .replace(\"$\", \"\")\n",
    "                                    .str.replace(\",\",\"\")\n",
    "                             .apply(float))"
   ]
  },
  {
   "cell_type": "code",
   "execution_count": 37,
   "metadata": {
    "hidden": true
   },
   "outputs": [
    {
     "data": {
      "image/png": "[encoded data removed]",
      "text/plain": [
       "<Figure size 720x720 with 1 Axes>"
      ]
     },
     "metadata": {
      "needs_background": "light"
     },
     "output_type": "display_data"
    }
   ],
   "source": [
    "import matplotlib.pyplot as plt\n",
    "distortions = []\n",
    "for i in range(1,11):\n",
    "    km = cluster.KMeans(n_clusters=i,\n",
    "           init='k-means++',\n",
    "           n_init=10,\n",
    "           max_iter=300,\n",
    "           random_state=1)\n",
    "    km.fit(sdf_airbnb[['RENTALPRICE']])\n",
    "    distortions.append(km.inertia_)\n",
    "plt.figure(figsize=(10,10))\n",
    "plt.plot(range(1,11), distortions, marker='o')\n",
    "plt.xlabel('Number of Clusters')\n",
    "plt.ylabel('Distortion')\n",
    "plt.show()"
   ]
  },
  {
   "cell_type": "code",
   "execution_count": 38,
   "metadata": {
    "hidden": true
   },
   "outputs": [],
   "source": [
    "kmeans5 = cluster.KMeans(n_clusters=4,\n",
    "                        init='random',\n",
    "                        n_init=10,\n",
    "                        max_iter=300,\n",
    "                        random_state=0)\n",
    "k5cls = kmeans5.fit_predict(sdf_airbnb[['RENTALPRICE']])\n",
    "sdf_airbnb['class'] = k5cls"
   ]
  },
  {
   "cell_type": "code",
   "execution_count": 39,
   "metadata": {
    "hidden": true
   },
   "outputs": [],
   "source": [
    "display_columns = ['SHAPE', 'class', 'name', 'summary', \"price\"]"
   ]
  },
  {
   "cell_type": "code",
   "execution_count": 40,
   "metadata": {
    "hidden": true
   },
   "outputs": [
    {
     "data": {
      "application/vnd.jupyter.widget-view+json": {
       "model_id": "a3822a89c3bd43b18376199793b99730",
       "version_major": 2,
       "version_minor": 0
      },
      "text/plain": [
       "MapView(layout=Layout(height='400px', width='100%'))"
      ]
     },
     "metadata": {},
     "output_type": "display_data"
    },
    {
     "data": {
      "text/html": [
       "<div class=\"map-static-img-preview-a6b3b84a-f0c8-47fa-bec1-25d1e00fa88b\"><img src=\"\"></img></div>"
      ],
      "text/plain": [
       "<IPython.core.display.HTML object>"
      ]
     },
     "metadata": {},
     "output_type": "display_data"
    }
   ],
   "source": [
    "m11 = gis.map()\n",
    "m11.extent = sdf_airbnb.spatial.full_extent\n",
    "m11"
   ]
  },
  {
   "cell_type": "code",
   "execution_count": 41,
   "metadata": {
    "hidden": true
   },
   "outputs": [
    {
     "name": "stderr",
     "output_type": "stream",
     "text": [
      "C:\\SVN\\achapkowski_geosaurus_fork\\src\\arcgis\\features\\geo\\_accessor.py:2335: SettingWithCopyWarning: \n",
      "A value is trying to be set on a copy of a slice from a DataFrame.\n",
      "Try using .loc[row_indexer,col_indexer] = value instead\n",
      "\n",
      "See the caveats in the documentation: http://pandas.pydata.org/pandas-docs/stable/indexing.html#indexing-view-versus-copy\n",
      "  self._data['OBJECTID'] = list(range(1, self._data.shape[0] + 1))\n"
     ]
    },
    {
     "data": {
      "text/plain": [
       "True"
      ]
     },
     "execution_count": 41,
     "metadata": {},
     "output_type": "execute_result"
    }
   ],
   "source": [
    "sdf_airbnb[display_columns].copy().spatial.plot(map_widget=m11,\n",
    "               renderer_type='u',  # for unique renderer\n",
    "               col='class',  # numeric column to classify\n",
    "               cmap='gist_ncar',  \n",
    "               line_width=0,\n",
    "               alpha=0.7  # specify opacity\n",
    "               )"
   ]
  },
  {
   "cell_type": "code",
   "execution_count": 42,
   "metadata": {
    "hidden": true
   },
   "outputs": [],
   "source": [
    "m11.legend = True"
   ]
  }
 ],
 "metadata": {
  "kernelspec": {
   "display_name": "Python 3",
   "language": "python",
   "name": "python3"
  },
  "language_info": {
   "codemirror_mode": {
    "name": "ipython",
    "version": 3
   },
   "file_extension": ".py",
   "mimetype": "text/x-python",
   "name": "python",
   "nbconvert_exporter": "python",
   "pygments_lexer": "ipython3",
   "version": "3.6.8"
  }
 },
 "nbformat": 4,
 "nbformat_minor": 2
}
