{
 "cells": [
  {
   "cell_type": "markdown",
   "metadata": {},
   "source": [
    "# Lab 01 - Introduction to Python\n",
    "\n",
    "In this lab you will reenforce the lessons 1 and 2.  The following references will help you accomplish the questions:\n",
    "\n",
    "1. Python Documentation: https://www.python.org/doc/\n",
    "2.  Python for you and me https://pymbook.readthedocs.io/en/py3/"
   ]
  },
  {
   "cell_type": "markdown",
   "metadata": {},
   "source": [
    "### Student Name:"
   ]
  },
  {
   "cell_type": "markdown",
   "metadata": {},
   "source": [
    "1. Write a short `Python` function, `is_multiple(n,m)` that takes two integers values and returns True if n is a multiple of m, that is $ n = m*i $ for some integer `i`, and False otherwise."
   ]
  },
  {
   "cell_type": "code",
   "execution_count": 5,
   "metadata": {},
   "outputs": [],
   "source": [
    "# Insert code in this cell"
   ]
  },
  {
   "cell_type": "markdown",
   "metadata": {},
   "source": [
    "2. Write a short Python function, `minmax(data)`, that takes a list of one or more numbers and returns the smallest and largest numbers, in the form of a tuple of length two.  Do not use the built-in functions min or max in implementing your solution."
   ]
  },
  {
   "cell_type": "code",
   "execution_count": 6,
   "metadata": {},
   "outputs": [],
   "source": [
    "# Insert code in this cell"
   ]
  },
  {
   "cell_type": "markdown",
   "metadata": {},
   "source": [
    "3. Using Python list comprehension, show code to produce the following list:\n",
    "\n",
    "```[1,2,4,8,16,32,64,128,256]```"
   ]
  },
  {
   "cell_type": "code",
   "execution_count": 7,
   "metadata": {},
   "outputs": [],
   "source": [
    "# Insert code in this cell"
   ]
  },
  {
   "cell_type": "markdown",
   "metadata": {},
   "source": [
    "4. Using Python list comprehension, produce the following list:\n",
    "\n",
    "```['a','b','c',...,'z']```\n",
    "\n",
    "without typing all 26 letters.  (Hint use the `string` module)"
   ]
  },
  {
   "cell_type": "code",
   "execution_count": 8,
   "metadata": {},
   "outputs": [],
   "source": [
    "# Insert code here"
   ]
  },
  {
   "cell_type": "markdown",
   "metadata": {},
   "source": [
    "5. Write a short Python function that counts the number of vowels in a given string."
   ]
  },
  {
   "cell_type": "code",
   "execution_count": 9,
   "metadata": {},
   "outputs": [],
   "source": [
    "s = \"I love Python\""
   ]
  },
  {
   "cell_type": "code",
   "execution_count": 10,
   "metadata": {},
   "outputs": [],
   "source": [
    "# insert code here. Use the string above as your input"
   ]
  },
  {
   "cell_type": "markdown",
   "metadata": {},
   "source": [
    "6. Write a short Python program to remove all punctuations from a string.  For example, \"Let's Go Bowling!\" would return \"Lets Go Bowling\".  "
   ]
  },
  {
   "cell_type": "code",
   "execution_count": 11,
   "metadata": {},
   "outputs": [],
   "source": [
    "# insert code here"
   ]
  },
  {
   "cell_type": "markdown",
   "metadata": {},
   "source": [
    "7. Given a list of integers, determine if the number of even or odd for each number.  The return type should be a list of boolean values.\n"
   ]
  },
  {
   "cell_type": "code",
   "execution_count": 12,
   "metadata": {},
   "outputs": [],
   "source": [
    "numbers = [1,12,33,32,30,100,17,47]"
   ]
  },
  {
   "cell_type": "code",
   "execution_count": 19,
   "metadata": {},
   "outputs": [],
   "source": [
    "# insert code here."
   ]
  },
  {
   "cell_type": "markdown",
   "metadata": {},
   "source": [
    "8. Write short python function to return the sum of squares for an integer.\n",
    "\n",
    "The sum of squares for $5$ would be:\n",
    "\n",
    "`sum_of_squares =` $ 1^2 + 2^2 + 3^3 + 4^2 + 5^2 $ <br/>\n",
    "`sum_ofsquares = 55` <br/>\n",
    "\n"
   ]
  },
  {
   "cell_type": "code",
   "execution_count": null,
   "metadata": {},
   "outputs": [],
   "source": [
    "# Insert code in the method below\n",
    "def sum_of_squares(n):\n",
    "    return "
   ]
  },
  {
   "cell_type": "markdown",
   "metadata": {},
   "source": [
    "9. Using a for loop and the `range()`, construct the following sequence: ```[8,6,4,2,0,-2,-4,-6,-8]```.  The sequence should start at 8 and move backwards to -8.  "
   ]
  },
  {
   "cell_type": "code",
   "execution_count": 20,
   "metadata": {},
   "outputs": [],
   "source": [
    "# insert code here"
   ]
  }
 ],
 "metadata": {
  "kernelspec": {
   "display_name": "Python 3",
   "language": "python",
   "name": "python3"
  },
  "language_info": {
   "codemirror_mode": {
    "name": "ipython",
    "version": 3
   },
   "file_extension": ".py",
   "mimetype": "text/x-python",
   "name": "python",
   "nbconvert_exporter": "python",
   "pygments_lexer": "ipython3",
   "version": "3.6.5"
  }
 },
 "nbformat": 4,
 "nbformat_minor": 2
}
