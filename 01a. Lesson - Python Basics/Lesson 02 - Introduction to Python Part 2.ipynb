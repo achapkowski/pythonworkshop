{
 "cells": [
  {
   "cell_type": "markdown",
   "metadata": {
    "slideshow": {
     "slide_type": "slide"
    }
   },
   "source": [
    "# Lesson 2 - Introduction to Python Part 2\n"
   ]
  },
  {
   "cell_type": "markdown",
   "metadata": {
    "slideshow": {
     "slide_type": "slide"
    }
   },
   "source": [
    "# Topics Covered\n",
    "\n",
    "    - Python Basics Part 2\n",
    "    \n",
    "        + Data Structures\n",
    "        + Functions\n",
    "            - **Doc strings**\n",
    "        + Strings\n",
    "        + IO\n",
    "        + Scripting Basics\n",
    "            - `__name__` \n",
    "    - Lab 2 - Due this week"
   ]
  },
  {
   "cell_type": "markdown",
   "metadata": {
    "slideshow": {
     "slide_type": "slide"
    }
   },
   "source": [
    "# Data Structures\n",
    "\n",
    "- Is a way of storing information\n",
    "- Python has many built-in data structures"
   ]
  },
  {
   "cell_type": "markdown",
   "metadata": {
    "slideshow": {
     "slide_type": "subslide"
    }
   },
   "source": [
    "# List\n",
    "\n",
    "```python\n",
    "a = [23, 'apple', 1.25, 'n']\n",
    "a.append(43)\n",
    "print(a)\n",
    "[23, 'apple', 1.25, 'n', 43]\n",
    "```\n",
    "\n",
    "- Array of Values\n",
    "- `append` adds value to the end of the `List`\n",
    "- `count(s)` - returns the number of time `s` is in a list"
   ]
  },
  {
   "cell_type": "markdown",
   "metadata": {
    "slideshow": {
     "slide_type": "subslide"
    }
   },
   "source": [
    "# Counting Items in a List"
   ]
  },
  {
   "cell_type": "code",
   "execution_count": 1,
   "metadata": {
    "slideshow": {
     "slide_type": "-"
    }
   },
   "outputs": [
    {
     "data": {
      "text/plain": [
       "3"
      ]
     },
     "execution_count": 1,
     "metadata": {},
     "output_type": "execute_result"
    }
   ],
   "source": [
    "a = ['a', 'b', 'b', 'c', 'a', 'a']\n",
    "a.count('a')"
   ]
  },
  {
   "cell_type": "markdown",
   "metadata": {
    "slideshow": {
     "slide_type": "slide"
    }
   },
   "source": [
    "# More List Methods\n",
    "\n",
    "- `remove()` removes a value from a list\n",
    "- `reverse()` - reverses the whole list order\n",
    "- `extend(b)` - adds all values of b to the list\n",
    "- `sort()` - sorts the values from low to high\n",
    "- `del a[-1]` - deletes the item from a list by position"
   ]
  },
  {
   "cell_type": "code",
   "execution_count": 10,
   "metadata": {
    "slideshow": {
     "slide_type": "-"
    }
   },
   "outputs": [
    {
     "name": "stdout",
     "output_type": "stream",
     "text": [
      "[2, 3, 'a', 'b']\n",
      "['b', 'a', 3, 2]\n",
      "['b', 'a', 3, 2, 'c', 'd', 'e']\n"
     ]
    }
   ],
   "source": [
    "mylist = [1,2,3,'a','b']\n",
    "mylist.remove(1)\n",
    "print(mylist)\n",
    "mylist.reverse()\n",
    "print(mylist)\n",
    "b = ['c', 'd', 'e']\n",
    "mylist.extend(b)\n",
    "print(mylist)"
   ]
  },
  {
   "cell_type": "markdown",
   "metadata": {
    "slideshow": {
     "slide_type": "subslide"
    }
   },
   "source": [
    "# List as Stack and Queue\n",
    "\n",
    "- stacks are data structures called LIFO (Last In First Out)\n",
    "    + Means the data will enter into it at the end , and the last data will come out first. "
   ]
  },
  {
   "cell_type": "code",
   "execution_count": 13,
   "metadata": {
    "slideshow": {
     "slide_type": "-"
    }
   },
   "outputs": [
    {
     "name": "stdout",
     "output_type": "stream",
     "text": [
      "6\n",
      "[1, 2, 3, 4, 5]\n",
      "1\n"
     ]
    }
   ],
   "source": [
    "a = [1, 2, 3, 4, 5, 6]\n",
    "print(a.pop())\n",
    "print(a)\n",
    "a.append(1)\n",
    "print(a.pop())"
   ]
  },
  {
   "cell_type": "markdown",
   "metadata": {
    "slideshow": {
     "slide_type": "subslide"
    }
   },
   "source": [
    "# List Comprehension\n",
    "\n",
    "- Provides simple line method to construct a List\n",
    "- Each list comprehension consists of an expression followed by a `for` statment, then zero or more for or if clauses\n",
    "- The result will be a list resulting from evaluating the expression\n",
    "\n",
    "```python\n",
    ">>> a = [1,2,3]\n",
    ">>> [x ** 2 for x in a]\n",
    "[1, 4, 9]\n",
    "```"
   ]
  },
  {
   "cell_type": "markdown",
   "metadata": {
    "slideshow": {
     "slide_type": "slide"
    }
   },
   "source": [
    "# Tuples\n",
    "\n",
    "- Data seperated by a comma\n",
    "\n",
    "```python\n",
    ">>> a = 'Apple', 'Orange', 'Pear'\n",
    ">>> a\n",
    "('Apple', 'Orange', 'Pear')\n",
    "```\n",
    "\n",
    "- Read Only Data\n",
    "- Use `len` to get length of the sequence\n",
    "\n",
    "Another Construction Method\n",
    "\n",
    "```python\n",
    "a = (2, 5, 7)\n",
    "```"
   ]
  },
  {
   "cell_type": "markdown",
   "metadata": {
    "slideshow": {
     "slide_type": "slide"
    }
   },
   "source": [
    "# Sets\n",
    "\n",
    "- Does not allow duplicates\n",
    "- Collection of values defined by values `{ }`\n",
    "- Use `set` to construct as well\n",
    "- **Very Fast** searching of values\n",
    "```python\n",
    "a = set('johnhopkins')\n",
    "print(a)\n",
    "{'h', 'i', 'j', 'k', 'n', 'o', 'p', 's'}\n",
    "```"
   ]
  },
  {
   "cell_type": "markdown",
   "metadata": {
    "slideshow": {
     "slide_type": "slide"
    }
   },
   "source": [
    "# Sets\n",
    "\n",
    "\n",
    "- `add` - inserts a new value\n",
    "- `discard` - removes a value"
   ]
  },
  {
   "cell_type": "code",
   "execution_count": 16,
   "metadata": {
    "slideshow": {
     "slide_type": "-"
    }
   },
   "outputs": [
    {
     "data": {
      "text/plain": [
       "{'i', 'j', 'k', 'n', 'o', 'p', 's'}"
      ]
     },
     "execution_count": 16,
     "metadata": {},
     "output_type": "execute_result"
    }
   ],
   "source": [
    "a = set('johnhopkins')\n",
    "a.discard('h')\n",
    "a"
   ]
  },
  {
   "cell_type": "markdown",
   "metadata": {
    "slideshow": {
     "slide_type": "slide"
    }
   },
   "source": [
    "# Dictionaries\n",
    "\n",
    "- unordered key/value pairs\n",
    "    + keys are unique\n",
    "    + values can be anything\n",
    "- Declare by `{ key: value } `\n",
    "- Retrieved by `variable[key]` "
   ]
  },
  {
   "cell_type": "code",
   "execution_count": 17,
   "metadata": {
    "slideshow": {
     "slide_type": "-"
    }
   },
   "outputs": [
    {
     "name": "stdout",
     "output_type": "stream",
     "text": [
      "course\n",
      "{'gis': 'course', 'amazing': 'python', 'amazon': 'website'}\n"
     ]
    }
   ],
   "source": [
    "d = {'gis' : 'course', 'amazing' : 'python' }\n",
    "print(d['gis'])\n",
    "d['amazon'] = 'website'\n",
    "print(d)"
   ]
  },
  {
   "cell_type": "markdown",
   "metadata": {
    "slideshow": {
     "slide_type": "slide"
    }
   },
   "source": [
    "# Functions\n",
    "\n",
    "- `def` is used to define the function (reusable code)\n",
    "- Allows for repeatable code\n",
    "\n",
    "### Changes this:\n",
    "```python\n",
    "...\n",
    "a = a + b\n",
    "a = a + b\n",
    "...\n",
    "```\n",
    "\n",
    "### To This:\n",
    "```python\n",
    "def sum(a,b): \n",
    "    return a + b\n",
    "```"
   ]
  },
  {
   "cell_type": "code",
   "execution_count": 6,
   "metadata": {
    "slideshow": {
     "slide_type": "slide"
    }
   },
   "outputs": [
    {
     "name": "stdout",
     "output_type": "stream",
     "text": [
      "Checking: cat\n",
      "False\n",
      "Checking: never odd or even\n",
      "True\n"
     ]
    }
   ],
   "source": [
    "def palindrome(s):\n",
    "    return s.replace(\" \", \"\") == s[::-1].replace(\" \", \"\")\n",
    "\n",
    "if __name__ == \"__main__\":\n",
    "    s1 = \"cat\"\n",
    "    print(\"Checking: %s\" % s1)\n",
    "    print(palindrome(s1))\n",
    "    s2 = \"never odd or even\"\n",
    "    print(\"Checking: %s\" % s2)\n",
    "    print(palindrome(s2))"
   ]
  },
  {
   "cell_type": "markdown",
   "metadata": {
    "slideshow": {
     "slide_type": "slide"
    }
   },
   "source": [
    "# Functions - Default Argument\n",
    "\n",
    "- Function variables can be `required` or `optional`\n",
    "- Set in the `def`\n",
    "\n",
    "```python\n",
    "def test(a, b=-99)```\n",
    "\n",
    "- `b` is optional arguments\n",
    "- `a` is required\n",
    "\n",
    "```python\n",
    "def test(a, b=-99):\n",
    "    if a > b:\n",
    "        return True\n",
    "    return False\n",
    "```\n"
   ]
  },
  {
   "cell_type": "markdown",
   "metadata": {
    "slideshow": {
     "slide_type": "slide"
    }
   },
   "source": [
    "# Functions - Default Arguments\n",
    "\n",
    "- Never make a `list` a default value"
   ]
  },
  {
   "cell_type": "code",
   "execution_count": 7,
   "metadata": {
    "slideshow": {
     "slide_type": "-"
    }
   },
   "outputs": [
    {
     "name": "stdout",
     "output_type": "stream",
     "text": [
      "[1]\n",
      "[1, 2]\n",
      "[1, 2, 3]\n"
     ]
    }
   ],
   "source": [
    "def bad_idea(a, data=[]):\n",
    "    data.append(a)\n",
    "    return data\n",
    "print(bad_idea(1))\n",
    "print(bad_idea(2))\n",
    "print(bad_idea(3))"
   ]
  },
  {
   "cell_type": "markdown",
   "metadata": {
    "slideshow": {
     "slide_type": "-"
    }
   },
   "source": [
    "- Notice that the `list` retains the old value"
   ]
  },
  {
   "cell_type": "markdown",
   "metadata": {
    "slideshow": {
     "slide_type": "slide"
    }
   },
   "source": [
    "# Functions - docstrings\n",
    "\n",
    "- Docstrings explain how the code works\n",
    "- useful in interactive mode\n",
    "    + used for writing documentation\n",
    "\n",
    "```python\n",
    "def f(a,b):\n",
    "    \"\"\"\n",
    "    This function does some stuff\n",
    "    \n",
    "    :arg a: float value \n",
    "    :arg b: float value\n",
    "    \n",
    "    :returns: float\n",
    "    \"\"\"\n",
    "```"
   ]
  },
  {
   "cell_type": "markdown",
   "metadata": {
    "slideshow": {
     "slide_type": "slide"
    }
   },
   "source": [
    "# Strings\n",
    "\n",
    "- Data represetned between `''` or two `\"\"`\n",
    "- In Python 3, all string data is `unicode`\n",
    "\n",
    "### Example:\n",
    "```python\n",
    "s = 'I write Code'\n",
    "```\n"
   ]
  },
  {
   "cell_type": "markdown",
   "metadata": {
    "slideshow": {
     "slide_type": "subslide"
    }
   },
   "source": [
    "# Strings\n",
    "\n",
    "- Strings can be displayed on multiple lines\n",
    "\n",
    "```python\n",
    "s = \"\"\"Line1\n",
    "Line2\n",
    "Line3\"\"\"\n",
    "```\n",
    "\n",
    "- `len()` provides the number of characters in a string\n",
    "\n",
    "```python\n",
    ">>> len('abc')\n",
    "3```\n",
    "\n",
    "- `title()` provides returns title case of string\n",
    "- `upper()` returns UPPER case of string\n",
    "- `lower()` returns all text as lower case\n",
    "- `strip()` removes white space\n",
    "\n",
    "```python\n",
    ">>> s = '    dog'.strip()\n",
    ">>> print(s)\n",
    "dog\n",
    "```"
   ]
  },
  {
   "cell_type": "markdown",
   "metadata": {
    "slideshow": {
     "slide_type": "slide"
    }
   },
   "source": [
    "# Strings\n",
    "\n",
    "- Locating text or characters use `find()`\n",
    "    + Provides the first location of the word.\n",
    "\n",
    "```python\n",
    "s = \"I don't own a cat\"\n",
    "s.find('own')\n",
    "8\n",
    "```\n",
    "\n",
    "- Strings can be sliced into pieces like `list` \n",
    "\n",
    "```\n",
    ">>> s = \"Pig, Sheep, Wolves\"\n",
    ">>> print(s[2:7:3])\n",
    "'gS'\n",
    "```\n",
    "\n",
    "```string[start:stop:step]```\n",
    "\n",
    "    + start - begin location\n",
    "    + stop - ending location\n",
    "    + step - step size, the default is 1\n",
    "\n"
   ]
  },
  {
   "cell_type": "markdown",
   "metadata": {
    "slideshow": {
     "slide_type": "slide"
    }
   },
   "source": [
    "# IO - Input/Outpts of Data\n",
    "\n",
    "- Use the `open()` function to read a file\n",
    "\n",
    "    + r - read only\n",
    "    + w - write power\n",
    "    + a - append to existing file\n",
    "\n",
    "- Syntax:\n",
    "\n",
    "```python\n",
    "f = open('readme.txt', 'r')\n",
    "data = f.read()\n",
    "f.close() \n",
    "```"
   ]
  },
  {
   "cell_type": "markdown",
   "metadata": {
    "slideshow": {
     "slide_type": "subslide"
    }
   },
   "source": [
    "# `with` Statement\n",
    "\n",
    "- Allows for the opening and automatic closing of files\n",
    "\n",
    "```python\n",
    "with open('data.txt', 'r') as f:\n",
    "    data = f.read()\n",
    "    ... do something with data ...    \n",
    "```\n",
    "\n",
    "- The code will automatically call the `close()` method to ensure locks are removed\n",
    "- Work with read, write and append modes\n",
    "- Only works with certain objects"
   ]
  },
  {
   "cell_type": "markdown",
   "metadata": {
    "slideshow": {
     "slide_type": "subslide"
    }
   },
   "source": [
    "# `with` Statement\n",
    "\n",
    "- Writing data\n",
    "\n",
    "```python\n",
    "with open('data.txt', 'w') as f:\n",
    "    data = f.write(\"This is some text\")\n",
    "    \n",
    "```\n"
   ]
  },
  {
   "cell_type": "markdown",
   "metadata": {
    "slideshow": {
     "slide_type": "slide"
    }
   },
   "source": [
    "# Scripting \n",
    "\n",
    "- `if __name__ == \"__main__\": ` point where code starts execution \n",
    "- Often we code in `.py` files\n",
    "    + example: test.py\n",
    "\n",
    "    1. First do imports\n",
    "    2. Define functions\n",
    "    3. Call `driver` method to run code\n",
    "    \n",
    "```python\n",
    "import math\n",
    "import os\n",
    "def f(x):\n",
    "    return math.e ** x\n",
    "def driver():\n",
    "    \"\"\"runs the code\"\"\"\n",
    "    for i in range(3):\n",
    "        print(f(i))\n",
    "if __name__ == \"__main__\":\n",
    "    driver()\n",
    "```"
   ]
  },
  {
   "cell_type": "markdown",
   "metadata": {
    "slideshow": {
     "slide_type": "slide"
    }
   },
   "source": [
    "# Scripting Example"
   ]
  },
  {
   "cell_type": "code",
   "execution_count": 17,
   "metadata": {
    "slideshow": {
     "slide_type": "fragment"
    }
   },
   "outputs": [
    {
     "name": "stdout",
     "output_type": "stream",
     "text": [
      "1.0\n",
      "2.718281828459045\n",
      "7.3890560989306495\n",
      "20.085536923187664\n",
      "54.59815003314423\n"
     ]
    }
   ],
   "source": [
    "import math\n",
    "import os\n",
    "def f(x):\n",
    "    return math.e ** x\n",
    "def driver():\n",
    "    \"\"\"runs the code\"\"\"\n",
    "    for i in range(5):\n",
    "        print(f(i))\n",
    "if __name__ == \"__main__\":\n",
    "    driver()"
   ]
  },
  {
   "cell_type": "markdown",
   "metadata": {
    "slideshow": {
     "slide_type": "slide"
    }
   },
   "source": [
    "# Student To Do List:\n",
    "\n",
    "1. Watch this [video](https://www.youtube.com/watch?v=rrBJVMyD-Gs) on writing functions\n",
    "2. Complete **Lab 2** "
   ]
  }
 ],
 "metadata": {
  "celltoolbar": "Slideshow",
  "kernelspec": {
   "display_name": "Python 3",
   "language": "python",
   "name": "python3"
  },
  "language_info": {
   "codemirror_mode": {
    "name": "ipython",
    "version": 3
   },
   "file_extension": ".py",
   "mimetype": "text/x-python",
   "name": "python",
   "nbconvert_exporter": "python",
   "pygments_lexer": "ipython3",
   "version": "3.6.5"
  }
 },
 "nbformat": 4,
 "nbformat_minor": 2
}
