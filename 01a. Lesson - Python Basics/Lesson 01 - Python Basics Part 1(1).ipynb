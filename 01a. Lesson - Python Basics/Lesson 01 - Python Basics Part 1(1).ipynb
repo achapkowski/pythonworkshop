{
 "cells": [
  {
   "cell_type": "markdown",
   "metadata": {
    "slideshow": {
     "slide_type": "slide"
    }
   },
   "source": [
    "# Lesson 01 - Python Basics Part 1"
   ]
  },
  {
   "cell_type": "markdown",
   "metadata": {
    "slideshow": {
     "slide_type": "slide"
    }
   },
   "source": [
    " # Topics Covered\n",
    " \n",
    "- Python Basics Part 1     \n",
    "    + What is a Variable and datatypes\n",
    "    + Operators and Expressions\n",
    "    + Flow control\n",
    "    + Looping\n",
    "    + Strings\n",
    "- Python Terminology:\n",
    "    + Method/Function\n",
    "    + Class\n",
    "    + Module\n",
    "- Recursion \n",
    "    + What is it?\n",
    "    + Why Recursion?\n",
    "    + Example"
   ]
  },
  {
   "cell_type": "markdown",
   "metadata": {
    "slideshow": {
     "slide_type": "slide"
    }
   },
   "source": [
    "# What is Python\n",
    "\n",
    "- interpreted language\n",
    "- you can directly write the code into the Python interpreter or write in a file and then run the file. \n"
   ]
  },
  {
   "cell_type": "markdown",
   "metadata": {
    "slideshow": {
     "slide_type": "slide"
    }
   },
   "source": [
    "# Whitespaces and Indentation\n",
    "\n",
    "- Whitespaces and indentations matter\n",
    "    + divide different identifiers using spaces\n",
    "    + Whitespace in the beginning of the line is known as indentation\n",
    "    + **WRONG** indentations will throw an error"
   ]
  },
  {
   "cell_type": "raw",
   "metadata": {
    "slideshow": {
     "slide_type": "-"
    }
   },
   "source": [
    ">>> a = 12\n",
    ">>>  a = 12\n",
    "File \"<stdin>\", line 1\n",
    "a = 12\n",
    "^\n",
    "IndentationError: unexpected indent"
   ]
  },
  {
   "cell_type": "markdown",
   "metadata": {
    "slideshow": {
     "slide_type": "subslide"
    }
   },
   "source": [
    "# Whitespaces and Indentation Rules\n",
    "\n",
    "1. use 4 spaces for indentation\n",
    "2. never mix tab and spaces\n",
    "3. one blank line between functions\n",
    "4. two blank lines between classes"
   ]
  },
  {
   "cell_type": "markdown",
   "metadata": {
    "slideshow": {
     "slide_type": "fragment"
    }
   },
   "source": [
    "# More Coding Rules\n",
    "\n",
    "- Add a space after ”,” in dicts, lists, tuples, and argument lists and after ”:” in dicts.\n",
    "- Spaces around assignments and comparisons (except in argument list)\n",
    "- No spaces just inside parentheses."
   ]
  },
  {
   "cell_type": "markdown",
   "metadata": {
    "slideshow": {
     "slide_type": "subslide"
    }
   },
   "source": [
    "# Comments\n",
    "\n",
    "- Comments are some piece of English text which explains what this code does\n",
    "- Comments are mainly for the people who would develop or maintain the codebase"
   ]
  },
  {
   "cell_type": "code",
   "execution_count": 3,
   "metadata": {
    "slideshow": {
     "slide_type": "-"
    }
   },
   "outputs": [
    {
     "name": "stdout",
     "output_type": "stream",
     "text": [
      "8\n"
     ]
    }
   ],
   "source": [
    "# This is a comment\n",
    "# The next will subtract two numbers\n",
    "a = 10 - 2\n",
    "print(a) # this is a comment too"
   ]
  },
  {
   "cell_type": "markdown",
   "metadata": {
    "slideshow": {
     "slide_type": "subslide"
    }
   },
   "source": [
    "# Modules\n",
    "\n",
    "- Python files that contain different function definitions\n",
    "- Reusable and always end in `.py` extension"
   ]
  },
  {
   "cell_type": "code",
   "execution_count": 4,
   "metadata": {
    "slideshow": {
     "slide_type": "-"
    }
   },
   "outputs": [
    {
     "data": {
      "text/plain": [
       "2.718281828459045"
      ]
     },
     "execution_count": 4,
     "metadata": {},
     "output_type": "execute_result"
    }
   ],
   "source": [
    "import math # Module\n",
    "math.e"
   ]
  },
  {
   "cell_type": "markdown",
   "metadata": {
    "slideshow": {
     "slide_type": "slide"
    }
   },
   "source": [
    "# Variables and Datatypes\n",
    "\n",
    "Every programming language is having own grammar rules just like the other languages we speak."
   ]
  },
  {
   "cell_type": "markdown",
   "metadata": {
    "slideshow": {
     "slide_type": "slide"
    }
   },
   "source": [
    "# Methods/Functions\n",
    "\n",
    "- Allows for the reuse of the code\n",
    "- Syntax\n",
    "\n",
    "```python\n",
    "def function_name(params):\n",
    "    \"\"\"\n",
    "    docstring\n",
    "    \"\"\"\n",
    "    statement1\n",
    "    statement 2\n",
    "    return some_value\n",
    "```\n",
    "\n",
    "### Example\n",
    "\n",
    "```python\n",
    "def add(a,b):\n",
    "    \"\"\"\n",
    "    This adds two numbers and returns the value\n",
    "    \"\"\"\n",
    "    return a+b\n",
    "```\n",
    "    "
   ]
  },
  {
   "cell_type": "markdown",
   "metadata": {
    "slideshow": {
     "slide_type": "subslide"
    }
   },
   "source": [
    "# Keywords and Identifiers\n",
    "\n",
    "- These are reserved words that variables should never be called\n",
    "- Consider them the sacred words never to be assigned\n",
    "\n",
    "```python\n",
    "False      class      finally    is         return\n",
    "None       continue   for        lambda     try\n",
    "True       def        from       nonlocal   while\n",
    "and        del        global     not        with\n",
    "as         elif       if         or         yield\n",
    "assert     else       import     pass       async(py 3.7)\n",
    "break      except     in         raise\n",
    "```"
   ]
  },
  {
   "cell_type": "markdown",
   "metadata": {
    "slideshow": {
     "slide_type": "subslide"
    }
   },
   "source": [
    "# Declaring Variables\n",
    "\n",
    "- Unlike other programming languages, you do not need to declare the type of `variable` you have.\n",
    "- This makes programming in Python simplier than other languages.\n",
    "    + Makes code a bit slower\n",
    "    + Makes learning curve easier\n",
    "\n",
    "# Numeric Data\n",
    "\n",
    "- Integers (whole numbers) and Floats (whole and non-whole numbers)"
   ]
  },
  {
   "cell_type": "code",
   "execution_count": 7,
   "metadata": {
    "slideshow": {
     "slide_type": "-"
    }
   },
   "outputs": [
    {
     "data": {
      "text/plain": [
       "65.0"
      ]
     },
     "execution_count": 7,
     "metadata": {},
     "output_type": "execute_result"
    }
   ],
   "source": [
    "c = 23 # Integer\n",
    "b = 42.0 # Float (number with decimal)\n",
    "c + b"
   ]
  },
  {
   "cell_type": "markdown",
   "metadata": {
    "slideshow": {
     "slide_type": "subslide"
    }
   },
   "source": [
    "# String Data\n",
    "\n"
   ]
  },
  {
   "cell_type": "code",
   "execution_count": 10,
   "metadata": {
    "slideshow": {
     "slide_type": "-"
    }
   },
   "outputs": [
    {
     "name": "stdout",
     "output_type": "stream",
     "text": [
      "Programmers love Python\n",
      "c:\\temp\\mydata.csv\n"
     ]
    }
   ],
   "source": [
    "a = 'Programmers'\n",
    "b = \" love Python\"\n",
    "print(a + b)\n",
    "data = r\"c:\\temp\\mydata.csv\"\n",
    "print(data)"
   ]
  },
  {
   "cell_type": "markdown",
   "metadata": {
    "slideshow": {
     "slide_type": "slide"
    }
   },
   "source": [
    "# Getting User Inputs \n",
    "\n",
    "- To capture an interactive value use `input`"
   ]
  },
  {
   "cell_type": "code",
   "execution_count": 11,
   "metadata": {
    "slideshow": {
     "slide_type": "-"
    }
   },
   "outputs": [
    {
     "name": "stdout",
     "output_type": "stream",
     "text": [
      "Enter an integer: 50\n",
      "Your number is smaller than 100\n"
     ]
    }
   ],
   "source": [
    "number = int(input(\"Enter an integer: \"))\n",
    "if number < 100:\n",
    "    print(\"Your number is smaller than 100\")\n",
    "else:\n",
    "    print(\"Your number is greater than 100\")"
   ]
  },
  {
   "cell_type": "markdown",
   "metadata": {
    "slideshow": {
     "slide_type": "subslide"
    }
   },
   "source": [
    "# Simple Program Example"
   ]
  },
  {
   "cell_type": "code",
   "execution_count": 12,
   "metadata": {
    "slideshow": {
     "slide_type": "-"
    }
   },
   "outputs": [
    {
     "name": "stdout",
     "output_type": "stream",
     "text": [
      "Fahrenheit Celsius\n",
      "  0.0  -17.78\n",
      " 25.0   -3.89\n",
      " 50.0   10.00\n",
      " 75.0   23.89\n",
      "100.0   37.78\n",
      "125.0   51.67\n",
      "150.0   65.56\n",
      "175.0   79.44\n",
      "200.0   93.33\n",
      "225.0  107.22\n",
      "250.0  121.11\n"
     ]
    }
   ],
   "source": [
    "fahrenheit = 0.0\n",
    "print(\"Fahrenheit Celsius\")\n",
    "while fahrenheit <= 250:\n",
    "    celsius = ( fahrenheit - 32.0 ) / 1.8 # Here we calculate the Celsius value\n",
    "    print(\"%5.1f %7.2f\" % (fahrenheit , celsius))\n",
    "    fahrenheit = fahrenheit + 25"
   ]
  },
  {
   "cell_type": "markdown",
   "metadata": {
    "slideshow": {
     "slide_type": "subslide"
    }
   },
   "source": [
    "# Multiple assignments in a single line\n",
    "\n",
    "- You can assign multiple variables on a single like\n",
    "\n",
    "```a,b = 45,33```\n",
    "\n",
    "- This means you can swap values easly \n",
    "\n",
    "```\n",
    "a,b = b, a\n",
    "print([a,b])\n",
    "[33,45]\n",
    "```"
   ]
  },
  {
   "cell_type": "markdown",
   "metadata": {
    "slideshow": {
     "slide_type": "subslide"
    }
   },
   "source": [
    "# Tuple\n",
    "\n",
    "- Ready Only\n",
    "- Array of values\n",
    "- Values are seperated by a comma `,`\n",
    "- Tuples can be used to assign values"
   ]
  },
  {
   "cell_type": "code",
   "execution_count": 15,
   "metadata": {
    "slideshow": {
     "slide_type": "-"
    }
   },
   "outputs": [
    {
     "data": {
      "text/plain": [
       "(1, 'a', 2.5)"
      ]
     },
     "execution_count": 15,
     "metadata": {},
     "output_type": "execute_result"
    }
   ],
   "source": [
    "data = (1, 'a', 2.5)\n",
    "a,b,c = data\n",
    "a,b,c"
   ]
  },
  {
   "cell_type": "markdown",
   "metadata": {
    "slideshow": {
     "slide_type": "slide"
    }
   },
   "source": [
    "# Operators\n",
    "\n",
    "Symbols which tells the Python interpreter to do some math or logical operation."
   ]
  },
  {
   "cell_type": "code",
   "execution_count": 16,
   "metadata": {
    "slideshow": {
     "slide_type": "-"
    }
   },
   "outputs": [
    {
     "name": "stdout",
     "output_type": "stream",
     "text": [
      "5\n",
      "-2\n",
      "1.8333333333333333\n",
      "3\n"
     ]
    }
   ],
   "source": [
    "print(2 + 3)\n",
    "print(5 - 7)\n",
    "print(22/12)\n",
    "print(19 % 4)"
   ]
  },
  {
   "cell_type": "markdown",
   "metadata": {
    "slideshow": {
     "slide_type": "subslide"
    }
   },
   "source": [
    "# Relational Operators\n",
    "\n",
    "- Provide logic queries\n",
    "\n",
    "| Operator | Meaning   |\n",
    "|------|------|\n",
    "|   <  | Less Than|\n",
    "|   <=  | Less Than or Equal to|\n",
    "|   >  | Greater Than|\n",
    "|   >=  | Greater Than or Equal to|\n",
    "|   ==  | Is Equal to|\n",
    "|   !=  | Is not Equal to|"
   ]
  },
  {
   "cell_type": "code",
   "execution_count": 17,
   "metadata": {
    "slideshow": {
     "slide_type": "-"
    }
   },
   "outputs": [
    {
     "name": "stdout",
     "output_type": "stream",
     "text": [
      "True\n",
      "True\n",
      "False\n"
     ]
    }
   ],
   "source": [
    "print(1 < 2)\n",
    "print(55 > 45)\n",
    "print('a' == 'A')"
   ]
  },
  {
   "cell_type": "markdown",
   "metadata": {
    "slideshow": {
     "slide_type": "subslide"
    }
   },
   "source": [
    "# Logical Operators\n",
    "\n",
    "To do logical AND , OR we use and ,**or** keywords. x and y returns False if x is False else it returns evaluation of y. If x is True, it returns True."
   ]
  },
  {
   "cell_type": "code",
   "execution_count": 20,
   "metadata": {
    "slideshow": {
     "slide_type": "-"
    }
   },
   "outputs": [
    {
     "name": "stdout",
     "output_type": "stream",
     "text": [
      "4\n",
      "1\n",
      "4\n"
     ]
    }
   ],
   "source": [
    "print(1 and 4)\n",
    "print(1 or 4)\n",
    "print(0 or 4)"
   ]
  },
  {
   "cell_type": "markdown",
   "metadata": {
    "slideshow": {
     "slide_type": "subslide"
    }
   },
   "source": [
    "# Shorthand Operator\n",
    "\n",
    "- shorten code for simple operations\n",
    "- These can be operator followed by an equal sign:\n",
    "\n",
    "```\n",
    "a += 1 <=> a = a + 1\n",
    "b -= 1 <=> b = b - 1\n",
    "c *= 2 <=> c = c * 2\n",
    "```"
   ]
  },
  {
   "cell_type": "code",
   "execution_count": 25,
   "metadata": {
    "slideshow": {
     "slide_type": "-"
    }
   },
   "outputs": [
    {
     "name": "stdout",
     "output_type": "stream",
     "text": [
      "100\n",
      "50\n",
      "25\n",
      "12\n",
      "6\n",
      "3\n"
     ]
    }
   ],
   "source": [
    "N = 2\n",
    "a = 100\n",
    "while a > N:\n",
    "    print(\"%d\" % a)\n",
    "    a /= 2"
   ]
  },
  {
   "cell_type": "markdown",
   "metadata": {
    "slideshow": {
     "slide_type": "subslide"
    }
   },
   "source": [
    "# Expressions\n",
    "\n",
    "- Python is used as a language in science\n",
    "- When writing expressions, put spaces before and after every operator for readability\n",
    "\n",
    "```a = 234 * (19 - 4 / 100)```"
   ]
  },
  {
   "cell_type": "code",
   "execution_count": 26,
   "metadata": {
    "slideshow": {
     "slide_type": "-"
    }
   },
   "outputs": [
    {
     "name": "stdout",
     "output_type": "stream",
     "text": [
      "X =  10.0\n",
      "Y =  7.0\n",
      "Z =  4.0\n"
     ]
    }
   ],
   "source": [
    "a = 9\n",
    "b = 12\n",
    "c = 3\n",
    "x = a - b / 3 + c * 2 - 1\n",
    "y = a - b / (3 + c) * (2 - 1)\n",
    "z = a - (b / (3 + c) * 2) - 1\n",
    "print (\"X = \", x)\n",
    "print (\"Y = \", y)\n",
    "print (\"Z = \", z)"
   ]
  },
  {
   "cell_type": "markdown",
   "metadata": {
    "slideshow": {
     "slide_type": "subslide"
    }
   },
   "source": [
    "# Flow Control\n",
    "\n",
    "- Controls if the code goes one way or another \n",
    "- if-else statements\n",
    "\n",
    "The syntax:\n",
    "\n",
    "```\n",
    "if expression:\n",
    "    do this\n",
    "```\n",
    "\n",
    "- The `expression` is any `True` value"
   ]
  },
  {
   "cell_type": "code",
   "execution_count": 27,
   "metadata": {
    "slideshow": {
     "slide_type": "-"
    }
   },
   "outputs": [
    {
     "name": "stdout",
     "output_type": "stream",
     "text": [
      "Enter a number: 5\n",
      "The number if less than 10!\n"
     ]
    }
   ],
   "source": [
    "number = int(input(\"Enter a number: \"))\n",
    "if number < 10:\n",
    "    print(\"The number if less than 10!\")"
   ]
  },
  {
   "cell_type": "markdown",
   "metadata": {
    "slideshow": {
     "slide_type": "subslide"
    }
   },
   "source": [
    "# Else Statement\n",
    "\n",
    "- The else is the default alternative to the `True` statement\n",
    "\n",
    "```\n",
    "if expression:\n",
    "    do this\n",
    "else\n",
    "    do that\n",
    "```"
   ]
  },
  {
   "cell_type": "code",
   "execution_count": 29,
   "metadata": {
    "slideshow": {
     "slide_type": "-"
    }
   },
   "outputs": [
    {
     "name": "stdout",
     "output_type": "stream",
     "text": [
      "Enter a number: 15\n",
      "The number is greater than 10\n"
     ]
    }
   ],
   "source": [
    "number = int(input(\"Enter a number: \"))\n",
    "if number < 10:\n",
    "    print(\"The number is less than 10\")\n",
    "else:\n",
    "    print(\"The number is greater than 10\")"
   ]
  },
  {
   "cell_type": "markdown",
   "metadata": {
    "slideshow": {
     "slide_type": "subslide"
    }
   },
   "source": [
    "# Truth Value Testing\n",
    "\n",
    "- Prefered way to test Truth values is:\n",
    "\n",
    "```python\n",
    "if x:\n",
    "    do stuff\n",
    "```\n",
    "\n",
    "## DO NOT DO THIS!\n",
    "```python\n",
    "if x == True:\n",
    "    print(\"I'm True\")\n",
    "```"
   ]
  },
  {
   "cell_type": "markdown",
   "metadata": {
    "slideshow": {
     "slide_type": "subslide"
    }
   },
   "source": [
    "# Looping\n",
    "\n",
    "- Used when you want to do work couple of times\n",
    "    + counting\n",
    "    + repeatable workflows\n",
    "    + walking through data"
   ]
  },
  {
   "cell_type": "markdown",
   "metadata": {
    "slideshow": {
     "slide_type": "-"
    }
   },
   "source": [
    "# While Loop\n",
    "\n",
    "```python\n",
    "while condition\n",
    "    do stuff\n",
    "```\n",
    "\n",
    "- Code will run inside the loop until a condition is met (True)\n",
    "- The `condition` is an if-else statement logic\n"
   ]
  },
  {
   "cell_type": "code",
   "execution_count": 30,
   "metadata": {
    "slideshow": {
     "slide_type": "-"
    }
   },
   "outputs": [
    {
     "name": "stdout",
     "output_type": "stream",
     "text": [
      "0\n",
      "1\n",
      "2\n",
      "3\n",
      "4\n"
     ]
    }
   ],
   "source": [
    "n = 0\n",
    "while n < 5:\n",
    "    print(n)\n",
    "    n += 1"
   ]
  },
  {
   "cell_type": "markdown",
   "metadata": {
    "slideshow": {
     "slide_type": "subslide"
    }
   },
   "source": [
    "# Breaking the Loop\n",
    "\n",
    "```python\n",
    "x = float(raw_input(\"Enter the value of x: \"))\n",
    "n = term = num = 1\n",
    "sum = 1.0\n",
    "while n <= 100:\n",
    "    term *= x / n\n",
    "    sum += term\n",
    "    n += 1\n",
    "    if term < 0.0001:\n",
    "        break\n",
    "print(\"No of Times= %d and Sum= %f\" % (n, sum))\n",
    "```\n",
    "\n",
    "- In the logic statement we call `break` which will end the loop regardless of the condition statement"
   ]
  },
  {
   "cell_type": "markdown",
   "metadata": {
    "slideshow": {
     "slide_type": "subslide"
    }
   },
   "source": [
    "# For Loops\n",
    "\n",
    "- `for` loops iterate on a sequence\n",
    "\n",
    "```python\n",
    "for i in (1,2,3):\n",
    "    print(i)\n",
    "```\n",
    "\n"
   ]
  },
  {
   "cell_type": "code",
   "execution_count": 31,
   "metadata": {
    "slideshow": {
     "slide_type": "-"
    }
   },
   "outputs": [
    {
     "name": "stdout",
     "output_type": "stream",
     "text": [
      "1\n",
      "3\n",
      "5\n",
      "7\n",
      "9\n"
     ]
    }
   ],
   "source": [
    "a = [1, 2, 3, 4, 5, 6, 7, 8, 9, 10]\n",
    "for x in a[::2]:\n",
    "    print(x)"
   ]
  },
  {
   "cell_type": "markdown",
   "metadata": {
    "slideshow": {
     "slide_type": "subslide"
    }
   },
   "source": [
    "# The Range Function\n",
    "\n",
    "- `range()` is a builtin class\n",
    "- Given a set or single number, range builds a list from $n$ to $m$\n",
    "\n",
    "```python\n",
    "range(10)\n",
    "range(1,5)\n",
    "range(1,15,3)\n",
    "```"
   ]
  },
  {
   "cell_type": "code",
   "execution_count": 36,
   "metadata": {},
   "outputs": [
    {
     "name": "stdout",
     "output_type": "stream",
     "text": [
      "0\n",
      "25\n",
      "50\n",
      "75\n"
     ]
    }
   ],
   "source": [
    "for i in range(0,100,25):\n",
    "    print(i)"
   ]
  },
  {
   "cell_type": "markdown",
   "metadata": {
    "slideshow": {
     "slide_type": "subslide"
    }
   },
   "source": [
    "# Continue statement\n",
    "\n",
    "- If `break` terminates code, then `continue` skips the execution of the code and goes back to the start of the loop\n",
    "- This means part of your loop is skipped"
   ]
  },
  {
   "cell_type": "code",
   "execution_count": 37,
   "metadata": {},
   "outputs": [
    {
     "name": "stdout",
     "output_type": "stream",
     "text": [
      "Please enter an Integer: 1\n",
      "Square is  1\n",
      "Please enter an Integer: 2\n",
      "Square is  4\n",
      "Please enter an Integer: 3\n",
      "Square is  9\n",
      "Please enter an Integer: 0\n"
     ]
    }
   ],
   "source": [
    "while True:\n",
    "    n = int(input(\"Please enter an Integer: \"))\n",
    "    if n < 0:\n",
    "        continue #this will take the execution back to the starting of the loop\n",
    "    elif n == 0:\n",
    "        break\n",
    "    print(\"Square is \", n ** 2)\n",
    "print('finished')"
   ]
  },
  {
   "cell_type": "markdown",
   "metadata": {
    "slideshow": {
     "slide_type": "subslide"
    }
   },
   "source": [
    "# Else Loop\n",
    "\n",
    "- Optional `else` statement after any loop\n",
    "- Executes code unless a `break` statement is used"
   ]
  },
  {
   "cell_type": "code",
   "execution_count": 38,
   "metadata": {
    "slideshow": {
     "slide_type": "-"
    }
   },
   "outputs": [
    {
     "name": "stdout",
     "output_type": "stream",
     "text": [
      "0\n",
      "1\n",
      "2\n",
      "3\n",
      "4\n",
      "The code is over\n"
     ]
    }
   ],
   "source": [
    "for i in range(0,5):\n",
    "    print(i)\n",
    "else:\n",
    "    print(\"The code is over\")"
   ]
  },
  {
   "cell_type": "markdown",
   "metadata": {
    "slideshow": {
     "slide_type": "slide"
    }
   },
   "source": [
    "# Recursion\n",
    "\n",
    "- This is when any function that calls itself\n",
    "- A recursive method solves a problem by calling a copy of itself to work on a small problem.\n",
    "    + This is the recursive step\n",
    "- Each function calls itself with a slighly simplier version until it's at a base case."
   ]
  },
  {
   "cell_type": "markdown",
   "metadata": {
    "slideshow": {
     "slide_type": "subslide"
    }
   },
   "source": [
    "# Why Recursion?\n",
    "\n",
    "- Useful technique that was borrowed from Mathmatics\n",
    "- It makes code shorter and easier to write\n",
    "- Changes logic from looping to recursive functions"
   ]
  },
  {
   "cell_type": "markdown",
   "metadata": {
    "slideshow": {
     "slide_type": "subslide"
    }
   },
   "source": [
    "# Format of Recursive Functions\n",
    "\n",
    "- The goal is to perform a task by calling itself.  \n",
    "    + Account for two things:\n",
    "        1. Base Case\n",
    "        2. Cursive Case\n",
    "    + Format of Recursive Function:\n",
    "    \n",
    "    ```python\n",
    "    if (test base case):\n",
    "        return base case value\n",
    "    elif (test for another base case):\n",
    "        return other_value\n",
    "    else:\n",
    "        return (some work)\n",
    "    ```"
   ]
  },
  {
   "cell_type": "markdown",
   "metadata": {
    "slideshow": {
     "slide_type": "slide"
    }
   },
   "source": [
    "# Example of Recursion: Factorials"
   ]
  },
  {
   "cell_type": "code",
   "execution_count": 41,
   "metadata": {
    "slideshow": {
     "slide_type": "-"
    }
   },
   "outputs": [
    {
     "data": {
      "text/plain": [
       "3628800"
      ]
     },
     "execution_count": 41,
     "metadata": {},
     "output_type": "execute_result"
    }
   ],
   "source": [
    "def factorial(n):\n",
    "    if n == 0: # base case\n",
    "        return 1\n",
    "    return n * factorial(n-1) # Recursive Case\n",
    "\n",
    "factorial(10)"
   ]
  },
  {
   "cell_type": "markdown",
   "metadata": {
    "slideshow": {
     "slide_type": "slide"
    }
   },
   "source": [
    "# Student To Do List:\n",
    "\n",
    "- Setup Jupyter Notebook following `Lab 0`\n",
    "- Start looking at `Lab 1 - Python Basics`\n",
    "- Post to the discussion board:\n",
    "    Writing paths in Python, how do you do it?  What does the 'r' mean infront of paths, and give an example of os.path.join working."
   ]
  }
 ],
 "metadata": {
  "celltoolbar": "Slideshow",
  "kernelspec": {
   "display_name": "Python 3",
   "language": "python",
   "name": "python3"
  },
  "language_info": {
   "codemirror_mode": {
    "name": "ipython",
    "version": 3
   },
   "file_extension": ".py",
   "mimetype": "text/x-python",
   "name": "python",
   "nbconvert_exporter": "python",
   "pygments_lexer": "ipython3",
   "version": "3.6.5"
  }
 },
 "nbformat": 4,
 "nbformat_minor": 2
}
