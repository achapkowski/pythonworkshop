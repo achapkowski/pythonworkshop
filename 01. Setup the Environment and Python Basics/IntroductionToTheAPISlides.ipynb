{
 "cells": [
  {
   "cell_type": "markdown",
   "metadata": {
    "slideshow": {
     "slide_type": "slide"
    }
   },
   "source": [
    "# Lesson 01 - Getting Started with the API\n",
    "\n",
    "- Andrew Chapkowski\n",
    "\n",
    "**Esri Developer Summit 2019**"
   ]
  },
  {
   "cell_type": "markdown",
   "metadata": {
    "slideshow": {
     "slide_type": "subslide"
    }
   },
   "source": [
    "## The Python API for ArcGIS\n",
    "\n",
    "<center><img src=\"./img/api_overview.png\" /></center>\n"
   ]
  },
  {
   "cell_type": "markdown",
   "metadata": {
    "slideshow": {
     "slide_type": "subslide"
    }
   },
   "source": [
    "## WebGIS\n",
    "\n",
    "<center><img src=\"./img/webgis.jpg\" width=50%/></center>\n",
    "\n",
    "\n",
    "- Web GIS is a pattern, or architectural approach, for implementing a modern GIS. \n",
    "    + It's powered by web services-standard services that deliver data and capabilities, and connect components.\n",
    "- Web GIS can be implemented in the cloud (using ArcGIS Online), on-premises (using ArcGIS Server), or more typically as a hybrid combination, leveraging the best of both worlds."
   ]
  },
  {
   "cell_type": "markdown",
   "metadata": {
    "slideshow": {
     "slide_type": "subslide"
    }
   },
   "source": [
    "## What is Portal?\n",
    "\n",
    "<center> <img src='./img/portal_image.jpg' width=55%/></center>\n",
    "\n",
    "- Essential component of a modern GIS\n",
    "- Provides a framework for sharing and using maps, apps, and data\n"
   ]
  },
  {
   "cell_type": "markdown",
   "metadata": {
    "slideshow": {
     "slide_type": "subslide"
    }
   },
   "source": [
    "## What is ArcGIS Online?\n",
    "\n",
    "<center><img src=\"./img/agol_screenshot.PNG\" /></center>\n",
    "\n",
    "- It's like **Portal** but in the cloud\n",
    "- ArcGIS Online provides cloud-hosted storage, management, 2D and 3D mapping, publishing, and analytic capabilities"
   ]
  },
  {
   "cell_type": "markdown",
   "metadata": {
    "slideshow": {
     "slide_type": "slide"
    }
   },
   "source": [
    "## The GIS Object\n",
    "\n",
    "- The representation of your Enterprise system\n",
    "\n",
    "### What does it do?\n",
    "\n",
    "- Handles credentials\n",
    "- Allows for access of items, users, and configurations\n",
    "- It's the entry to Web GIS"
   ]
  },
  {
   "cell_type": "markdown",
   "metadata": {
    "slideshow": {
     "slide_type": "subslide"
    }
   },
   "source": [
    "## The GIS Object\n",
    "\n",
    "The main classes in the gis module are:\n",
    "\n",
    "- **GIS** : represents the GIS, either ArcGIS Online or an ArcGIS Portal\n",
    "- **User** : represents a GIS user\n",
    "- **Role** : represents the role of a GIS user\n",
    "- **Group** : represents a group in the GIS\n",
    "- **Item** : represents an Item in the GIS\n",
    "Resource manager classes for managing GIS users, groups, content and datastores:\n",
    "\n",
    "    + **UserManager** : to manage users\n",
    "    + **RoleManager** : to create and manage roles\n",
    "    + **GroupManager** : to manage groups in the GIS\n",
    "    + **ContentManager** : to access, add, modify, delete GIS content"
   ]
  },
  {
   "cell_type": "markdown",
   "metadata": {
    "slideshow": {
     "slide_type": "subslide"
    }
   },
   "source": [
    "## Authenticiation with GIS\n",
    "\n",
    "<ul>\n",
    "    <li> The <b>GIS</b> class supports constructing the object given an url and user credentials to ArcGIS Online or an ArcGIS Enterprise instance. </li>\n",
    "<li> User credentials can be passed in using username / password pair, or using a key_file / cert_file pair (in case of PKI). The GIS class also supports built-in users, LDAP, PKI and anonymous access.</li>\n",
    "</ul>\n",
    "\n",
    "1. Anonymous users\n",
    "2. Built-in users\n",
    "3. Enterprise identity store\n",
    "    - **Web-tier** authentication with **LDAP**\n",
    "    - **Portal-tier** authentication with **Active Directory**\n",
    "    - **Portal-tier** authentication with **LDAP**\n",
    "    - **Web-tier** authentication secured with **PKI**\n",
    "    - **Web-tier** authentication secured with **IWA**\n",
    "4. User authentication with **OAuth** 2.0\n"
   ]
  },
  {
   "cell_type": "markdown",
   "metadata": {
    "slideshow": {
     "slide_type": "subslide"
    }
   },
   "source": [
    "## It Starts with an import...."
   ]
  },
  {
   "cell_type": "code",
   "execution_count": null,
   "metadata": {
    "slideshow": {
     "slide_type": "fragment"
    }
   },
   "outputs": [],
   "source": [
    "from arcgis.gis import GIS"
   ]
  },
  {
   "cell_type": "markdown",
   "metadata": {
    "slideshow": {
     "slide_type": "subslide"
    }
   },
   "source": [
    "## Anonymous Users\n",
    "\n",
    "- When creating a GIS username, password and URL can be given\n",
    "- If nothing is given, Anonymous user is created and it logs into ArcGIS Online"
   ]
  },
  {
   "cell_type": "code",
   "execution_count": null,
   "metadata": {
    "slideshow": {
     "slide_type": "fragment"
    }
   },
   "outputs": [],
   "source": [
    "gis = GIS()\n",
    "gis"
   ]
  },
  {
   "cell_type": "markdown",
   "metadata": {
    "slideshow": {
     "slide_type": "subslide"
    }
   },
   "source": [
    "## Anonymous Users\n",
    "\n",
    "- To connect to Enterprise systems, provide a `URL`"
   ]
  },
  {
   "cell_type": "code",
   "execution_count": null,
   "metadata": {
    "slideshow": {
     "slide_type": "fragment"
    }
   },
   "outputs": [],
   "source": [
    "gis = GIS(url=\"https://pythonapi.playground.esri.com/portal\")\n",
    "gis"
   ]
  },
  {
   "cell_type": "markdown",
   "metadata": {
    "slideshow": {
     "slide_type": "subslide"
    }
   },
   "source": [
    "## Question: What do you think are some limitations of anonymous users?"
   ]
  },
  {
   "cell_type": "markdown",
   "metadata": {
    "slideshow": {
     "slide_type": "subslide"
    }
   },
   "source": [
    "## Built-in Users\n",
    "\n",
    "- Most common method of logging in\n",
    "- Provide a username and password and you gain access to all the anonymous content plus what is in your organization"
   ]
  },
  {
   "cell_type": "code",
   "execution_count": null,
   "metadata": {
    "slideshow": {
     "slide_type": "fragment"
    }
   },
   "outputs": [],
   "source": [
    "gis = GIS(username=\"europeandev\")\n",
    "gis.users.me"
   ]
  },
  {
   "cell_type": "markdown",
   "metadata": {
    "slideshow": {
     "slide_type": "slide"
    }
   },
   "source": [
    "## Built-in Users\n",
    "\n",
    "- Enterprise Example"
   ]
  },
  {
   "cell_type": "code",
   "execution_count": null,
   "metadata": {
    "slideshow": {
     "slide_type": "fragment"
    }
   },
   "outputs": [],
   "source": [
    "gis = GIS(url=\"https://pythonapi.playground.esri.com/portal\", username='andrew') #lc\n",
    "gis.users.me"
   ]
  },
  {
   "cell_type": "markdown",
   "metadata": {
    "slideshow": {
     "slide_type": "subslide"
    }
   },
   "source": [
    "## PKI Users\n",
    "\n",
    "- User certificate files to login\n",
    "\n",
    "```python\n",
    "print(\"\\n\\nPKI with key and cert files\")  \n",
    "gis = GIS(\"https://portalname.domain.com/webcontext\", \n",
    "          key_file=\"C:\\\\path\\\\to\\\\key.pem\",\n",
    "          cert_file=\"C:\\\\path\\\\to\\\\cert.pem\")\n",
    "print(\"Logged in as: \" + gis.properties.user.username)\n",
    "```\n"
   ]
  },
  {
   "cell_type": "markdown",
   "metadata": {
    "slideshow": {
     "slide_type": "subslide"
    }
   },
   "source": [
    "## Additional Authentication Information\n",
    "\n",
    "https://developers.arcgis.com/python/guide/working-with-different-authentication-schemes/"
   ]
  },
  {
   "cell_type": "markdown",
   "metadata": {
    "slideshow": {
     "slide_type": "slide"
    }
   },
   "source": [
    "## Protect Your Authentication\n",
    "\n",
    "- Never share passwords!\n",
    "- **Profiles** allow for the secure storage using the OS security store\n",
    "- This allows developers to never write username, password or URL into code."
   ]
  },
  {
   "cell_type": "code",
   "execution_count": null,
   "metadata": {
    "slideshow": {
     "slide_type": "fragment"
    }
   },
   "outputs": [],
   "source": [
    "gis = GIS(\"https://pythonapi.playground.esri.com/portal\", username='andrew')\n",
    "print(\"Successfully logged in as: \" + gis.properties.user.username)"
   ]
  },
  {
   "cell_type": "markdown",
   "metadata": {
    "slideshow": {
     "slide_type": "subslide"
    }
   },
   "source": [
    "## Creating Profiles\n",
    "\n",
    "- Profiles for the GIS can be created by giving the credentials and specifying a profile name"
   ]
  },
  {
   "cell_type": "code",
   "execution_count": null,
   "metadata": {
    "slideshow": {
     "slide_type": "slide"
    }
   },
   "outputs": [],
   "source": [
    "agol_gis = GIS(username='arcgis_python', password=\"P@ssword123\", profile=\"AGOL_prof\")\n",
    "agol_gis.users.me"
   ]
  },
  {
   "cell_type": "code",
   "execution_count": null,
   "metadata": {
    "slideshow": {
     "slide_type": "subslide"
    }
   },
   "outputs": [],
   "source": [
    "agol_gis = GIS(profile='AGOL_prof')\n",
    "agol_gis.users.me"
   ]
  },
  {
   "cell_type": "markdown",
   "metadata": {
    "slideshow": {
     "slide_type": "-"
    }
   },
   "source": [
    "- Now when code is shared, you share **profile** names not passwords!"
   ]
  },
  {
   "cell_type": "markdown",
   "metadata": {
    "slideshow": {
     "slide_type": "slide"
    }
   },
   "source": [
    "## Properties of the GIS\n",
    "\n",
    "- GIS systems consist of many components\n",
    "- Properties provide information on how these systems are composed\n",
    "- Accessed using the '.' (dot) notation\n",
    "- Over 90 property entries in the properties"
   ]
  },
  {
   "cell_type": "code",
   "execution_count": null,
   "metadata": {
    "slideshow": {
     "slide_type": "-"
    }
   },
   "outputs": [],
   "source": [
    "agol_gis.properties.isPortal"
   ]
  },
  {
   "cell_type": "markdown",
   "metadata": {
    "slideshow": {
     "slide_type": "-"
    }
   },
   "source": [
    "## Helper Services\n",
    "\n",
    "- Provide the tools that drive WebGIS analysis, routing, etc..\n"
   ]
  },
  {
   "cell_type": "code",
   "execution_count": null,
   "metadata": {
    "slideshow": {
     "slide_type": "slide"
    }
   },
   "outputs": [],
   "source": [
    "agol_gis.properties.helperServices"
   ]
  },
  {
   "cell_type": "markdown",
   "metadata": {
    "slideshow": {
     "slide_type": "slide"
    }
   },
   "source": [
    "## Updating Properties\n",
    "\n",
    "- Administrators of GIS systems can customize and manage their systems \n",
    "- Properties control the look/feel of the Portal and much more.\n"
   ]
  },
  {
   "cell_type": "code",
   "execution_count": null,
   "metadata": {
    "slideshow": {
     "slide_type": "subslide"
    }
   },
   "outputs": [],
   "source": [
    "gis = GIS(profile='your_enterprise_profile')\n",
    "gis.properties.name"
   ]
  },
  {
   "cell_type": "code",
   "execution_count": null,
   "metadata": {
    "slideshow": {
     "slide_type": "fragment"
    }
   },
   "outputs": [],
   "source": [
    "gis.update_properties({'name' : \"Python API Playground\"})\n",
    "gis.properties.name"
   ]
  },
  {
   "cell_type": "markdown",
   "metadata": {
    "slideshow": {
     "slide_type": "slide"
    }
   },
   "source": [
    "## Web Map \n",
    "\n",
    "- JS Widget to visualize spatial data\n",
    "- Only Supported in `Jupyter Notebooks`\n",
    "\n",
    "<br>\n",
    "\n",
    "<table>\n",
    "    <tr>\n",
    "        <td>\n",
    "            <b>Parameter</b>\n",
    "        </td>\n",
    "        <td>\n",
    "            <b>Description</b>\n",
    "        </td>\n",
    "    </tr>\n",
    "    <tr>\n",
    "        <td>\n",
    "            zoomlevel\n",
    "        </td>\n",
    "        <td>\n",
    "            The desired zoom level.\n",
    "        </td>\n",
    "    </tr>\n",
    "    <tr>\n",
    "        <td>\n",
    "            location  \n",
    "        </td>\n",
    "        <td>\n",
    "            The address or lat-long tuple of where the map is to be centered.\n",
    "        </td>\n",
    "    </tr>\n",
    "    <tr>\n",
    "        <td>\n",
    "            mode\n",
    "        </td>\n",
    "        <td>\n",
    "            Specifies the 2D and 3D map\n",
    "        </td>\n",
    "    </tr>\n",
    "        <tr>\n",
    "        <td>\n",
    "            geocoder\n",
    "        </td>\n",
    "        <td>\n",
    "            Allows users to specify a geocoder to find a given location.\n",
    "        </td>\n",
    "    </tr>\n",
    "</table>\n"
   ]
  },
  {
   "cell_type": "code",
   "execution_count": null,
   "metadata": {
    "slideshow": {
     "slide_type": "subslide"
    }
   },
   "outputs": [],
   "source": [
    "gis.map()"
   ]
  },
  {
   "cell_type": "code",
   "execution_count": null,
   "metadata": {
    "slideshow": {
     "slide_type": "subslide"
    }
   },
   "outputs": [],
   "source": [
    "m = gis.map(\"Paris\")\n",
    "m"
   ]
  },
  {
   "cell_type": "markdown",
   "metadata": {
    "slideshow": {
     "slide_type": "subslide"
    }
   },
   "source": [
    "## Setting Map Properties\n",
    "\n",
    "- **Zoom Level**\n",
    "        \n",
    "        The map widget has several properties that you can query and set, such as its zoom level, basemap, height, etc\n",
    "        \n",
    "- **Map Center**\n",
    "\n",
    "        The center property reveals the coordinates of the center of the map.\n",
    "        \n",
    "- **Basemaps**\n",
    "\n",
    "        Basemaps are layers on your map over which all other operational layers that you add are displayed"
   ]
  },
  {
   "cell_type": "code",
   "execution_count": null,
   "metadata": {
    "slideshow": {
     "slide_type": "subslide"
    }
   },
   "outputs": [],
   "source": [
    "m2 = gis.map(\"Japan\")\n",
    "m2"
   ]
  },
  {
   "cell_type": "code",
   "execution_count": null,
   "metadata": {
    "slideshow": {
     "slide_type": "-"
    }
   },
   "outputs": [],
   "source": [
    "m2.zoom = 5"
   ]
  },
  {
   "cell_type": "code",
   "execution_count": null,
   "metadata": {},
   "outputs": [],
   "source": [
    "m2.center = [43, 43]"
   ]
  },
  {
   "cell_type": "markdown",
   "metadata": {
    "slideshow": {
     "slide_type": "subslide"
    }
   },
   "source": [
    "## WebMap Basemaps\n",
    "\n",
    "- There are built in basemaps accessed by `name`\n"
   ]
  },
  {
   "cell_type": "code",
   "execution_count": null,
   "metadata": {
    "slideshow": {
     "slide_type": "subslide"
    }
   },
   "outputs": [],
   "source": [
    "m3 = gis.map()\n",
    "m3"
   ]
  },
  {
   "cell_type": "code",
   "execution_count": null,
   "metadata": {
    "slideshow": {
     "slide_type": "subslide"
    }
   },
   "outputs": [],
   "source": [
    "import time\n",
    "for basemap in m2.basemaps[::4]:\n",
    "    m3.basemap = basemap\n",
    "    time.sleep(4)"
   ]
  },
  {
   "cell_type": "code",
   "execution_count": null,
   "metadata": {
    "slideshow": {
     "slide_type": "subslide"
    }
   },
   "outputs": [],
   "source": []
  },
  {
   "cell_type": "markdown",
   "metadata": {},
   "source": [
    "## Spatial Data with WebMaps\n",
    "\n",
    "- Web Map give the ability to:\n",
    "    - `add`\n",
    "    - `remove`\n",
    "    - `list`\n",
    "   "
   ]
  },
  {
   "cell_type": "code",
   "execution_count": null,
   "metadata": {
    "slideshow": {
     "slide_type": "-"
    }
   },
   "outputs": [],
   "source": [
    "gis = GIS(profile='your_online_profile')\n",
    "item = gis.content.search(\"europe owner:esri_dm\", \"Feature Layer\", outside_org=True)[0]\n",
    "m_e = gis.map(\"Europe\")\n",
    "m_e.extent = {'spatialReference': {'latestWkid': 3857, 'wkid': 102100},\n",
    " 'xmin': -3679373.3501314605,\n",
    " 'ymin': 3875141.5180925056,\n",
    " 'xmax': 5948023.236440499,\n",
    " 'ymax': 7788717.36629249}"
   ]
  },
  {
   "cell_type": "code",
   "execution_count": null,
   "metadata": {
    "slideshow": {
     "slide_type": "subslide"
    }
   },
   "outputs": [],
   "source": [
    "m_e"
   ]
  },
  {
   "cell_type": "code",
   "execution_count": null,
   "metadata": {
    "slideshow": {
     "slide_type": "-"
    }
   },
   "outputs": [],
   "source": [
    "m_e.add_layer(item)\n",
    "m_e.legend = True"
   ]
  },
  {
   "cell_type": "code",
   "execution_count": null,
   "metadata": {
    "slideshow": {
     "slide_type": "fragment"
    }
   },
   "outputs": [],
   "source": [
    "m_e.remove_layers(m_e.layers)"
   ]
  },
  {
   "cell_type": "markdown",
   "metadata": {
    "slideshow": {
     "slide_type": "slide"
    }
   },
   "source": [
    "## GIS Version\n",
    "\n",
    "- API versions are important\n",
    "- By knowing what version you have helps what you can access"
   ]
  },
  {
   "cell_type": "code",
   "execution_count": null,
   "metadata": {},
   "outputs": [],
   "source": [
    "gis.version"
   ]
  },
  {
   "cell_type": "markdown",
   "metadata": {},
   "source": [
    "## Accessing Content\n",
    "\n",
    "- GIS can host a variety of maps, web layers, analytical tools, apps and individual files\n",
    "- This operation is performed off the `content` property\n",
    "\n"
   ]
  },
  {
   "cell_type": "code",
   "execution_count": null,
   "metadata": {},
   "outputs": [],
   "source": [
    "from arcgis.gis import ContentManager\n",
    "cm = gis.content"
   ]
  },
  {
   "cell_type": "code",
   "execution_count": null,
   "metadata": {},
   "outputs": [],
   "source": [
    "isinstance(cm, ContentManager)"
   ]
  },
  {
   "cell_type": "markdown",
   "metadata": {
    "slideshow": {
     "slide_type": "slide"
    }
   },
   "source": [
    "## Simple Search\n",
    "\n",
    "- Searches return `Items`\n",
    "- Wild card search\n",
    "- Searching inside your organization\n",
    "- Searching outside your organization"
   ]
  },
  {
   "cell_type": "code",
   "execution_count": null,
   "metadata": {},
   "outputs": [],
   "source": [
    "gis = GIS()\n",
    "search_result = gis.content.search(query=\"owner:api_data_owner\", item_type=\"Feature Layer\")\n",
    "search_result[0]"
   ]
  },
  {
   "cell_type": "markdown",
   "metadata": {
    "slideshow": {
     "slide_type": "subslide"
    }
   },
   "source": [
    "## Wild Card Search\n",
    "\n",
    "- Use can use an `*` and `?` for a single character"
   ]
  },
  {
   "cell_type": "code",
   "execution_count": null,
   "metadata": {
    "slideshow": {
     "slide_type": "subslide"
    }
   },
   "outputs": [],
   "source": [
    "search_result_USA = gis.content.search(query=\"title:USA*\")     \n",
    "search_result_USA"
   ]
  },
  {
   "cell_type": "markdown",
   "metadata": {
    "slideshow": {
     "slide_type": "subslide"
    }
   },
   "source": [
    "## Searching Outside your Organization\n",
    "\n",
    "- default is to search within the organization"
   ]
  },
  {
   "cell_type": "code",
   "execution_count": null,
   "metadata": {
    "slideshow": {
     "slide_type": "fragment"
    }
   },
   "outputs": [],
   "source": [
    "gis = GIS(profile='your_online_profile')\n",
    "gis.content.search(query=\"title:USA\")"
   ]
  },
  {
   "cell_type": "code",
   "execution_count": null,
   "metadata": {
    "slideshow": {
     "slide_type": "subslide"
    }
   },
   "outputs": [],
   "source": [
    "gis.content.search(query=\"title:USA\", outside_org=True)"
   ]
  },
  {
   "cell_type": "markdown",
   "metadata": {
    "slideshow": {
     "slide_type": "subslide"
    }
   },
   "source": [
    "## Example of Searching for Content"
   ]
  },
  {
   "cell_type": "code",
   "execution_count": null,
   "metadata": {
    "slideshow": {
     "slide_type": "-"
    }
   },
   "outputs": [],
   "source": [
    "from IPython.display import display\n",
    "for item in search_result_USA:\n",
    "    display(item)"
   ]
  },
  {
   "cell_type": "markdown",
   "metadata": {
    "slideshow": {
     "slide_type": "slide"
    }
   },
   "source": [
    "## Advanced Search\n",
    "\n",
    "- Provides ability to perform quick and large searches\n",
    "- Basic search is limited to 10,000 items\n",
    "- Full control of query syntax"
   ]
  },
  {
   "cell_type": "code",
   "execution_count": null,
   "metadata": {
    "slideshow": {
     "slide_type": "-"
    }
   },
   "outputs": [],
   "source": [
    "gis.content.advanced_search(query=\"pools\", return_count=True)"
   ]
  },
  {
   "cell_type": "markdown",
   "metadata": {
    "slideshow": {
     "slide_type": "fragment"
    }
   },
   "source": [
    "## Large Search Queries"
   ]
  },
  {
   "cell_type": "code",
   "execution_count": null,
   "metadata": {
    "slideshow": {
     "slide_type": "fragment"
    }
   },
   "outputs": [],
   "source": [
    "max_items = gis.content.advanced_search(query=\"police\", return_count=True)\n",
    "results = gis.content.advanced_search(query=\"police\", max_items=max_items, as_dict=True)"
   ]
  },
  {
   "cell_type": "code",
   "execution_count": null,
   "metadata": {
    "slideshow": {
     "slide_type": "fragment"
    }
   },
   "outputs": [],
   "source": [
    "len(results['results'])"
   ]
  },
  {
   "cell_type": "markdown",
   "metadata": {
    "slideshow": {
     "slide_type": "subslide"
    }
   },
   "source": [
    "## Example: Number of Items Added Yesterday"
   ]
  },
  {
   "cell_type": "code",
   "execution_count": 3,
   "metadata": {
    "slideshow": {
     "slide_type": "-"
    }
   },
   "outputs": [
    {
     "name": "stdout",
     "output_type": "stream",
     "text": [
      "Number of Items: 5493\n"
     ]
    }
   ],
   "source": [
    "import datetime \n",
    "from arcgis.gis import GIS\n",
    "today = datetime.datetime.now()\n",
    "yesterday = today - datetime.timedelta(days=1)\n",
    "today = int(datetime.datetime.timestamp(today)) * 1000\n",
    "yesterday = int(datetime.datetime.timestamp(yesterday)) * 1000\n",
    "n = GIS().content.advanced_search(\n",
    "    \"created: [{yesterday} TO {today}]\".format(yesterday=yesterday, today=today), \n",
    "    return_count=True)\n",
    "print(f\"Number of Items: {n}\")"
   ]
  },
  {
   "cell_type": "markdown",
   "metadata": {
    "slideshow": {
     "slide_type": "slide"
    }
   },
   "source": [
    "## Student Exercises\n",
    "\n"
   ]
  }
 ],
 "metadata": {
  "celltoolbar": "Slideshow",
  "kernelspec": {
   "display_name": "Python 3",
   "language": "python",
   "name": "python3"
  },
  "language_info": {
   "codemirror_mode": {
    "name": "ipython",
    "version": 3
   },
   "file_extension": ".py",
   "mimetype": "text/x-python",
   "name": "python",
   "nbconvert_exporter": "python",
   "pygments_lexer": "ipython3",
   "version": "3.6.8"
  }
 },
 "nbformat": 4,
 "nbformat_minor": 2
}
