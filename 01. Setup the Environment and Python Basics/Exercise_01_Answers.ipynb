{
 "cells": [
  {
   "cell_type": "markdown",
   "metadata": {},
   "source": [
    "## Lesson 1 Exercise"
   ]
  },
  {
   "cell_type": "markdown",
   "metadata": {},
   "source": [
    "1. How do you import the `GIS` class?"
   ]
  },
  {
   "cell_type": "code",
   "execution_count": 2,
   "metadata": {},
   "outputs": [],
   "source": [
    "from arcgis.gis import GIS"
   ]
  },
  {
   "cell_type": "markdown",
   "metadata": {},
   "source": [
    "2. Login to your enterprise or GIS and create a profile."
   ]
  },
  {
   "cell_type": "code",
   "execution_count": 1,
   "metadata": {},
   "outputs": [],
   "source": [
    "username = \"\"\n",
    "password = \"\"\n",
    "url = \"\"\n",
    "gis = GIS(url=url, \n",
    "          username=username, \n",
    "          password=password,\n",
    "          profile='your_online_profile')"
   ]
  },
  {
   "cell_type": "markdown",
   "metadata": {},
   "source": [
    "3. Search for the following content:\n",
    "\n",
    "    - A Feature Layer titled `Europe NUTS 1 Demographics`\n",
    "    - An Item with ID: 6ca13d3bddd34ab3b1913b393c4a7c70\n",
    "   "
   ]
  },
  {
   "cell_type": "code",
   "execution_count": 13,
   "metadata": {},
   "outputs": [
    {
     "data": {
      "text/html": [
       "<div class=\"item_container\" style=\"height: auto; overflow: hidden; border: 1px solid #cfcfcf; border-radius: 2px; background: #f6fafa; line-height: 1.21429em; padding: 10px;\">\n",
       "                    <div class=\"item_left\" style=\"width: 210px; float: left;\">\n",
       "                       <a href='https://arcgissolutions.maps.arcgis.com/home/item.html?id=1eaf85e60ae5448fb77da2318c049287' target='_blank'>\n",
       "                        <img src='data:image/png;base64,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' width='200' height='133' class=\"itemThumbnail\">\n",
       "                       </a>\n",
       "                    </div>\n",
       "\n",
       "                    <div class=\"item_right\"     style=\"float: none; width: auto; overflow: hidden;\">\n",
       "                        <a href='https://arcgissolutions.maps.arcgis.com/home/item.html?id=1eaf85e60ae5448fb77da2318c049287' target='_blank'><b>Europe NUTS 1 Demographics</b>\n",
       "                        </a>\n",
       "                        <br/>Europe NUTS 1 Demographics provides NUTS 1 level demographic and economic information for Europe.<img src='https://arcgissolutions.maps.arcgis.com/home/js/jsapi/esri/css/images/item_type_icons/featureshosted16.png' style=\"vertical-align:middle;\">Feature Layer Collection by esri_dm\n",
       "                        <br/>Last Modified: June 18, 2019\n",
       "                        <br/>0 comments, 8,495 views\n",
       "                    </div>\n",
       "                </div>\n",
       "                "
      ],
      "text/plain": [
       "<Item title:\"Europe NUTS 1 Demographics\" type:Feature Layer Collection owner:esri_dm>"
      ]
     },
     "execution_count": 13,
     "metadata": {},
     "output_type": "execute_result"
    }
   ],
   "source": [
    "# Insert code here\n",
    "gis = GIS(profile='your_online_profile')\n",
    "europe_nuts = gis.content.search(\"title:'Europe NUTS 1 Demographics'\", outside_org=True)[0]\n",
    "europe_nuts"
   ]
  },
  {
   "cell_type": "code",
   "execution_count": 21,
   "metadata": {},
   "outputs": [
    {
     "data": {
      "text/html": [
       "<div class=\"item_container\" style=\"height: auto; overflow: hidden; border: 1px solid #cfcfcf; border-radius: 2px; background: #f6fafa; line-height: 1.21429em; padding: 10px;\">\n",
       "                    <div class=\"item_left\" style=\"width: 210px; float: left;\">\n",
       "                       <a href='https://arcgissolutions.maps.arcgis.com/home/item.html?id=6ca13d3bddd34ab3b1913b393c4a7c70' target='_blank'>\n",
       "                        <img src='data:image/png;base64,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' width='200' height='133' class=\"itemThumbnail\">\n",
       "                       </a>\n",
       "                    </div>\n",
       "\n",
       "                    <div class=\"item_right\"     style=\"float: none; width: auto; overflow: hidden;\">\n",
       "                        <a href='https://arcgissolutions.maps.arcgis.com/home/item.html?id=6ca13d3bddd34ab3b1913b393c4a7c70' target='_blank'><b>Italy Regioni Boundaries 2017</b>\n",
       "                        </a>\n",
       "                        <br/>This layer shows the Regioni level boundaries of Italy in 2017. The boundaries are optimized to improve Data Enrichment analysis performance.<img src='https://arcgissolutions.maps.arcgis.com/home/js/jsapi/esri/css/images/item_type_icons/featureshosted16.png' style=\"vertical-align:middle;\">Feature Layer Collection by esri_dm\n",
       "                        <br/>Last Modified: July 11, 2019\n",
       "                        <br/>0 comments, 19,846 views\n",
       "                    </div>\n",
       "                </div>\n",
       "                "
      ],
      "text/plain": [
       "<Item title:\"Italy Regioni Boundaries 2017\" type:Feature Layer Collection owner:esri_dm>"
      ]
     },
     "execution_count": 21,
     "metadata": {},
     "output_type": "execute_result"
    }
   ],
   "source": [
    "italy_item = gis.content.get(\"6ca13d3bddd34ab3b1913b393c4a7c70\")\n",
    "italy_item"
   ]
  },
  {
   "cell_type": "markdown",
   "metadata": {},
   "source": [
    "4. Add the two `Items` above to a webmap.\n",
    "\n",
    "    - Add each item\n",
    "    - change the basemap\n",
    "    - display the legend\n",
    "    - ensure the extent is properly set before displaying to the `Europe`"
   ]
  },
  {
   "cell_type": "code",
   "execution_count": 26,
   "metadata": {},
   "outputs": [
    {
     "data": {
      "application/vnd.jupyter.widget-view+json": {
       "model_id": "a54885ad01414fdfb52a014f25938763",
       "version_major": 2,
       "version_minor": 0
      },
      "text/plain": [
       "MapView(layout=Layout(height='400px', width='100%'))"
      ]
     },
     "metadata": {},
     "output_type": "display_data"
    },
    {
     "data": {
      "text/html": [
       "<div class=\"map-static-img-preview-0267e030-b82c-448d-9642-95b72420f086\"><img src=\"\"></img></div>"
      ],
      "text/plain": [
       "<IPython.core.display.HTML object>"
      ]
     },
     "metadata": {},
     "output_type": "display_data"
    }
   ],
   "source": [
    "# Insert Code here\n",
    "m = gis.map('Europe')\n",
    "m.extent = {'spatialReference': {'latestWkid': 3857, 'wkid': 102100},\n",
    " 'xmin': -1572730.632078419,\n",
    " 'ymin': 3966693.9687210396,\n",
    " 'xmax': 4415040.415667556,\n",
    " 'ymax': 7880269.816921024}\n",
    "m"
   ]
  },
  {
   "cell_type": "code",
   "execution_count": 27,
   "metadata": {},
   "outputs": [],
   "source": [
    "m.add_layer(europe_nuts)\n",
    "m.add_layer(italy_item)"
   ]
  },
  {
   "cell_type": "code",
   "execution_count": 30,
   "metadata": {},
   "outputs": [],
   "source": [
    "m.basemap = m.basemaps[5]"
   ]
  },
  {
   "cell_type": "code",
   "execution_count": 25,
   "metadata": {},
   "outputs": [],
   "source": [
    "m.legend = True"
   ]
  },
  {
   "cell_type": "code",
   "execution_count": 16,
   "metadata": {},
   "outputs": [
    {
     "data": {
      "text/plain": [
       "{'spatialReference': {'latestWkid': 3857, 'wkid': 102100},\n",
       " 'xmin': -1572730.632078419,\n",
       " 'ymin': 3966693.9687210396,\n",
       " 'xmax': 4415040.415667556,\n",
       " 'ymax': 7880269.816921024}"
      ]
     },
     "execution_count": 16,
     "metadata": {},
     "output_type": "execute_result"
    }
   ],
   "source": [
    "m.extent"
   ]
  }
 ],
 "metadata": {
  "kernelspec": {
   "display_name": "Python 3",
   "language": "python",
   "name": "python3"
  },
  "language_info": {
   "codemirror_mode": {
    "name": "ipython",
    "version": 3
   },
   "file_extension": ".py",
   "mimetype": "text/x-python",
   "name": "python",
   "nbconvert_exporter": "python",
   "pygments_lexer": "ipython3",
   "version": "3.6.8"
  }
 },
 "nbformat": 4,
 "nbformat_minor": 2
}
