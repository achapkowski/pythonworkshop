{
 "cells": [
  {
   "cell_type": "markdown",
   "metadata": {},
   "source": [
    "# Exercise Set 2 - Content "
   ]
  },
  {
   "cell_type": "markdown",
   "metadata": {},
   "source": [
    "#### 1. Run the following code to download the dataset:\n",
    "\n",
    "- French Colleges: https://opendata.arcgis.com/datasets/e51c463be0234a86afa5d243e085cc03_12.zip\n",
    "- Traffic Accidents: https://opendata.arcgis.com/datasets/da2cb32e8c0a4007aca8b3c339408665_0.gdb\n"
   ]
  },
  {
   "cell_type": "code",
   "execution_count": null,
   "metadata": {},
   "outputs": [],
   "source": [
    "import requests, os\n",
    "urls = [(r'./data/frenchshapefile.zip', 'https://opendata.arcgis.com/datasets/e51c463be0234a86afa5d243e085cc03_12.zip'), \n",
    "        (r'./data/fgdb.zip', 'https://opendata.arcgis.com/datasets/da2cb32e8c0a4007aca8b3c339408665_0.gdb')]\n",
    "for fname, url in urls:\n",
    "    resp = requests.get(url, allow_redirects=True)\n",
    "    if os.path.isfile(fname):\n",
    "        os.remove(fname)\n",
    "    with open(fname, 'wb') as writer:\n",
    "        writer.write(resp.content)\n",
    "shapefile_data = urls[0][0]\n",
    "fgdb_data = urls[1][0]"
   ]
  },
  {
   "cell_type": "markdown",
   "metadata": {},
   "source": [
    "#### 2.  Publish each dataset to your organization.\n",
    "\n",
    "- For the accidents item, set the thumbnail to `./data/car_accidents.png`"
   ]
  },
  {
   "cell_type": "code",
   "execution_count": null,
   "metadata": {},
   "outputs": [],
   "source": [
    "# insert add and publish code here for the two files\n",
    "from arcgis.gis import GIS"
   ]
  },
  {
   "cell_type": "code",
   "execution_count": null,
   "metadata": {},
   "outputs": [],
   "source": [
    "gis = GIS(profile='your_online_profile')\n",
    "for f in ['frenchshapefile.zip', 'fgdb.zip']:\n",
    "    items = gis.content.search(f)\n",
    "    print(items)\n",
    "    if len(items) > 0:\n",
    "        print(items[0].delete())"
   ]
  },
  {
   "cell_type": "code",
   "execution_count": null,
   "metadata": {},
   "outputs": [],
   "source": [
    "college__item = (gis\n",
    "                 .content\n",
    "                 .add({'title' : \"French_Colleges\", \n",
    "                       'type' : 'Shapefile', \n",
    "                       'tags' : \"College, University\"}, \n",
    "                 data=shapefile_data))"
   ]
  },
  {
   "cell_type": "code",
   "execution_count": null,
   "metadata": {},
   "outputs": [],
   "source": [
    "college__item__published = college__item.publish(publish_parameters={'name' : \"FrenchColleges\"})\n",
    "college__item__published"
   ]
  },
  {
   "cell_type": "code",
   "execution_count": null,
   "metadata": {},
   "outputs": [],
   "source": [
    "traffic_published_item = (gis\n",
    "                          .content\n",
    "                          .add({'title' : \"Traffic_Incidents\", \n",
    "                                'type' : 'File Geodatabase', \n",
    "                                'tags' : \"Traffic, Crash\"}, \n",
    "                               data=fgdb_data,\n",
    "                              thumbnail=\"./data/car_accidents.png\")\n",
    "                           .publish()\n",
    "                         )"
   ]
  },
  {
   "cell_type": "code",
   "execution_count": null,
   "metadata": {},
   "outputs": [],
   "source": [
    "traffic_published_item"
   ]
  },
  {
   "cell_type": "markdown",
   "metadata": {},
   "source": [
    "#### 3.  Create a Group and share the items with that group\n",
    "\n",
    "- Call the Group: `EuropeanDevTutorial`\n",
    "- Add 10 members to the group\n",
    "- share the published item from question `2` to the group\n",
    "\n"
   ]
  },
  {
   "cell_type": "code",
   "execution_count": null,
   "metadata": {},
   "outputs": [],
   "source": [
    "try:\n",
    "    gis.groups.search(\"EuropeanDevTutorial\")[0].delete()\n",
    "except: pass"
   ]
  },
  {
   "cell_type": "code",
   "execution_count": null,
   "metadata": {},
   "outputs": [],
   "source": [
    "# insert code here\n",
    "grp = gis.groups.create(title='EuropeanDevTutorial',\n",
    "                        tags='erase, me',\n",
    "                        description=\"European DevSummit Demo Group\",)\n",
    "grp"
   ]
  },
  {
   "cell_type": "code",
   "execution_count": null,
   "metadata": {},
   "outputs": [],
   "source": [
    "traffic_published_item.share(groups=[grp])"
   ]
  },
  {
   "cell_type": "code",
   "execution_count": null,
   "metadata": {},
   "outputs": [],
   "source": [
    "college__item__published.share(groups=[grp])"
   ]
  },
  {
   "cell_type": "code",
   "execution_count": null,
   "metadata": {},
   "outputs": [],
   "source": [
    "grp.add_users(gis.content.search(\"*\")[:10])"
   ]
  },
  {
   "cell_type": "markdown",
   "metadata": {},
   "source": [
    "#### 4. Create a Web Map and add the two layers to the map.\n",
    "\n",
    "    - Set the extent to: `-30498.37428577314,5490739.271321731,2376350.772357217,6469133.233371727`\n",
    "    - Ensure the extent is 3857\n",
    "    - use a dictionary data structure to do this\n",
    "    \n",
    "    - Once added, turn on the legend.\n",
    "    \n",
    "    - Change the `basemap` to light gray\n",
    "\n",
    "\n",
    "\n",
    "    "
   ]
  },
  {
   "cell_type": "code",
   "execution_count": 2,
   "metadata": {},
   "outputs": [],
   "source": [
    "from arcgis.gis import GIS\n",
    "gis = GIS()\n",
    "m = gis.map()\n",
    "m.add_layer?"
   ]
  },
  {
   "cell_type": "code",
   "execution_count": null,
   "metadata": {},
   "outputs": [],
   "source": [
    "m.extent = {'spatialReference': {'latestWkid': 3857, 'wkid': 102100},\n",
    " 'xmin': -30498.37428577314,\n",
    " 'ymin': 5490739.271321731,\n",
    " 'xmax': 2376350.772357217,\n",
    " 'ymax': 6469133.233371727}\n",
    "m.legend = True\n",
    "m.basemap = 'gray'\n",
    "m"
   ]
  },
  {
   "cell_type": "code",
   "execution_count": null,
   "metadata": {},
   "outputs": [],
   "source": [
    "m.add_layer(traffic_published_item)\n"
   ]
  },
  {
   "cell_type": "markdown",
   "metadata": {},
   "source": [
    "#### 5. How can we update the symbology on the layer? "
   ]
  },
  {
   "cell_type": "markdown",
   "metadata": {},
   "source": [
    "type answer here (this is a discussion question)"
   ]
  }
 ],
 "metadata": {
  "kernelspec": {
   "display_name": "Python 3",
   "language": "python",
   "name": "python3"
  },
  "language_info": {
   "codemirror_mode": {
    "name": "ipython",
    "version": 3
   },
   "file_extension": ".py",
   "mimetype": "text/x-python",
   "name": "python",
   "nbconvert_exporter": "python",
   "pygments_lexer": "ipython3",
   "version": "3.6.8"
  }
 },
 "nbformat": 4,
 "nbformat_minor": 2
}
