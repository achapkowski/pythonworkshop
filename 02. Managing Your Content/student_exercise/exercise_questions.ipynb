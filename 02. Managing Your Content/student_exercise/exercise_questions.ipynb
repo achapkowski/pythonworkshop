{
 "cells": [
  {
   "cell_type": "markdown",
   "metadata": {},
   "source": [
    "# Exercise Set 2 - Content "
   ]
  },
  {
   "cell_type": "markdown",
   "metadata": {},
   "source": [
    "#### 1. Run the following code to download the dataset:\n",
    "\n",
    "- French Colleges: https://opendata.arcgis.com/datasets/e51c463be0234a86afa5d243e085cc03_12.zip\n",
    "- Traffic Accidents: https://opendata.arcgis.com/datasets/da2cb32e8c0a4007aca8b3c339408665_0.gdb\n"
   ]
  },
  {
   "cell_type": "code",
   "execution_count": null,
   "metadata": {},
   "outputs": [],
   "source": [
    "import requests, os\n",
    "urls = [(r'./data/shapefile.zip', 'https://opendata.arcgis.com/datasets/e51c463be0234a86afa5d243e085cc03_12.zip'), \n",
    "        (r'./data/fgdb.zip', 'https://opendata.arcgis.com/datasets/da2cb32e8c0a4007aca8b3c339408665_0.gdb')]\n",
    "for fname, url in urls:\n",
    "    resp = requests.get(url, allow_redirects=True)\n",
    "    if os.path.isfile(fname):\n",
    "        os.remove(fname)\n",
    "    with open(fname, 'wb') as writer:\n",
    "        writer.write(resp.content)\n",
    "shapefile_data = urls[0][0]\n",
    "fgdb_data = urls[1][0]"
   ]
  },
  {
   "cell_type": "markdown",
   "metadata": {},
   "source": [
    "#### 2.  Publish each dataset to your organization.\n",
    "\n",
    "- For the accidents item, set the thumbnail to `./data/car_accidents.png`"
   ]
  },
  {
   "cell_type": "code",
   "execution_count": null,
   "metadata": {},
   "outputs": [],
   "source": [
    "# insert add and publish code here for the two files\n",
    "from arcgis.gis import GIS"
   ]
  },
  {
   "cell_type": "markdown",
   "metadata": {},
   "source": [
    "#### 3.  Create a Group and share the items with that group\n",
    "\n",
    "- Call the Group: `EuropeanDevTutorial`\n",
    "- Add 10 members to the group\n",
    "- share the published item from question `2` to the group\n",
    "\n"
   ]
  },
  {
   "cell_type": "code",
   "execution_count": null,
   "metadata": {},
   "outputs": [],
   "source": [
    "# insert code here"
   ]
  },
  {
   "cell_type": "markdown",
   "metadata": {},
   "source": [
    "#### 4. Create a Web Map and add the two layers to the map.\n",
    "\n",
    "    - Set the extent to: `-30498.37428577314,5490739.271321731,2376350.772357217,6469133.233371727`\n",
    "    - Ensure the extent is 3857\n",
    "    - use a dictionary data structure to do this\n",
    "    \n",
    "    - Once added, turn on the legend.\n",
    "    \n",
    "    - Change the `basemap` to light gray\n",
    "\n",
    "\n",
    "\n",
    "    "
   ]
  },
  {
   "cell_type": "code",
   "execution_count": null,
   "metadata": {},
   "outputs": [],
   "source": [
    "m = gis.map()"
   ]
  },
  {
   "cell_type": "markdown",
   "metadata": {},
   "source": [
    "#### 5. How can we update the symbology on the layer? "
   ]
  },
  {
   "cell_type": "markdown",
   "metadata": {},
   "source": [
    "type answer here (this is a discussion question)"
   ]
  }
 ],
 "metadata": {
  "kernelspec": {
   "display_name": "Python 3",
   "language": "python",
   "name": "python3"
  },
  "language_info": {
   "codemirror_mode": {
    "name": "ipython",
    "version": 3
   },
   "file_extension": ".py",
   "mimetype": "text/x-python",
   "name": "python",
   "nbconvert_exporter": "python",
   "pygments_lexer": "ipython3",
   "version": "3.6.8"
  }
 },
 "nbformat": 4,
 "nbformat_minor": 2
}
