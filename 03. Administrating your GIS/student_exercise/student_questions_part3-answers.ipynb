{
 "cells": [
  {
   "cell_type": "markdown",
   "metadata": {},
   "source": [
    "## Administrating Your Web GIS Section"
   ]
  },
  {
   "cell_type": "markdown",
   "metadata": {},
   "source": [
    "1. Using the `advanced_search` calculate the number of publicly items created in the last 24-hours."
   ]
  },
  {
   "cell_type": "code",
   "execution_count": null,
   "metadata": {},
   "outputs": [],
   "source": [
    "import datetime \n",
    "from arcgis.gis import GIS\n",
    "today = datetime.datetime.now()\n",
    "yesterday = today - datetime.timedelta(days=1)\n",
    "today = int(datetime.datetime.timestamp(today)) * 1000\n",
    "yesterday = int(datetime.datetime.timestamp(yesterday)) * 1000\n",
    "items = GIS().content.advanced_search(\"created: [{yesterday} TO {today}]\".format(yesterday=yesterday, today=today), \n",
    "                                      return_count=True)\n",
    "print(\"Number of Items: {n}\".format(n=items))"
   ]
  },
  {
   "cell_type": "markdown",
   "metadata": {},
   "source": [
    "2. What is the importance of the `properties` method on the `GIS` object?"
   ]
  },
  {
   "cell_type": "markdown",
   "metadata": {},
   "source": [
    "In general the `properties` method provides a host of information about the organization."
   ]
  },
  {
   "cell_type": "markdown",
   "metadata": {},
   "source": [
    "3. Managing content is essential to managing portal.  As an administrator you have the ability to examine and control what users do to items within your organization.  Write logic to walk users in your organization and list their content in a easy to read format.  "
   ]
  },
  {
   "cell_type": "code",
   "execution_count": null,
   "metadata": {},
   "outputs": [],
   "source": [
    "from arcgis.gis import GIS\n",
    "gis = GIS(profile='your_online_profile', verify_cert=False)\n",
    "users = gis.users.search(\"*\")\n",
    "count = 0\n",
    "for user in users:\n",
    "    print(\"Examining {}\".format(user.username))\n",
    "    user_count = 0\n",
    "    folders = [fld['title'] for fld in user.folders] + [None]\n",
    "    for folder in folders:\n",
    "        print('--- Folder: {}'.format(folder))\n",
    "        uitems = len(user.items(folder=folder, max_items=10000))\n",
    "        print(\"------ Number of Items: {}\".format(uitems))\n",
    "        user_count += uitems\n",
    "    print('--------- Total Items: {}'.format(user_count))\n",
    "    count += user_count\n",
    "print('*** TOTAL ORG ITEMS: {} ***'.format(count))"
   ]
  },
  {
   "cell_type": "markdown",
   "metadata": {},
   "source": [
    "4a. How do you access the administrator side of the `GIS`?  \n",
    "4b. What does kinds of things can you managing in this section?"
   ]
  },
  {
   "cell_type": "code",
   "execution_count": null,
   "metadata": {},
   "outputs": [],
   "source": [
    "# Insert code here\n",
    "gis = GIS(profile='your_online_profile')\n",
    "admin_agol = gis.admin\n",
    "admin_agol"
   ]
  },
  {
   "cell_type": "code",
   "execution_count": null,
   "metadata": {},
   "outputs": [],
   "source": [
    "gis = GIS(profile='your_enterprise_profile')\n",
    "admin_ent = gis.admin\n",
    "admin_ent"
   ]
  },
  {
   "cell_type": "markdown",
   "metadata": {},
   "source": [
    "The `admin` property allows for the fine control of organizations.  Locally hosted portals provide full control of the site while AGOL only provides a subset of functionality.  "
   ]
  },
  {
   "cell_type": "markdown",
   "metadata": {},
   "source": [
    "5. (CHALLENGE) How can you see the activity of users on ArcGIS Online?  Create a graph to show the top 4 active users on your organization.\n"
   ]
  },
  {
   "cell_type": "markdown",
   "metadata": {},
   "source": [
    "`History` on the administration properties allows for you to see in-depth what a user is doing on your site."
   ]
  },
  {
   "cell_type": "code",
   "execution_count": null,
   "metadata": {},
   "outputs": [],
   "source": [
    "%matplotlib inline\n",
    "import pandas as pd\n",
    "gis = GIS(profile='your_online_profile')\n",
    "admin = gis.admin\n",
    "delta = datetime.timedelta(days=5)\n",
    "start_date = datetime.datetime.now() - delta\n",
    "df = pd.read_csv(admin.history(start_date, 10000))\n",
    "df.actor.value_counts().nlargest(5).plot('bar')"
   ]
  }
 ],
 "metadata": {
  "kernelspec": {
   "display_name": "Python 3",
   "language": "python",
   "name": "python3"
  },
  "language_info": {
   "codemirror_mode": {
    "name": "ipython",
    "version": 3
   },
   "file_extension": ".py",
   "mimetype": "text/x-python",
   "name": "python",
   "nbconvert_exporter": "python",
   "pygments_lexer": "ipython3",
   "version": "3.6.8"
  }
 },
 "nbformat": 4,
 "nbformat_minor": 2
}
